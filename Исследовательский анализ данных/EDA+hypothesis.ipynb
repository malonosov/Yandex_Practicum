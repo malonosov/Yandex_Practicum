{
 "cells": [
  {
   "cell_type": "markdown",
   "id": "ea9e73b7",
   "metadata": {},
   "source": [
    "   #             \"Исследовательский анализ данных и проверка гипотез\""
   ]
  },
  {
   "cell_type": "markdown",
   "id": "8fa9ee20",
   "metadata": {},
   "source": [
    "#### <font color='red'>Общее описание:</font>\n",
    "Из открытых источников найдем данные по продажам игр, оценкам пользователей и экспертов, жанрам и платформам. Проведем исследовательский анализ на предмет влияния различных факторов на успешность той или иной игры. Проверим гипотезы, которые помогут нам провести удачные рекламные компании и продвинуть игру в рейтинге."
   ]
  },
  {
   "cell_type": "markdown",
   "id": "bc61a237",
   "metadata": {},
   "source": [
    "   ##                                                         Содержание\n",
    "\n",
    "## 1. Подготовка данных\n",
    "#### 1.1 Импорт необходимых библиотек\n",
    "#### 1.2 Формирование df\n",
    "#### 1.3 Общая информация по столбцам\n",
    "#### 1.4 Нижний регистр\n",
    "#### 1.5 Преобразование типов столбцов\n",
    "#### 1.6 Исследование пропусков в данных\n",
    "#### 1.7 Суммарные продажи\n",
    "## 2. Исследовательский анализ данных\n",
    "#### 2.1 Определение количества игр по годам\n",
    "#### 2.2 Зависимость продаж от платформы\n",
    "#### 2.3 Зависимость продаж от релиза\n",
    "#### 2.4 Зависимость продаж PS от релиза\n",
    "#### 2.5 Boxplot по платформам\n",
    "#### 2.6 Зависимость продаж от оценки\n",
    "#### 2.7 Распределение по жанрам\n",
    "## 3. Портрет пользователя каждого региона - Северной Америке (NA), Европы (EU) и Японии (JP)\n",
    "#### 3.1 Самые популярные платформы для каждого региона\n",
    "#### 3.2 Определим самые популярные жанры для каждого региона\n",
    "#### 3.3 Влияние рейтинга ESRB на продажи в отдельном регионе\n",
    "## 4. Проверка гипотез\n",
    "#### 4.1 Проверка гипотезы №1\n",
    "#### 4.2 Проверка гипотезы №2\n",
    "## 5. Вывод"
   ]
  },
  {
   "cell_type": "markdown",
   "id": "9f1dab15",
   "metadata": {},
   "source": [
    "## 1. Подготовка данных"
   ]
  },
  {
   "cell_type": "markdown",
   "id": "ad7b6742",
   "metadata": {},
   "source": [
    "### 1.1 Импорт необходимых библиотек"
   ]
  },
  {
   "cell_type": "code",
   "execution_count": 1,
   "id": "908ae808",
   "metadata": {},
   "outputs": [],
   "source": [
    "import pandas as pd\n",
    "import matplotlib.pyplot as plt\n",
    "import os\n",
    "import numpy as np\n",
    "from scipy import stats as st"
   ]
  },
  {
   "cell_type": "markdown",
   "id": "30594b5a",
   "metadata": {},
   "source": [
    "### 1.2 Формирование df"
   ]
  },
  {
   "cell_type": "code",
   "execution_count": 2,
   "id": "3f17ec75",
   "metadata": {},
   "outputs": [],
   "source": [
    "pth1 = '/datasets/games.csv'\n",
    "pth2 = 'C:\\\\Users\\\\RDU\\\\Downloads\\\\games.csv'\n",
    "pth3 = 'C:\\\\Users\\\\Aleksey\\\\Downloads\\\\games.csv'\n",
    "\n",
    "if os.path.exists(pth1):\n",
    "    df = pd.read_csv(pth1)#, sep='\\t')\n",
    "elif os.path.exists(pth2):\n",
    "    df = pd.read_csv(pth2)#, sep='\\t')\n",
    "elif os.path.exists(pth3):\n",
    "    df = pd.read_csv(pth3)#, sep='\\t')\n",
    "else:\n",
    "    print('Something is wrong')"
   ]
  },
  {
   "cell_type": "code",
   "execution_count": 3,
   "id": "691f12ba",
   "metadata": {},
   "outputs": [
    {
     "data": {
      "text/html": [
       "<div>\n",
       "<style scoped>\n",
       "    .dataframe tbody tr th:only-of-type {\n",
       "        vertical-align: middle;\n",
       "    }\n",
       "\n",
       "    .dataframe tbody tr th {\n",
       "        vertical-align: top;\n",
       "    }\n",
       "\n",
       "    .dataframe thead th {\n",
       "        text-align: right;\n",
       "    }\n",
       "</style>\n",
       "<table border=\"1\" class=\"dataframe\">\n",
       "  <thead>\n",
       "    <tr style=\"text-align: right;\">\n",
       "      <th></th>\n",
       "      <th>Name</th>\n",
       "      <th>Platform</th>\n",
       "      <th>Year_of_Release</th>\n",
       "      <th>Genre</th>\n",
       "      <th>NA_sales</th>\n",
       "      <th>EU_sales</th>\n",
       "      <th>JP_sales</th>\n",
       "      <th>Other_sales</th>\n",
       "      <th>Critic_Score</th>\n",
       "      <th>User_Score</th>\n",
       "      <th>Rating</th>\n",
       "    </tr>\n",
       "  </thead>\n",
       "  <tbody>\n",
       "    <tr>\n",
       "      <th>0</th>\n",
       "      <td>Wii Sports</td>\n",
       "      <td>Wii</td>\n",
       "      <td>2006.0</td>\n",
       "      <td>Sports</td>\n",
       "      <td>41.36</td>\n",
       "      <td>28.96</td>\n",
       "      <td>3.77</td>\n",
       "      <td>8.45</td>\n",
       "      <td>76.0</td>\n",
       "      <td>8</td>\n",
       "      <td>E</td>\n",
       "    </tr>\n",
       "    <tr>\n",
       "      <th>1</th>\n",
       "      <td>Super Mario Bros.</td>\n",
       "      <td>NES</td>\n",
       "      <td>1985.0</td>\n",
       "      <td>Platform</td>\n",
       "      <td>29.08</td>\n",
       "      <td>3.58</td>\n",
       "      <td>6.81</td>\n",
       "      <td>0.77</td>\n",
       "      <td>NaN</td>\n",
       "      <td>NaN</td>\n",
       "      <td>NaN</td>\n",
       "    </tr>\n",
       "    <tr>\n",
       "      <th>2</th>\n",
       "      <td>Mario Kart Wii</td>\n",
       "      <td>Wii</td>\n",
       "      <td>2008.0</td>\n",
       "      <td>Racing</td>\n",
       "      <td>15.68</td>\n",
       "      <td>12.76</td>\n",
       "      <td>3.79</td>\n",
       "      <td>3.29</td>\n",
       "      <td>82.0</td>\n",
       "      <td>8.3</td>\n",
       "      <td>E</td>\n",
       "    </tr>\n",
       "    <tr>\n",
       "      <th>3</th>\n",
       "      <td>Wii Sports Resort</td>\n",
       "      <td>Wii</td>\n",
       "      <td>2009.0</td>\n",
       "      <td>Sports</td>\n",
       "      <td>15.61</td>\n",
       "      <td>10.93</td>\n",
       "      <td>3.28</td>\n",
       "      <td>2.95</td>\n",
       "      <td>80.0</td>\n",
       "      <td>8</td>\n",
       "      <td>E</td>\n",
       "    </tr>\n",
       "    <tr>\n",
       "      <th>4</th>\n",
       "      <td>Pokemon Red/Pokemon Blue</td>\n",
       "      <td>GB</td>\n",
       "      <td>1996.0</td>\n",
       "      <td>Role-Playing</td>\n",
       "      <td>11.27</td>\n",
       "      <td>8.89</td>\n",
       "      <td>10.22</td>\n",
       "      <td>1.00</td>\n",
       "      <td>NaN</td>\n",
       "      <td>NaN</td>\n",
       "      <td>NaN</td>\n",
       "    </tr>\n",
       "  </tbody>\n",
       "</table>\n",
       "</div>"
      ],
      "text/plain": [
       "                       Name Platform  Year_of_Release         Genre  NA_sales  \\\n",
       "0                Wii Sports      Wii           2006.0        Sports     41.36   \n",
       "1         Super Mario Bros.      NES           1985.0      Platform     29.08   \n",
       "2            Mario Kart Wii      Wii           2008.0        Racing     15.68   \n",
       "3         Wii Sports Resort      Wii           2009.0        Sports     15.61   \n",
       "4  Pokemon Red/Pokemon Blue       GB           1996.0  Role-Playing     11.27   \n",
       "\n",
       "   EU_sales  JP_sales  Other_sales  Critic_Score User_Score Rating  \n",
       "0     28.96      3.77         8.45          76.0          8      E  \n",
       "1      3.58      6.81         0.77           NaN        NaN    NaN  \n",
       "2     12.76      3.79         3.29          82.0        8.3      E  \n",
       "3     10.93      3.28         2.95          80.0          8      E  \n",
       "4      8.89     10.22         1.00           NaN        NaN    NaN  "
      ]
     },
     "execution_count": 3,
     "metadata": {},
     "output_type": "execute_result"
    }
   ],
   "source": [
    "df.head()"
   ]
  },
  {
   "cell_type": "markdown",
   "id": "2cd2a350",
   "metadata": {},
   "source": [
    "### 1.3 Общая информация по столбцам"
   ]
  },
  {
   "cell_type": "code",
   "execution_count": 4,
   "id": "b06e136e",
   "metadata": {},
   "outputs": [
    {
     "name": "stdout",
     "output_type": "stream",
     "text": [
      "<class 'pandas.core.frame.DataFrame'>\n",
      "RangeIndex: 16715 entries, 0 to 16714\n",
      "Data columns (total 11 columns):\n",
      " #   Column           Non-Null Count  Dtype  \n",
      "---  ------           --------------  -----  \n",
      " 0   Name             16713 non-null  object \n",
      " 1   Platform         16715 non-null  object \n",
      " 2   Year_of_Release  16446 non-null  float64\n",
      " 3   Genre            16713 non-null  object \n",
      " 4   NA_sales         16715 non-null  float64\n",
      " 5   EU_sales         16715 non-null  float64\n",
      " 6   JP_sales         16715 non-null  float64\n",
      " 7   Other_sales      16715 non-null  float64\n",
      " 8   Critic_Score     8137 non-null   float64\n",
      " 9   User_Score       10014 non-null  object \n",
      " 10  Rating           9949 non-null   object \n",
      "dtypes: float64(6), object(5)\n",
      "memory usage: 1.4+ MB\n"
     ]
    }
   ],
   "source": [
    "df.info();"
   ]
  },
  {
   "cell_type": "code",
   "execution_count": 5,
   "id": "9386c01b",
   "metadata": {},
   "outputs": [
    {
     "data": {
      "text/html": [
       "<div>\n",
       "<style scoped>\n",
       "    .dataframe tbody tr th:only-of-type {\n",
       "        vertical-align: middle;\n",
       "    }\n",
       "\n",
       "    .dataframe tbody tr th {\n",
       "        vertical-align: top;\n",
       "    }\n",
       "\n",
       "    .dataframe thead th {\n",
       "        text-align: right;\n",
       "    }\n",
       "</style>\n",
       "<table border=\"1\" class=\"dataframe\">\n",
       "  <thead>\n",
       "    <tr style=\"text-align: right;\">\n",
       "      <th></th>\n",
       "      <th>Name</th>\n",
       "      <th>Platform</th>\n",
       "      <th>Year_of_Release</th>\n",
       "      <th>Genre</th>\n",
       "      <th>NA_sales</th>\n",
       "      <th>EU_sales</th>\n",
       "      <th>JP_sales</th>\n",
       "      <th>Other_sales</th>\n",
       "      <th>Critic_Score</th>\n",
       "      <th>User_Score</th>\n",
       "      <th>Rating</th>\n",
       "    </tr>\n",
       "  </thead>\n",
       "  <tbody>\n",
       "    <tr>\n",
       "      <th>119</th>\n",
       "      <td>Zumba Fitness</td>\n",
       "      <td>Wii</td>\n",
       "      <td>2010.0</td>\n",
       "      <td>Sports</td>\n",
       "      <td>3.45</td>\n",
       "      <td>2.59</td>\n",
       "      <td>0.0</td>\n",
       "      <td>0.66</td>\n",
       "      <td>NaN</td>\n",
       "      <td>tbd</td>\n",
       "      <td>E</td>\n",
       "    </tr>\n",
       "    <tr>\n",
       "      <th>301</th>\n",
       "      <td>Namco Museum: 50th Anniversary</td>\n",
       "      <td>PS2</td>\n",
       "      <td>2005.0</td>\n",
       "      <td>Misc</td>\n",
       "      <td>2.08</td>\n",
       "      <td>1.35</td>\n",
       "      <td>0.0</td>\n",
       "      <td>0.54</td>\n",
       "      <td>61.0</td>\n",
       "      <td>tbd</td>\n",
       "      <td>E10+</td>\n",
       "    </tr>\n",
       "    <tr>\n",
       "      <th>520</th>\n",
       "      <td>Zumba Fitness 2</td>\n",
       "      <td>Wii</td>\n",
       "      <td>2011.0</td>\n",
       "      <td>Sports</td>\n",
       "      <td>1.51</td>\n",
       "      <td>1.03</td>\n",
       "      <td>0.0</td>\n",
       "      <td>0.27</td>\n",
       "      <td>NaN</td>\n",
       "      <td>tbd</td>\n",
       "      <td>T</td>\n",
       "    </tr>\n",
       "    <tr>\n",
       "      <th>645</th>\n",
       "      <td>uDraw Studio</td>\n",
       "      <td>Wii</td>\n",
       "      <td>2010.0</td>\n",
       "      <td>Misc</td>\n",
       "      <td>1.65</td>\n",
       "      <td>0.57</td>\n",
       "      <td>0.0</td>\n",
       "      <td>0.20</td>\n",
       "      <td>71.0</td>\n",
       "      <td>tbd</td>\n",
       "      <td>E</td>\n",
       "    </tr>\n",
       "    <tr>\n",
       "      <th>657</th>\n",
       "      <td>Frogger's Adventures: Temple of the Frog</td>\n",
       "      <td>GBA</td>\n",
       "      <td>NaN</td>\n",
       "      <td>Adventure</td>\n",
       "      <td>2.15</td>\n",
       "      <td>0.18</td>\n",
       "      <td>0.0</td>\n",
       "      <td>0.07</td>\n",
       "      <td>73.0</td>\n",
       "      <td>tbd</td>\n",
       "      <td>E</td>\n",
       "    </tr>\n",
       "    <tr>\n",
       "      <th>...</th>\n",
       "      <td>...</td>\n",
       "      <td>...</td>\n",
       "      <td>...</td>\n",
       "      <td>...</td>\n",
       "      <td>...</td>\n",
       "      <td>...</td>\n",
       "      <td>...</td>\n",
       "      <td>...</td>\n",
       "      <td>...</td>\n",
       "      <td>...</td>\n",
       "      <td>...</td>\n",
       "    </tr>\n",
       "    <tr>\n",
       "      <th>16695</th>\n",
       "      <td>Planet Monsters</td>\n",
       "      <td>GBA</td>\n",
       "      <td>2001.0</td>\n",
       "      <td>Action</td>\n",
       "      <td>0.01</td>\n",
       "      <td>0.00</td>\n",
       "      <td>0.0</td>\n",
       "      <td>0.00</td>\n",
       "      <td>67.0</td>\n",
       "      <td>tbd</td>\n",
       "      <td>E</td>\n",
       "    </tr>\n",
       "    <tr>\n",
       "      <th>16697</th>\n",
       "      <td>Bust-A-Move 3000</td>\n",
       "      <td>GC</td>\n",
       "      <td>2003.0</td>\n",
       "      <td>Puzzle</td>\n",
       "      <td>0.01</td>\n",
       "      <td>0.00</td>\n",
       "      <td>0.0</td>\n",
       "      <td>0.00</td>\n",
       "      <td>53.0</td>\n",
       "      <td>tbd</td>\n",
       "      <td>E</td>\n",
       "    </tr>\n",
       "    <tr>\n",
       "      <th>16698</th>\n",
       "      <td>Mega Brain Boost</td>\n",
       "      <td>DS</td>\n",
       "      <td>2008.0</td>\n",
       "      <td>Puzzle</td>\n",
       "      <td>0.01</td>\n",
       "      <td>0.00</td>\n",
       "      <td>0.0</td>\n",
       "      <td>0.00</td>\n",
       "      <td>48.0</td>\n",
       "      <td>tbd</td>\n",
       "      <td>E</td>\n",
       "    </tr>\n",
       "    <tr>\n",
       "      <th>16704</th>\n",
       "      <td>Plushees</td>\n",
       "      <td>DS</td>\n",
       "      <td>2008.0</td>\n",
       "      <td>Simulation</td>\n",
       "      <td>0.01</td>\n",
       "      <td>0.00</td>\n",
       "      <td>0.0</td>\n",
       "      <td>0.00</td>\n",
       "      <td>NaN</td>\n",
       "      <td>tbd</td>\n",
       "      <td>E</td>\n",
       "    </tr>\n",
       "    <tr>\n",
       "      <th>16706</th>\n",
       "      <td>Men in Black II: Alien Escape</td>\n",
       "      <td>GC</td>\n",
       "      <td>2003.0</td>\n",
       "      <td>Shooter</td>\n",
       "      <td>0.01</td>\n",
       "      <td>0.00</td>\n",
       "      <td>0.0</td>\n",
       "      <td>0.00</td>\n",
       "      <td>NaN</td>\n",
       "      <td>tbd</td>\n",
       "      <td>T</td>\n",
       "    </tr>\n",
       "  </tbody>\n",
       "</table>\n",
       "<p>2424 rows × 11 columns</p>\n",
       "</div>"
      ],
      "text/plain": [
       "                                           Name Platform  Year_of_Release  \\\n",
       "119                               Zumba Fitness      Wii           2010.0   \n",
       "301              Namco Museum: 50th Anniversary      PS2           2005.0   \n",
       "520                             Zumba Fitness 2      Wii           2011.0   \n",
       "645                                uDraw Studio      Wii           2010.0   \n",
       "657    Frogger's Adventures: Temple of the Frog      GBA              NaN   \n",
       "...                                         ...      ...              ...   \n",
       "16695                           Planet Monsters      GBA           2001.0   \n",
       "16697                          Bust-A-Move 3000       GC           2003.0   \n",
       "16698                          Mega Brain Boost       DS           2008.0   \n",
       "16704                                  Plushees       DS           2008.0   \n",
       "16706             Men in Black II: Alien Escape       GC           2003.0   \n",
       "\n",
       "            Genre  NA_sales  EU_sales  JP_sales  Other_sales  Critic_Score  \\\n",
       "119        Sports      3.45      2.59       0.0         0.66           NaN   \n",
       "301          Misc      2.08      1.35       0.0         0.54          61.0   \n",
       "520        Sports      1.51      1.03       0.0         0.27           NaN   \n",
       "645          Misc      1.65      0.57       0.0         0.20          71.0   \n",
       "657     Adventure      2.15      0.18       0.0         0.07          73.0   \n",
       "...           ...       ...       ...       ...          ...           ...   \n",
       "16695      Action      0.01      0.00       0.0         0.00          67.0   \n",
       "16697      Puzzle      0.01      0.00       0.0         0.00          53.0   \n",
       "16698      Puzzle      0.01      0.00       0.0         0.00          48.0   \n",
       "16704  Simulation      0.01      0.00       0.0         0.00           NaN   \n",
       "16706     Shooter      0.01      0.00       0.0         0.00           NaN   \n",
       "\n",
       "      User_Score Rating  \n",
       "119          tbd      E  \n",
       "301          tbd   E10+  \n",
       "520          tbd      T  \n",
       "645          tbd      E  \n",
       "657          tbd      E  \n",
       "...          ...    ...  \n",
       "16695        tbd      E  \n",
       "16697        tbd      E  \n",
       "16698        tbd      E  \n",
       "16704        tbd      E  \n",
       "16706        tbd      T  \n",
       "\n",
       "[2424 rows x 11 columns]"
      ]
     },
     "execution_count": 5,
     "metadata": {},
     "output_type": "execute_result"
    }
   ],
   "source": [
    "df.query('User_Score == \"tbd\"')"
   ]
  },
  {
   "cell_type": "markdown",
   "id": "d25354f3",
   "metadata": {},
   "source": [
    "В столбце User_Score довольно много значений tbd. Вариантов у этой аббревиатуры несколько - to be determined или to be discussed. Оценка пользователей для данной игры отсутствует. Поменять ее на иное значение не имеет смысла, это может исказить дальнейший анализ. "
   ]
  },
  {
   "cell_type": "markdown",
   "id": "16fe77d8",
   "metadata": {},
   "source": [
    "Больше всего пропусков в столбцах с оценкой критиков и пользователей и рейтинга. Совершенно точно потребуется сменить тип данных для User_Score на Float. Также можно сменить типы данных в  Year_of_Release и Critic_Score на int. Но для начала приведем названия столбцов к нижнему регистру."
   ]
  },
  {
   "cell_type": "markdown",
   "id": "25c34339",
   "metadata": {},
   "source": [
    "### 1.4 Нижний регистр"
   ]
  },
  {
   "cell_type": "code",
   "execution_count": 6,
   "id": "dc511289",
   "metadata": {},
   "outputs": [],
   "source": [
    "df.columns = df.columns.str.lower()"
   ]
  },
  {
   "cell_type": "code",
   "execution_count": 7,
   "id": "d807dc2f",
   "metadata": {},
   "outputs": [],
   "source": [
    "df['name'] = df['name'].str.lower()\n",
    "df['platform'] = df['platform'].str.lower()\n",
    "df['genre'] = df['genre'].str.lower()"
   ]
  },
  {
   "cell_type": "code",
   "execution_count": 8,
   "id": "dbb000b5",
   "metadata": {},
   "outputs": [
    {
     "data": {
      "text/html": [
       "<div>\n",
       "<style scoped>\n",
       "    .dataframe tbody tr th:only-of-type {\n",
       "        vertical-align: middle;\n",
       "    }\n",
       "\n",
       "    .dataframe tbody tr th {\n",
       "        vertical-align: top;\n",
       "    }\n",
       "\n",
       "    .dataframe thead th {\n",
       "        text-align: right;\n",
       "    }\n",
       "</style>\n",
       "<table border=\"1\" class=\"dataframe\">\n",
       "  <thead>\n",
       "    <tr style=\"text-align: right;\">\n",
       "      <th></th>\n",
       "      <th>name</th>\n",
       "      <th>platform</th>\n",
       "      <th>year_of_release</th>\n",
       "      <th>genre</th>\n",
       "      <th>na_sales</th>\n",
       "      <th>eu_sales</th>\n",
       "      <th>jp_sales</th>\n",
       "      <th>other_sales</th>\n",
       "      <th>critic_score</th>\n",
       "      <th>user_score</th>\n",
       "      <th>rating</th>\n",
       "    </tr>\n",
       "  </thead>\n",
       "  <tbody>\n",
       "    <tr>\n",
       "      <th>0</th>\n",
       "      <td>wii sports</td>\n",
       "      <td>wii</td>\n",
       "      <td>2006.0</td>\n",
       "      <td>sports</td>\n",
       "      <td>41.36</td>\n",
       "      <td>28.96</td>\n",
       "      <td>3.77</td>\n",
       "      <td>8.45</td>\n",
       "      <td>76.0</td>\n",
       "      <td>8</td>\n",
       "      <td>E</td>\n",
       "    </tr>\n",
       "    <tr>\n",
       "      <th>1</th>\n",
       "      <td>super mario bros.</td>\n",
       "      <td>nes</td>\n",
       "      <td>1985.0</td>\n",
       "      <td>platform</td>\n",
       "      <td>29.08</td>\n",
       "      <td>3.58</td>\n",
       "      <td>6.81</td>\n",
       "      <td>0.77</td>\n",
       "      <td>NaN</td>\n",
       "      <td>NaN</td>\n",
       "      <td>NaN</td>\n",
       "    </tr>\n",
       "    <tr>\n",
       "      <th>2</th>\n",
       "      <td>mario kart wii</td>\n",
       "      <td>wii</td>\n",
       "      <td>2008.0</td>\n",
       "      <td>racing</td>\n",
       "      <td>15.68</td>\n",
       "      <td>12.76</td>\n",
       "      <td>3.79</td>\n",
       "      <td>3.29</td>\n",
       "      <td>82.0</td>\n",
       "      <td>8.3</td>\n",
       "      <td>E</td>\n",
       "    </tr>\n",
       "    <tr>\n",
       "      <th>3</th>\n",
       "      <td>wii sports resort</td>\n",
       "      <td>wii</td>\n",
       "      <td>2009.0</td>\n",
       "      <td>sports</td>\n",
       "      <td>15.61</td>\n",
       "      <td>10.93</td>\n",
       "      <td>3.28</td>\n",
       "      <td>2.95</td>\n",
       "      <td>80.0</td>\n",
       "      <td>8</td>\n",
       "      <td>E</td>\n",
       "    </tr>\n",
       "    <tr>\n",
       "      <th>4</th>\n",
       "      <td>pokemon red/pokemon blue</td>\n",
       "      <td>gb</td>\n",
       "      <td>1996.0</td>\n",
       "      <td>role-playing</td>\n",
       "      <td>11.27</td>\n",
       "      <td>8.89</td>\n",
       "      <td>10.22</td>\n",
       "      <td>1.00</td>\n",
       "      <td>NaN</td>\n",
       "      <td>NaN</td>\n",
       "      <td>NaN</td>\n",
       "    </tr>\n",
       "    <tr>\n",
       "      <th>...</th>\n",
       "      <td>...</td>\n",
       "      <td>...</td>\n",
       "      <td>...</td>\n",
       "      <td>...</td>\n",
       "      <td>...</td>\n",
       "      <td>...</td>\n",
       "      <td>...</td>\n",
       "      <td>...</td>\n",
       "      <td>...</td>\n",
       "      <td>...</td>\n",
       "      <td>...</td>\n",
       "    </tr>\n",
       "    <tr>\n",
       "      <th>16710</th>\n",
       "      <td>samurai warriors: sanada maru</td>\n",
       "      <td>ps3</td>\n",
       "      <td>2016.0</td>\n",
       "      <td>action</td>\n",
       "      <td>0.00</td>\n",
       "      <td>0.00</td>\n",
       "      <td>0.01</td>\n",
       "      <td>0.00</td>\n",
       "      <td>NaN</td>\n",
       "      <td>NaN</td>\n",
       "      <td>NaN</td>\n",
       "    </tr>\n",
       "    <tr>\n",
       "      <th>16711</th>\n",
       "      <td>lma manager 2007</td>\n",
       "      <td>x360</td>\n",
       "      <td>2006.0</td>\n",
       "      <td>sports</td>\n",
       "      <td>0.00</td>\n",
       "      <td>0.01</td>\n",
       "      <td>0.00</td>\n",
       "      <td>0.00</td>\n",
       "      <td>NaN</td>\n",
       "      <td>NaN</td>\n",
       "      <td>NaN</td>\n",
       "    </tr>\n",
       "    <tr>\n",
       "      <th>16712</th>\n",
       "      <td>haitaka no psychedelica</td>\n",
       "      <td>psv</td>\n",
       "      <td>2016.0</td>\n",
       "      <td>adventure</td>\n",
       "      <td>0.00</td>\n",
       "      <td>0.00</td>\n",
       "      <td>0.01</td>\n",
       "      <td>0.00</td>\n",
       "      <td>NaN</td>\n",
       "      <td>NaN</td>\n",
       "      <td>NaN</td>\n",
       "    </tr>\n",
       "    <tr>\n",
       "      <th>16713</th>\n",
       "      <td>spirits &amp; spells</td>\n",
       "      <td>gba</td>\n",
       "      <td>2003.0</td>\n",
       "      <td>platform</td>\n",
       "      <td>0.01</td>\n",
       "      <td>0.00</td>\n",
       "      <td>0.00</td>\n",
       "      <td>0.00</td>\n",
       "      <td>NaN</td>\n",
       "      <td>NaN</td>\n",
       "      <td>NaN</td>\n",
       "    </tr>\n",
       "    <tr>\n",
       "      <th>16714</th>\n",
       "      <td>winning post 8 2016</td>\n",
       "      <td>psv</td>\n",
       "      <td>2016.0</td>\n",
       "      <td>simulation</td>\n",
       "      <td>0.00</td>\n",
       "      <td>0.00</td>\n",
       "      <td>0.01</td>\n",
       "      <td>0.00</td>\n",
       "      <td>NaN</td>\n",
       "      <td>NaN</td>\n",
       "      <td>NaN</td>\n",
       "    </tr>\n",
       "  </tbody>\n",
       "</table>\n",
       "<p>16715 rows × 11 columns</p>\n",
       "</div>"
      ],
      "text/plain": [
       "                                name platform  year_of_release         genre  \\\n",
       "0                         wii sports      wii           2006.0        sports   \n",
       "1                  super mario bros.      nes           1985.0      platform   \n",
       "2                     mario kart wii      wii           2008.0        racing   \n",
       "3                  wii sports resort      wii           2009.0        sports   \n",
       "4           pokemon red/pokemon blue       gb           1996.0  role-playing   \n",
       "...                              ...      ...              ...           ...   \n",
       "16710  samurai warriors: sanada maru      ps3           2016.0        action   \n",
       "16711               lma manager 2007     x360           2006.0        sports   \n",
       "16712        haitaka no psychedelica      psv           2016.0     adventure   \n",
       "16713               spirits & spells      gba           2003.0      platform   \n",
       "16714            winning post 8 2016      psv           2016.0    simulation   \n",
       "\n",
       "       na_sales  eu_sales  jp_sales  other_sales  critic_score user_score  \\\n",
       "0         41.36     28.96      3.77         8.45          76.0          8   \n",
       "1         29.08      3.58      6.81         0.77           NaN        NaN   \n",
       "2         15.68     12.76      3.79         3.29          82.0        8.3   \n",
       "3         15.61     10.93      3.28         2.95          80.0          8   \n",
       "4         11.27      8.89     10.22         1.00           NaN        NaN   \n",
       "...         ...       ...       ...          ...           ...        ...   \n",
       "16710      0.00      0.00      0.01         0.00           NaN        NaN   \n",
       "16711      0.00      0.01      0.00         0.00           NaN        NaN   \n",
       "16712      0.00      0.00      0.01         0.00           NaN        NaN   \n",
       "16713      0.01      0.00      0.00         0.00           NaN        NaN   \n",
       "16714      0.00      0.00      0.01         0.00           NaN        NaN   \n",
       "\n",
       "      rating  \n",
       "0          E  \n",
       "1        NaN  \n",
       "2          E  \n",
       "3          E  \n",
       "4        NaN  \n",
       "...      ...  \n",
       "16710    NaN  \n",
       "16711    NaN  \n",
       "16712    NaN  \n",
       "16713    NaN  \n",
       "16714    NaN  \n",
       "\n",
       "[16715 rows x 11 columns]"
      ]
     },
     "execution_count": 8,
     "metadata": {},
     "output_type": "execute_result"
    }
   ],
   "source": [
    "df"
   ]
  },
  {
   "cell_type": "markdown",
   "id": "922f24e4",
   "metadata": {},
   "source": [
    "### 1.5 Преобразование типов столбцов"
   ]
  },
  {
   "cell_type": "code",
   "execution_count": 9,
   "id": "19f544e5",
   "metadata": {},
   "outputs": [],
   "source": [
    "df['user_score'] = pd.to_numeric(df['user_score'], errors='coerce')"
   ]
  },
  {
   "cell_type": "code",
   "execution_count": 10,
   "id": "d81aa192",
   "metadata": {},
   "outputs": [],
   "source": [
    "df[['year_of_release','critic_score']] = \\\n",
    "df[['year_of_release','critic_score']].astype(int,errors='ignore')"
   ]
  },
  {
   "cell_type": "code",
   "execution_count": 11,
   "id": "f4758e4d",
   "metadata": {},
   "outputs": [
    {
     "data": {
      "text/plain": [
       "name                object\n",
       "platform            object\n",
       "year_of_release    float64\n",
       "genre               object\n",
       "na_sales           float64\n",
       "eu_sales           float64\n",
       "jp_sales           float64\n",
       "other_sales        float64\n",
       "critic_score       float64\n",
       "user_score         float64\n",
       "rating              object\n",
       "dtype: object"
      ]
     },
     "execution_count": 11,
     "metadata": {},
     "output_type": "execute_result"
    }
   ],
   "source": [
    "df.dtypes"
   ]
  },
  {
   "cell_type": "code",
   "execution_count": 12,
   "id": "4949d06f",
   "metadata": {},
   "outputs": [
    {
     "data": {
      "text/plain": [
       "0        False\n",
       "1        False\n",
       "2        False\n",
       "3        False\n",
       "4        False\n",
       "         ...  \n",
       "16710    False\n",
       "16711    False\n",
       "16712    False\n",
       "16713    False\n",
       "16714    False\n",
       "Length: 16715, dtype: bool"
      ]
     },
     "execution_count": 12,
     "metadata": {},
     "output_type": "execute_result"
    }
   ],
   "source": [
    "df.duplicated()"
   ]
  },
  {
   "cell_type": "markdown",
   "id": "7cd01895",
   "metadata": {},
   "source": [
    "Проверено на наличие дубликатов. Полные дубликаты отсутствуют."
   ]
  },
  {
   "cell_type": "markdown",
   "id": "2a860663",
   "metadata": {},
   "source": [
    "### 1.6 Исследование пропусков в данных"
   ]
  },
  {
   "cell_type": "code",
   "execution_count": 13,
   "id": "e22c1fa3",
   "metadata": {},
   "outputs": [],
   "source": [
    "def pass_value_barh(df):\n",
    "    try:\n",
    "        (\n",
    "            (df.isna().mean()*100)\n",
    "            .to_frame()\n",
    "            .rename(columns = {0:'space'})\n",
    "            .query('space >= 0')\n",
    "            .sort_values(by = 'space', ascending = True)\n",
    "            .plot(kind = 'barh', figsize = (19,6), rot = 0, legend = False, fontsize = 16)\n",
    "            .set_title('Процент пропусков' + \"\\n\", fontsize = 22, color = 'SteelBlue')    \n",
    "        );    \n",
    "    except:\n",
    "        print('пропусков не осталось :) или произошла ошибка в первой части функции ')"
   ]
  },
  {
   "cell_type": "code",
   "execution_count": 14,
   "id": "6517e34b",
   "metadata": {},
   "outputs": [
    {
     "data": {
      "image/png": "[encoded data removed]",
      "text/plain": [
       "<Figure size 1368x432 with 1 Axes>"
      ]
     },
     "metadata": {
      "needs_background": "light"
     },
     "output_type": "display_data"
    }
   ],
   "source": [
    "pass_value_barh(df)"
   ]
  },
  {
   "cell_type": "code",
   "execution_count": 16,
   "id": "24a11d25",
   "metadata": {},
   "outputs": [
    {
     "data": {
      "image/png": "[encoded data removed]",
      "text/plain": [
       "<Figure size 1368x432 with 1 Axes>"
      ]
     },
     "metadata": {
      "needs_background": "light"
     },
     "output_type": "display_data"
    }
   ],
   "source": [
    "pass_value_barh(df)"
   ]
  },
  {
   "cell_type": "markdown",
   "id": "b5f0043d",
   "metadata": {},
   "source": [
    "Больше всего пропусков в 3х последних столбцах и совсем немного в year_of_release."
   ]
  },
  {
   "cell_type": "code",
   "execution_count": 17,
   "id": "a895af9b",
   "metadata": {},
   "outputs": [
    {
     "data": {
      "text/plain": [
       "count    7590.000000\n",
       "mean        7.125046\n",
       "std         1.500006\n",
       "min         0.000000\n",
       "25%         6.400000\n",
       "50%         7.500000\n",
       "75%         8.200000\n",
       "max         9.700000\n",
       "Name: user_score, dtype: float64"
      ]
     },
     "execution_count": 17,
     "metadata": {},
     "output_type": "execute_result"
    }
   ],
   "source": [
    "df['user_score'].describe()"
   ]
  },
  {
   "cell_type": "markdown",
   "id": "38ce9455",
   "metadata": {},
   "source": [
    "#### Аномальных значений, выходящих за 0 и 10 нет. Среднее меньше медианы, значит распределение скошено влево. Это подтверждает гистограмма."
   ]
  },
  {
   "cell_type": "code",
   "execution_count": 18,
   "id": "4e04ee39",
   "metadata": {},
   "outputs": [
    {
     "data": {
      "text/plain": [
       "Text(0.5, 1.0, 'Распределение по оценкам')"
      ]
     },
     "execution_count": 18,
     "metadata": {},
     "output_type": "execute_result"
    },
    {
     "data": {
      "image/png": "[encoded data removed]",
      "text/plain": [
       "<Figure size 432x288 with 1 Axes>"
      ]
     },
     "metadata": {
      "needs_background": "light"
     },
     "output_type": "display_data"
    }
   ],
   "source": [
    "a = df['user_score'].hist(bins = 50)\n",
    "a.set_xlabel('Оценка пользователя')\n",
    "a.set_ylabel('Количество количество оценок')\n",
    "plt.title(\"Распределение по оценкам\")"
   ]
  },
  {
   "cell_type": "code",
   "execution_count": 19,
   "id": "c549b7b0",
   "metadata": {},
   "outputs": [
    {
     "data": {
      "text/plain": [
       "count    8137.000000\n",
       "mean       68.967679\n",
       "std        13.938165\n",
       "min        13.000000\n",
       "25%        60.000000\n",
       "50%        71.000000\n",
       "75%        79.000000\n",
       "max        98.000000\n",
       "Name: critic_score, dtype: float64"
      ]
     },
     "execution_count": 19,
     "metadata": {},
     "output_type": "execute_result"
    }
   ],
   "source": [
    "df['critic_score'].describe()"
   ]
  },
  {
   "cell_type": "markdown",
   "id": "71fd0728",
   "metadata": {},
   "source": [
    "Ситуация аналогичная оценкам пользователей. Аномальных значений нет. Среднее меньше медианы, значит распределение скошено влево. Это подтверждает гистограмма."
   ]
  },
  {
   "cell_type": "code",
   "execution_count": 20,
   "id": "08a7ecb5",
   "metadata": {},
   "outputs": [
    {
     "data": {
      "text/plain": [
       "Text(0.5, 1.0, 'Распределение по оценкам')"
      ]
     },
     "execution_count": 20,
     "metadata": {},
     "output_type": "execute_result"
    },
    {
     "data": {
      "image/png": "[encoded data removed]",
      "text/plain": [
       "<Figure size 432x288 with 1 Axes>"
      ]
     },
     "metadata": {
      "needs_background": "light"
     },
     "output_type": "display_data"
    }
   ],
   "source": [
    "b = df['critic_score'].hist(bins = 40)\n",
    "b.set_xlabel('Оценка критиков')\n",
    "b.set_ylabel('Количество оценок')\n",
    "plt.title(\"Распределение по оценкам\")"
   ]
  },
  {
   "cell_type": "code",
   "execution_count": 21,
   "id": "55633747",
   "metadata": {},
   "outputs": [
    {
     "data": {
      "text/plain": [
       "E       3990\n",
       "T       2961\n",
       "M       1563\n",
       "E10+    1420\n",
       "EC         8\n",
       "RP         3\n",
       "K-A        3\n",
       "AO         1\n",
       "Name: rating, dtype: int64"
      ]
     },
     "execution_count": 21,
     "metadata": {},
     "output_type": "execute_result"
    }
   ],
   "source": [
    "df['rating'].value_counts()"
   ]
  },
  {
   "cell_type": "markdown",
   "id": "4e81ed14",
   "metadata": {},
   "source": [
    "Это возрастной рейтинг. EC - («Early childhood») — «Для детей младшего возраста». «E» («Everyone») — «Для всех». «E10+» («Everyone 10 and older»). «T» («Teen») — «Подросткам». «M» («Mature») — «Для взрослых».«AO» («Adults Only 18+») — «Только для взрослых». «RP» («Rating Pending») — «Рейтинг ожидается». Изменим количество значений рейтинга. Рейтинг K-A можно заменить на Е10+. Также как и ЕС.В АО одна игра. Зато какая - GTA San Andreas. Изменим ее на M. А от RP избавимся. Год для них не определен. Продажи минимальные."
   ]
  },
  {
   "cell_type": "code",
   "execution_count": 22,
   "id": "54c0537d",
   "metadata": {},
   "outputs": [
    {
     "data": {
      "text/html": [
       "<div>\n",
       "<style scoped>\n",
       "    .dataframe tbody tr th:only-of-type {\n",
       "        vertical-align: middle;\n",
       "    }\n",
       "\n",
       "    .dataframe tbody tr th {\n",
       "        vertical-align: top;\n",
       "    }\n",
       "\n",
       "    .dataframe thead th {\n",
       "        text-align: right;\n",
       "    }\n",
       "</style>\n",
       "<table border=\"1\" class=\"dataframe\">\n",
       "  <thead>\n",
       "    <tr style=\"text-align: right;\">\n",
       "      <th></th>\n",
       "      <th>name</th>\n",
       "      <th>platform</th>\n",
       "      <th>year_of_release</th>\n",
       "      <th>genre</th>\n",
       "      <th>na_sales</th>\n",
       "      <th>eu_sales</th>\n",
       "      <th>jp_sales</th>\n",
       "      <th>other_sales</th>\n",
       "      <th>critic_score</th>\n",
       "      <th>user_score</th>\n",
       "      <th>rating</th>\n",
       "    </tr>\n",
       "  </thead>\n",
       "  <tbody>\n",
       "    <tr>\n",
       "      <th>875</th>\n",
       "      <td>grand theft auto: san andreas</td>\n",
       "      <td>xb</td>\n",
       "      <td>2005.0</td>\n",
       "      <td>action</td>\n",
       "      <td>1.26</td>\n",
       "      <td>0.61</td>\n",
       "      <td>0.0</td>\n",
       "      <td>0.09</td>\n",
       "      <td>93.0</td>\n",
       "      <td>8.6</td>\n",
       "      <td>AO</td>\n",
       "    </tr>\n",
       "  </tbody>\n",
       "</table>\n",
       "</div>"
      ],
      "text/plain": [
       "                              name platform  year_of_release   genre  \\\n",
       "875  grand theft auto: san andreas       xb           2005.0  action   \n",
       "\n",
       "     na_sales  eu_sales  jp_sales  other_sales  critic_score  user_score  \\\n",
       "875      1.26      0.61       0.0         0.09          93.0         8.6   \n",
       "\n",
       "    rating  \n",
       "875     AO  "
      ]
     },
     "execution_count": 22,
     "metadata": {},
     "output_type": "execute_result"
    }
   ],
   "source": [
    "df.query('rating == \"AO\"')"
   ]
  },
  {
   "cell_type": "code",
   "execution_count": 23,
   "id": "03a675ef",
   "metadata": {},
   "outputs": [
    {
     "data": {
      "text/plain": [
       "(16715, 11)"
      ]
     },
     "execution_count": 23,
     "metadata": {},
     "output_type": "execute_result"
    }
   ],
   "source": [
    "df.shape"
   ]
  },
  {
   "cell_type": "code",
   "execution_count": 24,
   "id": "d9b7f7ae",
   "metadata": {},
   "outputs": [],
   "source": [
    "df = df[df['rating']!='RP']"
   ]
  },
  {
   "cell_type": "code",
   "execution_count": 25,
   "id": "82b0dd13",
   "metadata": {},
   "outputs": [
    {
     "data": {
      "text/plain": [
       "(16712, 11)"
      ]
     },
     "execution_count": 25,
     "metadata": {},
     "output_type": "execute_result"
    }
   ],
   "source": [
    "df.shape"
   ]
  },
  {
   "cell_type": "code",
   "execution_count": 26,
   "id": "98ba19ec",
   "metadata": {
    "scrolled": true
   },
   "outputs": [
    {
     "name": "stderr",
     "output_type": "stream",
     "text": [
      "/tmp/ipykernel_193/2000360369.py:1: SettingWithCopyWarning: \n",
      "A value is trying to be set on a copy of a slice from a DataFrame.\n",
      "Try using .loc[row_indexer,col_indexer] = value instead\n",
      "\n",
      "See the caveats in the documentation: https://pandas.pydata.org/pandas-docs/stable/user_guide/indexing.html#returning-a-view-versus-a-copy\n",
      "  df['rating'] = df['rating'].str.replace('AO', 'M',regex=True)\n"
     ]
    }
   ],
   "source": [
    "df['rating'] = df['rating'].str.replace('AO', 'M',regex=True)\n"
   ]
  },
  {
   "cell_type": "code",
   "execution_count": 27,
   "id": "88df6739",
   "metadata": {},
   "outputs": [
    {
     "name": "stderr",
     "output_type": "stream",
     "text": [
      "/tmp/ipykernel_193/156960321.py:1: SettingWithCopyWarning: \n",
      "A value is trying to be set on a copy of a slice from a DataFrame.\n",
      "Try using .loc[row_indexer,col_indexer] = value instead\n",
      "\n",
      "See the caveats in the documentation: https://pandas.pydata.org/pandas-docs/stable/user_guide/indexing.html#returning-a-view-versus-a-copy\n",
      "  df['rating'] = df['rating'].str.replace('K-A', 'Е10+',regex=True)\n"
     ]
    }
   ],
   "source": [
    "df['rating'] = df['rating'].str.replace('K-A', 'Е10+',regex=True)"
   ]
  },
  {
   "cell_type": "code",
   "execution_count": 28,
   "id": "ffd36668",
   "metadata": {},
   "outputs": [
    {
     "name": "stderr",
     "output_type": "stream",
     "text": [
      "/tmp/ipykernel_193/453064177.py:1: SettingWithCopyWarning: \n",
      "A value is trying to be set on a copy of a slice from a DataFrame.\n",
      "Try using .loc[row_indexer,col_indexer] = value instead\n",
      "\n",
      "See the caveats in the documentation: https://pandas.pydata.org/pandas-docs/stable/user_guide/indexing.html#returning-a-view-versus-a-copy\n",
      "  df['rating'] = df['rating'].str.replace('EC', 'Е10+',regex=True)\n"
     ]
    }
   ],
   "source": [
    "df['rating'] = df['rating'].str.replace('EC', 'Е10+',regex=True)"
   ]
  },
  {
   "cell_type": "code",
   "execution_count": 29,
   "id": "435ad233",
   "metadata": {},
   "outputs": [
    {
     "data": {
      "text/plain": [
       "E       3990\n",
       "T       2961\n",
       "M       1564\n",
       "E10+    1420\n",
       "Е10+      11\n",
       "Name: rating, dtype: int64"
      ]
     },
     "execution_count": 29,
     "metadata": {},
     "output_type": "execute_result"
    }
   ],
   "source": [
    "df['rating'].value_counts()"
   ]
  },
  {
   "cell_type": "code",
   "execution_count": 30,
   "id": "50b58b59",
   "metadata": {
    "scrolled": true
   },
   "outputs": [
    {
     "data": {
      "text/html": [
       "<div>\n",
       "<style scoped>\n",
       "    .dataframe tbody tr th:only-of-type {\n",
       "        vertical-align: middle;\n",
       "    }\n",
       "\n",
       "    .dataframe tbody tr th {\n",
       "        vertical-align: top;\n",
       "    }\n",
       "\n",
       "    .dataframe thead tr th {\n",
       "        text-align: left;\n",
       "    }\n",
       "\n",
       "    .dataframe thead tr:last-of-type th {\n",
       "        text-align: right;\n",
       "    }\n",
       "</style>\n",
       "<table border=\"1\" class=\"dataframe\">\n",
       "  <thead>\n",
       "    <tr>\n",
       "      <th></th>\n",
       "      <th colspan=\"2\" halign=\"left\">critic_score</th>\n",
       "      <th colspan=\"2\" halign=\"left\">user_score</th>\n",
       "    </tr>\n",
       "    <tr>\n",
       "      <th></th>\n",
       "      <th>count</th>\n",
       "      <th>mean</th>\n",
       "      <th>count</th>\n",
       "      <th>mean</th>\n",
       "    </tr>\n",
       "    <tr>\n",
       "      <th>year_of_release</th>\n",
       "      <th></th>\n",
       "      <th></th>\n",
       "      <th></th>\n",
       "      <th></th>\n",
       "    </tr>\n",
       "  </thead>\n",
       "  <tbody>\n",
       "    <tr>\n",
       "      <th>1980.0</th>\n",
       "      <td>0</td>\n",
       "      <td>NaN</td>\n",
       "      <td>0</td>\n",
       "      <td>NaN</td>\n",
       "    </tr>\n",
       "    <tr>\n",
       "      <th>1981.0</th>\n",
       "      <td>0</td>\n",
       "      <td>NaN</td>\n",
       "      <td>0</td>\n",
       "      <td>NaN</td>\n",
       "    </tr>\n",
       "    <tr>\n",
       "      <th>1982.0</th>\n",
       "      <td>0</td>\n",
       "      <td>NaN</td>\n",
       "      <td>0</td>\n",
       "      <td>NaN</td>\n",
       "    </tr>\n",
       "    <tr>\n",
       "      <th>1983.0</th>\n",
       "      <td>0</td>\n",
       "      <td>NaN</td>\n",
       "      <td>0</td>\n",
       "      <td>NaN</td>\n",
       "    </tr>\n",
       "    <tr>\n",
       "      <th>1984.0</th>\n",
       "      <td>0</td>\n",
       "      <td>NaN</td>\n",
       "      <td>0</td>\n",
       "      <td>NaN</td>\n",
       "    </tr>\n",
       "    <tr>\n",
       "      <th>1985.0</th>\n",
       "      <td>1</td>\n",
       "      <td>59.000000</td>\n",
       "      <td>1</td>\n",
       "      <td>5.800000</td>\n",
       "    </tr>\n",
       "    <tr>\n",
       "      <th>1986.0</th>\n",
       "      <td>0</td>\n",
       "      <td>NaN</td>\n",
       "      <td>0</td>\n",
       "      <td>NaN</td>\n",
       "    </tr>\n",
       "    <tr>\n",
       "      <th>1987.0</th>\n",
       "      <td>0</td>\n",
       "      <td>NaN</td>\n",
       "      <td>0</td>\n",
       "      <td>NaN</td>\n",
       "    </tr>\n",
       "    <tr>\n",
       "      <th>1988.0</th>\n",
       "      <td>1</td>\n",
       "      <td>64.000000</td>\n",
       "      <td>1</td>\n",
       "      <td>2.200000</td>\n",
       "    </tr>\n",
       "    <tr>\n",
       "      <th>1989.0</th>\n",
       "      <td>0</td>\n",
       "      <td>NaN</td>\n",
       "      <td>0</td>\n",
       "      <td>NaN</td>\n",
       "    </tr>\n",
       "    <tr>\n",
       "      <th>1990.0</th>\n",
       "      <td>0</td>\n",
       "      <td>NaN</td>\n",
       "      <td>0</td>\n",
       "      <td>NaN</td>\n",
       "    </tr>\n",
       "    <tr>\n",
       "      <th>1991.0</th>\n",
       "      <td>0</td>\n",
       "      <td>NaN</td>\n",
       "      <td>0</td>\n",
       "      <td>NaN</td>\n",
       "    </tr>\n",
       "    <tr>\n",
       "      <th>1992.0</th>\n",
       "      <td>1</td>\n",
       "      <td>85.000000</td>\n",
       "      <td>1</td>\n",
       "      <td>8.200000</td>\n",
       "    </tr>\n",
       "    <tr>\n",
       "      <th>1993.0</th>\n",
       "      <td>0</td>\n",
       "      <td>NaN</td>\n",
       "      <td>0</td>\n",
       "      <td>NaN</td>\n",
       "    </tr>\n",
       "    <tr>\n",
       "      <th>1994.0</th>\n",
       "      <td>1</td>\n",
       "      <td>69.000000</td>\n",
       "      <td>1</td>\n",
       "      <td>6.300000</td>\n",
       "    </tr>\n",
       "    <tr>\n",
       "      <th>1995.0</th>\n",
       "      <td>0</td>\n",
       "      <td>NaN</td>\n",
       "      <td>0</td>\n",
       "      <td>NaN</td>\n",
       "    </tr>\n",
       "    <tr>\n",
       "      <th>1996.0</th>\n",
       "      <td>8</td>\n",
       "      <td>89.875000</td>\n",
       "      <td>8</td>\n",
       "      <td>8.400000</td>\n",
       "    </tr>\n",
       "    <tr>\n",
       "      <th>1997.0</th>\n",
       "      <td>17</td>\n",
       "      <td>85.294118</td>\n",
       "      <td>18</td>\n",
       "      <td>8.472222</td>\n",
       "    </tr>\n",
       "    <tr>\n",
       "      <th>1998.0</th>\n",
       "      <td>28</td>\n",
       "      <td>81.821429</td>\n",
       "      <td>31</td>\n",
       "      <td>8.506452</td>\n",
       "    </tr>\n",
       "    <tr>\n",
       "      <th>1999.0</th>\n",
       "      <td>39</td>\n",
       "      <td>75.769231</td>\n",
       "      <td>31</td>\n",
       "      <td>8.480645</td>\n",
       "    </tr>\n",
       "    <tr>\n",
       "      <th>2000.0</th>\n",
       "      <td>143</td>\n",
       "      <td>69.349650</td>\n",
       "      <td>107</td>\n",
       "      <td>7.531776</td>\n",
       "    </tr>\n",
       "    <tr>\n",
       "      <th>2001.0</th>\n",
       "      <td>326</td>\n",
       "      <td>71.414110</td>\n",
       "      <td>257</td>\n",
       "      <td>7.594942</td>\n",
       "    </tr>\n",
       "    <tr>\n",
       "      <th>2002.0</th>\n",
       "      <td>627</td>\n",
       "      <td>69.046252</td>\n",
       "      <td>464</td>\n",
       "      <td>7.585129</td>\n",
       "    </tr>\n",
       "    <tr>\n",
       "      <th>2003.0</th>\n",
       "      <td>585</td>\n",
       "      <td>70.181197</td>\n",
       "      <td>516</td>\n",
       "      <td>7.859884</td>\n",
       "    </tr>\n",
       "    <tr>\n",
       "      <th>2004.0</th>\n",
       "      <td>561</td>\n",
       "      <td>69.393939</td>\n",
       "      <td>489</td>\n",
       "      <td>7.750511</td>\n",
       "    </tr>\n",
       "    <tr>\n",
       "      <th>2005.0</th>\n",
       "      <td>655</td>\n",
       "      <td>68.819847</td>\n",
       "      <td>583</td>\n",
       "      <td>7.509605</td>\n",
       "    </tr>\n",
       "    <tr>\n",
       "      <th>2006.0</th>\n",
       "      <td>620</td>\n",
       "      <td>67.338710</td>\n",
       "      <td>552</td>\n",
       "      <td>7.247283</td>\n",
       "    </tr>\n",
       "    <tr>\n",
       "      <th>2007.0</th>\n",
       "      <td>692</td>\n",
       "      <td>66.180636</td>\n",
       "      <td>629</td>\n",
       "      <td>6.895707</td>\n",
       "    </tr>\n",
       "    <tr>\n",
       "      <th>2008.0</th>\n",
       "      <td>715</td>\n",
       "      <td>65.904895</td>\n",
       "      <td>661</td>\n",
       "      <td>6.950983</td>\n",
       "    </tr>\n",
       "    <tr>\n",
       "      <th>2009.0</th>\n",
       "      <td>651</td>\n",
       "      <td>67.554531</td>\n",
       "      <td>614</td>\n",
       "      <td>6.990717</td>\n",
       "    </tr>\n",
       "    <tr>\n",
       "      <th>2010.0</th>\n",
       "      <td>500</td>\n",
       "      <td>67.482000</td>\n",
       "      <td>467</td>\n",
       "      <td>6.875375</td>\n",
       "    </tr>\n",
       "    <tr>\n",
       "      <th>2011.0</th>\n",
       "      <td>499</td>\n",
       "      <td>68.703407</td>\n",
       "      <td>500</td>\n",
       "      <td>6.623200</td>\n",
       "    </tr>\n",
       "    <tr>\n",
       "      <th>2012.0</th>\n",
       "      <td>321</td>\n",
       "      <td>72.984424</td>\n",
       "      <td>339</td>\n",
       "      <td>6.817404</td>\n",
       "    </tr>\n",
       "    <tr>\n",
       "      <th>2013.0</th>\n",
       "      <td>273</td>\n",
       "      <td>71.278388</td>\n",
       "      <td>304</td>\n",
       "      <td>6.470724</td>\n",
       "    </tr>\n",
       "    <tr>\n",
       "      <th>2014.0</th>\n",
       "      <td>261</td>\n",
       "      <td>71.065134</td>\n",
       "      <td>329</td>\n",
       "      <td>6.580243</td>\n",
       "    </tr>\n",
       "    <tr>\n",
       "      <th>2015.0</th>\n",
       "      <td>225</td>\n",
       "      <td>72.871111</td>\n",
       "      <td>297</td>\n",
       "      <td>6.665993</td>\n",
       "    </tr>\n",
       "    <tr>\n",
       "      <th>2016.0</th>\n",
       "      <td>232</td>\n",
       "      <td>73.155172</td>\n",
       "      <td>262</td>\n",
       "      <td>6.629771</td>\n",
       "    </tr>\n",
       "  </tbody>\n",
       "</table>\n",
       "</div>"
      ],
      "text/plain": [
       "                critic_score            user_score          \n",
       "                       count       mean      count      mean\n",
       "year_of_release                                             \n",
       "1980.0                     0        NaN          0       NaN\n",
       "1981.0                     0        NaN          0       NaN\n",
       "1982.0                     0        NaN          0       NaN\n",
       "1983.0                     0        NaN          0       NaN\n",
       "1984.0                     0        NaN          0       NaN\n",
       "1985.0                     1  59.000000          1  5.800000\n",
       "1986.0                     0        NaN          0       NaN\n",
       "1987.0                     0        NaN          0       NaN\n",
       "1988.0                     1  64.000000          1  2.200000\n",
       "1989.0                     0        NaN          0       NaN\n",
       "1990.0                     0        NaN          0       NaN\n",
       "1991.0                     0        NaN          0       NaN\n",
       "1992.0                     1  85.000000          1  8.200000\n",
       "1993.0                     0        NaN          0       NaN\n",
       "1994.0                     1  69.000000          1  6.300000\n",
       "1995.0                     0        NaN          0       NaN\n",
       "1996.0                     8  89.875000          8  8.400000\n",
       "1997.0                    17  85.294118         18  8.472222\n",
       "1998.0                    28  81.821429         31  8.506452\n",
       "1999.0                    39  75.769231         31  8.480645\n",
       "2000.0                   143  69.349650        107  7.531776\n",
       "2001.0                   326  71.414110        257  7.594942\n",
       "2002.0                   627  69.046252        464  7.585129\n",
       "2003.0                   585  70.181197        516  7.859884\n",
       "2004.0                   561  69.393939        489  7.750511\n",
       "2005.0                   655  68.819847        583  7.509605\n",
       "2006.0                   620  67.338710        552  7.247283\n",
       "2007.0                   692  66.180636        629  6.895707\n",
       "2008.0                   715  65.904895        661  6.950983\n",
       "2009.0                   651  67.554531        614  6.990717\n",
       "2010.0                   500  67.482000        467  6.875375\n",
       "2011.0                   499  68.703407        500  6.623200\n",
       "2012.0                   321  72.984424        339  6.817404\n",
       "2013.0                   273  71.278388        304  6.470724\n",
       "2014.0                   261  71.065134        329  6.580243\n",
       "2015.0                   225  72.871111        297  6.665993\n",
       "2016.0                   232  73.155172        262  6.629771"
      ]
     },
     "execution_count": 30,
     "metadata": {},
     "output_type": "execute_result"
    }
   ],
   "source": [
    "df.pivot_table(index='year_of_release', values=['critic_score','user_score'], aggfunc={'count','mean'})"
   ]
  },
  {
   "cell_type": "code",
   "execution_count": 31,
   "id": "3a13b2c9",
   "metadata": {},
   "outputs": [
    {
     "data": {
      "text/plain": [
       "<AxesSubplot:xlabel='year_of_release'>"
      ]
     },
     "execution_count": 31,
     "metadata": {},
     "output_type": "execute_result"
    },
    {
     "data": {
      "image/png": "[encoded data removed]",
      "text/plain": [
       "<Figure size 1080x648 with 1 Axes>"
      ]
     },
     "metadata": {
      "needs_background": "light"
     },
     "output_type": "display_data"
    }
   ],
   "source": [
    "df.groupby('year_of_release')['critic_score'].mean().plot(grid=True, figsize=(15, 9))\n",
    "df.groupby('year_of_release')['user_score'].mean().plot(grid=True, figsize=(15, 9))"
   ]
  },
  {
   "cell_type": "markdown",
   "id": "ab50d2b2",
   "metadata": {},
   "source": [
    "Как видно игры начали оценивать только с середины 1990х. При этом  в рассматриваемой таблице представлены игры, которые начали выходить с 1980г.  Пропуски в данных связаны с тем, что долгое время для игр не существовало каких-либо общепринятых систем оценивания и рейтинга. Заполнять эти пропуски медианным или средним значением не имеет смысла. Найдем распределение пропусков по значениям в других столбцах."
   ]
  },
  {
   "cell_type": "code",
   "execution_count": 32,
   "id": "06c2acf5",
   "metadata": {},
   "outputs": [
    {
     "data": {
      "text/html": [
       "<div>\n",
       "<style scoped>\n",
       "    .dataframe tbody tr th:only-of-type {\n",
       "        vertical-align: middle;\n",
       "    }\n",
       "\n",
       "    .dataframe tbody tr th {\n",
       "        vertical-align: top;\n",
       "    }\n",
       "\n",
       "    .dataframe thead th {\n",
       "        text-align: right;\n",
       "    }\n",
       "</style>\n",
       "<table border=\"1\" class=\"dataframe\">\n",
       "  <thead>\n",
       "    <tr style=\"text-align: right;\">\n",
       "      <th></th>\n",
       "      <th>platform</th>\n",
       "      <th>missing_count</th>\n",
       "    </tr>\n",
       "  </thead>\n",
       "  <tbody>\n",
       "    <tr>\n",
       "      <th>4</th>\n",
       "      <td>ds</td>\n",
       "      <td>1434</td>\n",
       "    </tr>\n",
       "    <tr>\n",
       "      <th>15</th>\n",
       "      <td>ps</td>\n",
       "      <td>997</td>\n",
       "    </tr>\n",
       "    <tr>\n",
       "      <th>16</th>\n",
       "      <td>ps2</td>\n",
       "      <td>863</td>\n",
       "    </tr>\n",
       "    <tr>\n",
       "      <th>19</th>\n",
       "      <td>psp</td>\n",
       "      <td>747</td>\n",
       "    </tr>\n",
       "    <tr>\n",
       "      <th>25</th>\n",
       "      <td>wii</td>\n",
       "      <td>735</td>\n",
       "    </tr>\n",
       "    <tr>\n",
       "      <th>17</th>\n",
       "      <td>ps3</td>\n",
       "      <td>511</td>\n",
       "    </tr>\n",
       "    <tr>\n",
       "      <th>6</th>\n",
       "      <td>gba</td>\n",
       "      <td>384</td>\n",
       "    </tr>\n",
       "    <tr>\n",
       "      <th>2</th>\n",
       "      <td>3ds</td>\n",
       "      <td>352</td>\n",
       "    </tr>\n",
       "    <tr>\n",
       "      <th>28</th>\n",
       "      <td>x360</td>\n",
       "      <td>346</td>\n",
       "    </tr>\n",
       "    <tr>\n",
       "      <th>10</th>\n",
       "      <td>n64</td>\n",
       "      <td>319</td>\n",
       "    </tr>\n",
       "    <tr>\n",
       "      <th>20</th>\n",
       "      <td>psv</td>\n",
       "      <td>310</td>\n",
       "    </tr>\n",
       "    <tr>\n",
       "      <th>13</th>\n",
       "      <td>pc</td>\n",
       "      <td>259</td>\n",
       "    </tr>\n",
       "    <tr>\n",
       "      <th>23</th>\n",
       "      <td>snes</td>\n",
       "      <td>239</td>\n",
       "    </tr>\n",
       "    <tr>\n",
       "      <th>21</th>\n",
       "      <td>sat</td>\n",
       "      <td>173</td>\n",
       "    </tr>\n",
       "    <tr>\n",
       "      <th>18</th>\n",
       "      <td>ps4</td>\n",
       "      <td>140</td>\n",
       "    </tr>\n",
       "    <tr>\n",
       "      <th>0</th>\n",
       "      <td>2600</td>\n",
       "      <td>133</td>\n",
       "    </tr>\n",
       "    <tr>\n",
       "      <th>7</th>\n",
       "      <td>gc</td>\n",
       "      <td>108</td>\n",
       "    </tr>\n",
       "    <tr>\n",
       "      <th>29</th>\n",
       "      <td>xb</td>\n",
       "      <td>99</td>\n",
       "    </tr>\n",
       "    <tr>\n",
       "      <th>11</th>\n",
       "      <td>nes</td>\n",
       "      <td>98</td>\n",
       "    </tr>\n",
       "    <tr>\n",
       "      <th>5</th>\n",
       "      <td>gb</td>\n",
       "      <td>98</td>\n",
       "    </tr>\n",
       "    <tr>\n",
       "      <th>30</th>\n",
       "      <td>xone</td>\n",
       "      <td>78</td>\n",
       "    </tr>\n",
       "    <tr>\n",
       "      <th>26</th>\n",
       "      <td>wiiu</td>\n",
       "      <td>57</td>\n",
       "    </tr>\n",
       "    <tr>\n",
       "      <th>3</th>\n",
       "      <td>dc</td>\n",
       "      <td>38</td>\n",
       "    </tr>\n",
       "    <tr>\n",
       "      <th>8</th>\n",
       "      <td>gen</td>\n",
       "      <td>29</td>\n",
       "    </tr>\n",
       "    <tr>\n",
       "      <th>12</th>\n",
       "      <td>ng</td>\n",
       "      <td>12</td>\n",
       "    </tr>\n",
       "    <tr>\n",
       "      <th>22</th>\n",
       "      <td>scd</td>\n",
       "      <td>6</td>\n",
       "    </tr>\n",
       "    <tr>\n",
       "      <th>27</th>\n",
       "      <td>ws</td>\n",
       "      <td>6</td>\n",
       "    </tr>\n",
       "    <tr>\n",
       "      <th>1</th>\n",
       "      <td>3do</td>\n",
       "      <td>3</td>\n",
       "    </tr>\n",
       "    <tr>\n",
       "      <th>24</th>\n",
       "      <td>tg16</td>\n",
       "      <td>2</td>\n",
       "    </tr>\n",
       "    <tr>\n",
       "      <th>14</th>\n",
       "      <td>pcfx</td>\n",
       "      <td>1</td>\n",
       "    </tr>\n",
       "    <tr>\n",
       "      <th>9</th>\n",
       "      <td>gg</td>\n",
       "      <td>1</td>\n",
       "    </tr>\n",
       "  </tbody>\n",
       "</table>\n",
       "</div>"
      ],
      "text/plain": [
       "   platform  missing_count\n",
       "4        ds           1434\n",
       "15       ps            997\n",
       "16      ps2            863\n",
       "19      psp            747\n",
       "25      wii            735\n",
       "17      ps3            511\n",
       "6       gba            384\n",
       "2       3ds            352\n",
       "28     x360            346\n",
       "10      n64            319\n",
       "20      psv            310\n",
       "13       pc            259\n",
       "23     snes            239\n",
       "21      sat            173\n",
       "18      ps4            140\n",
       "0      2600            133\n",
       "7        gc            108\n",
       "29       xb             99\n",
       "11      nes             98\n",
       "5        gb             98\n",
       "30     xone             78\n",
       "26     wiiu             57\n",
       "3        dc             38\n",
       "8       gen             29\n",
       "12       ng             12\n",
       "22      scd              6\n",
       "27       ws              6\n",
       "1       3do              3\n",
       "24     tg16              2\n",
       "14     pcfx              1\n",
       "9        gg              1"
      ]
     },
     "execution_count": 32,
     "metadata": {},
     "output_type": "execute_result"
    }
   ],
   "source": [
    "df.groupby('platform')['critic_score'].apply(lambda x:x.isnull().sum()) \\\n",
    "                                      .reset_index(name='missing_count').sort_values('missing_count',ascending=False)"
   ]
  },
  {
   "cell_type": "code",
   "execution_count": 33,
   "id": "d5467412",
   "metadata": {},
   "outputs": [
    {
     "data": {
      "text/html": [
       "<div>\n",
       "<style scoped>\n",
       "    .dataframe tbody tr th:only-of-type {\n",
       "        vertical-align: middle;\n",
       "    }\n",
       "\n",
       "    .dataframe tbody tr th {\n",
       "        vertical-align: top;\n",
       "    }\n",
       "\n",
       "    .dataframe thead th {\n",
       "        text-align: right;\n",
       "    }\n",
       "</style>\n",
       "<table border=\"1\" class=\"dataframe\">\n",
       "  <thead>\n",
       "    <tr style=\"text-align: right;\">\n",
       "      <th></th>\n",
       "      <th>platform</th>\n",
       "      <th>missing_count</th>\n",
       "    </tr>\n",
       "  </thead>\n",
       "  <tbody>\n",
       "    <tr>\n",
       "      <th>4</th>\n",
       "      <td>ds</td>\n",
       "      <td>1635</td>\n",
       "    </tr>\n",
       "    <tr>\n",
       "      <th>15</th>\n",
       "      <td>ps</td>\n",
       "      <td>1035</td>\n",
       "    </tr>\n",
       "    <tr>\n",
       "      <th>16</th>\n",
       "      <td>ps2</td>\n",
       "      <td>920</td>\n",
       "    </tr>\n",
       "    <tr>\n",
       "      <th>19</th>\n",
       "      <td>psp</td>\n",
       "      <td>788</td>\n",
       "    </tr>\n",
       "    <tr>\n",
       "      <th>25</th>\n",
       "      <td>wii</td>\n",
       "      <td>760</td>\n",
       "    </tr>\n",
       "    <tr>\n",
       "      <th>6</th>\n",
       "      <td>gba</td>\n",
       "      <td>567</td>\n",
       "    </tr>\n",
       "    <tr>\n",
       "      <th>17</th>\n",
       "      <td>ps3</td>\n",
       "      <td>454</td>\n",
       "    </tr>\n",
       "    <tr>\n",
       "      <th>2</th>\n",
       "      <td>3ds</td>\n",
       "      <td>346</td>\n",
       "    </tr>\n",
       "    <tr>\n",
       "      <th>10</th>\n",
       "      <td>n64</td>\n",
       "      <td>319</td>\n",
       "    </tr>\n",
       "    <tr>\n",
       "      <th>28</th>\n",
       "      <td>x360</td>\n",
       "      <td>296</td>\n",
       "    </tr>\n",
       "    <tr>\n",
       "      <th>20</th>\n",
       "      <td>psv</td>\n",
       "      <td>287</td>\n",
       "    </tr>\n",
       "    <tr>\n",
       "      <th>23</th>\n",
       "      <td>snes</td>\n",
       "      <td>239</td>\n",
       "    </tr>\n",
       "    <tr>\n",
       "      <th>29</th>\n",
       "      <td>xb</td>\n",
       "      <td>238</td>\n",
       "    </tr>\n",
       "    <tr>\n",
       "      <th>13</th>\n",
       "      <td>pc</td>\n",
       "      <td>203</td>\n",
       "    </tr>\n",
       "    <tr>\n",
       "      <th>7</th>\n",
       "      <td>gc</td>\n",
       "      <td>190</td>\n",
       "    </tr>\n",
       "    <tr>\n",
       "      <th>21</th>\n",
       "      <td>sat</td>\n",
       "      <td>173</td>\n",
       "    </tr>\n",
       "    <tr>\n",
       "      <th>18</th>\n",
       "      <td>ps4</td>\n",
       "      <td>135</td>\n",
       "    </tr>\n",
       "    <tr>\n",
       "      <th>0</th>\n",
       "      <td>2600</td>\n",
       "      <td>133</td>\n",
       "    </tr>\n",
       "    <tr>\n",
       "      <th>11</th>\n",
       "      <td>nes</td>\n",
       "      <td>98</td>\n",
       "    </tr>\n",
       "    <tr>\n",
       "      <th>5</th>\n",
       "      <td>gb</td>\n",
       "      <td>98</td>\n",
       "    </tr>\n",
       "    <tr>\n",
       "      <th>30</th>\n",
       "      <td>xone</td>\n",
       "      <td>65</td>\n",
       "    </tr>\n",
       "    <tr>\n",
       "      <th>26</th>\n",
       "      <td>wiiu</td>\n",
       "      <td>47</td>\n",
       "    </tr>\n",
       "    <tr>\n",
       "      <th>3</th>\n",
       "      <td>dc</td>\n",
       "      <td>38</td>\n",
       "    </tr>\n",
       "    <tr>\n",
       "      <th>8</th>\n",
       "      <td>gen</td>\n",
       "      <td>29</td>\n",
       "    </tr>\n",
       "    <tr>\n",
       "      <th>12</th>\n",
       "      <td>ng</td>\n",
       "      <td>12</td>\n",
       "    </tr>\n",
       "    <tr>\n",
       "      <th>22</th>\n",
       "      <td>scd</td>\n",
       "      <td>6</td>\n",
       "    </tr>\n",
       "    <tr>\n",
       "      <th>27</th>\n",
       "      <td>ws</td>\n",
       "      <td>6</td>\n",
       "    </tr>\n",
       "    <tr>\n",
       "      <th>1</th>\n",
       "      <td>3do</td>\n",
       "      <td>3</td>\n",
       "    </tr>\n",
       "    <tr>\n",
       "      <th>24</th>\n",
       "      <td>tg16</td>\n",
       "      <td>2</td>\n",
       "    </tr>\n",
       "    <tr>\n",
       "      <th>14</th>\n",
       "      <td>pcfx</td>\n",
       "      <td>1</td>\n",
       "    </tr>\n",
       "    <tr>\n",
       "      <th>9</th>\n",
       "      <td>gg</td>\n",
       "      <td>1</td>\n",
       "    </tr>\n",
       "  </tbody>\n",
       "</table>\n",
       "</div>"
      ],
      "text/plain": [
       "   platform  missing_count\n",
       "4        ds           1635\n",
       "15       ps           1035\n",
       "16      ps2            920\n",
       "19      psp            788\n",
       "25      wii            760\n",
       "6       gba            567\n",
       "17      ps3            454\n",
       "2       3ds            346\n",
       "10      n64            319\n",
       "28     x360            296\n",
       "20      psv            287\n",
       "23     snes            239\n",
       "29       xb            238\n",
       "13       pc            203\n",
       "7        gc            190\n",
       "21      sat            173\n",
       "18      ps4            135\n",
       "0      2600            133\n",
       "11      nes             98\n",
       "5        gb             98\n",
       "30     xone             65\n",
       "26     wiiu             47\n",
       "3        dc             38\n",
       "8       gen             29\n",
       "12       ng             12\n",
       "22      scd              6\n",
       "27       ws              6\n",
       "1       3do              3\n",
       "24     tg16              2\n",
       "14     pcfx              1\n",
       "9        gg              1"
      ]
     },
     "execution_count": 33,
     "metadata": {},
     "output_type": "execute_result"
    }
   ],
   "source": [
    "df.groupby('platform')['user_score'].apply(lambda x:x.isnull() \\\n",
    "                                    .sum())\\\n",
    "                                    .reset_index(name='missing_count')\\\n",
    "                                    .sort_values('missing_count',ascending=False)"
   ]
  },
  {
   "cell_type": "markdown",
   "id": "6a5f7c62",
   "metadata": {},
   "source": [
    "Видно, что пропусков много для одинаковых платформ, которые были популярны в середине 1990х- начале 2000х. В этом время индустрия обзоров еще не была сильно развита и не охватывала все выходящие игры."
   ]
  },
  {
   "cell_type": "markdown",
   "id": "5bc2e077",
   "metadata": {},
   "source": [
    "### 1.7 Суммарные продажи"
   ]
  },
  {
   "cell_type": "code",
   "execution_count": 34,
   "id": "12baa740",
   "metadata": {},
   "outputs": [
    {
     "name": "stderr",
     "output_type": "stream",
     "text": [
      "/tmp/ipykernel_193/143246461.py:1: SettingWithCopyWarning: \n",
      "A value is trying to be set on a copy of a slice from a DataFrame.\n",
      "Try using .loc[row_indexer,col_indexer] = value instead\n",
      "\n",
      "See the caveats in the documentation: https://pandas.pydata.org/pandas-docs/stable/user_guide/indexing.html#returning-a-view-versus-a-copy\n",
      "  df['total_sales'] = df['na_sales'] + df['eu_sales'] + df['jp_sales'] + df['other_sales']\n"
     ]
    }
   ],
   "source": [
    "df['total_sales'] = df['na_sales'] + df['eu_sales'] + df['jp_sales'] + df['other_sales']"
   ]
  },
  {
   "cell_type": "markdown",
   "id": "f1330c3a",
   "metadata": {},
   "source": [
    "Проведено первичное исследование данных. Найдены и проанализированы пропуски в столбцах и дубликаты.  Удалены строки, в которых пропущены название игр и жанр - без этих данных строки не имеет смысл включать в анализ. Создан и заполнен столбец с общими продажами по каждой игре по всем регионам."
   ]
  },
  {
   "cell_type": "markdown",
   "id": "42355d74",
   "metadata": {},
   "source": [
    "Наверное можно заполнить, основываясь на пропусках в жанрах. Например, принять что игры в жанрах fighting, shooter, action по умолчанию относятся к категории М (mature), а sports, racing, puzzle к категории E(everyone). Перебирать название игр будет слишком трудоемкой задачей. Но даже в этом случае мы не сможем точно знать какой контент содержится в игре. "
   ]
  },
  {
   "cell_type": "code",
   "execution_count": 37,
   "id": "60faca06",
   "metadata": {},
   "outputs": [],
   "source": [
    "df_rating_nan = df.loc[df['rating'].isna()==True]"
   ]
  },
  {
   "cell_type": "code",
   "execution_count": 38,
   "id": "49856e80",
   "metadata": {},
   "outputs": [
    {
     "data": {
      "text/plain": [
       "action          1181\n",
       "misc             868\n",
       "adventure        857\n",
       "sports           839\n",
       "role-playing     721\n",
       "fighting         411\n",
       "racing           377\n",
       "strategy         344\n",
       "platform         319\n",
       "simulation       305\n",
       "shooter          304\n",
       "puzzle           238\n",
       "Name: genre, dtype: int64"
      ]
     },
     "execution_count": 38,
     "metadata": {},
     "output_type": "execute_result"
    }
   ],
   "source": [
    "df_rating_nan['genre'].value_counts()"
   ]
  },
  {
   "cell_type": "code",
   "execution_count": 39,
   "id": "33e76591",
   "metadata": {},
   "outputs": [
    {
     "data": {
      "text/plain": [
       "E       3990\n",
       "T       2961\n",
       "M       1564\n",
       "E10+    1420\n",
       "Е10+      11\n",
       "Name: rating, dtype: int64"
      ]
     },
     "execution_count": 39,
     "metadata": {},
     "output_type": "execute_result"
    }
   ],
   "source": [
    "df['rating'].value_counts()"
   ]
  },
  {
   "cell_type": "code",
   "execution_count": 40,
   "id": "d620bc98",
   "metadata": {},
   "outputs": [
    {
     "data": {
      "text/html": [
       "<div>\n",
       "<style scoped>\n",
       "    .dataframe tbody tr th:only-of-type {\n",
       "        vertical-align: middle;\n",
       "    }\n",
       "\n",
       "    .dataframe tbody tr th {\n",
       "        vertical-align: top;\n",
       "    }\n",
       "\n",
       "    .dataframe thead th {\n",
       "        text-align: right;\n",
       "    }\n",
       "</style>\n",
       "<table border=\"1\" class=\"dataframe\">\n",
       "  <thead>\n",
       "    <tr style=\"text-align: right;\">\n",
       "      <th></th>\n",
       "      <th>name</th>\n",
       "      <th>platform</th>\n",
       "      <th>year_of_release</th>\n",
       "      <th>genre</th>\n",
       "      <th>na_sales</th>\n",
       "      <th>eu_sales</th>\n",
       "      <th>jp_sales</th>\n",
       "      <th>other_sales</th>\n",
       "      <th>critic_score</th>\n",
       "      <th>user_score</th>\n",
       "      <th>rating</th>\n",
       "      <th>total_sales</th>\n",
       "    </tr>\n",
       "  </thead>\n",
       "  <tbody>\n",
       "    <tr>\n",
       "      <th>659</th>\n",
       "      <td>NaN</td>\n",
       "      <td>gen</td>\n",
       "      <td>1993.0</td>\n",
       "      <td>NaN</td>\n",
       "      <td>1.78</td>\n",
       "      <td>0.53</td>\n",
       "      <td>0.00</td>\n",
       "      <td>0.08</td>\n",
       "      <td>NaN</td>\n",
       "      <td>NaN</td>\n",
       "      <td>NaN</td>\n",
       "      <td>2.39</td>\n",
       "    </tr>\n",
       "    <tr>\n",
       "      <th>14244</th>\n",
       "      <td>NaN</td>\n",
       "      <td>gen</td>\n",
       "      <td>1993.0</td>\n",
       "      <td>NaN</td>\n",
       "      <td>0.00</td>\n",
       "      <td>0.00</td>\n",
       "      <td>0.03</td>\n",
       "      <td>0.00</td>\n",
       "      <td>NaN</td>\n",
       "      <td>NaN</td>\n",
       "      <td>NaN</td>\n",
       "      <td>0.03</td>\n",
       "    </tr>\n",
       "  </tbody>\n",
       "</table>\n",
       "</div>"
      ],
      "text/plain": [
       "      name platform  year_of_release genre  na_sales  eu_sales  jp_sales  \\\n",
       "659    NaN      gen           1993.0   NaN      1.78      0.53      0.00   \n",
       "14244  NaN      gen           1993.0   NaN      0.00      0.00      0.03   \n",
       "\n",
       "       other_sales  critic_score  user_score rating  total_sales  \n",
       "659           0.08           NaN         NaN    NaN         2.39  \n",
       "14244         0.00           NaN         NaN    NaN         0.03  "
      ]
     },
     "execution_count": 40,
     "metadata": {},
     "output_type": "execute_result"
    }
   ],
   "source": [
    "df[df['name'].isna()==True]"
   ]
  },
  {
   "cell_type": "code",
   "execution_count": 41,
   "id": "662c4b52",
   "metadata": {},
   "outputs": [
    {
     "data": {
      "text/html": [
       "<div>\n",
       "<style scoped>\n",
       "    .dataframe tbody tr th:only-of-type {\n",
       "        vertical-align: middle;\n",
       "    }\n",
       "\n",
       "    .dataframe tbody tr th {\n",
       "        vertical-align: top;\n",
       "    }\n",
       "\n",
       "    .dataframe thead th {\n",
       "        text-align: right;\n",
       "    }\n",
       "</style>\n",
       "<table border=\"1\" class=\"dataframe\">\n",
       "  <thead>\n",
       "    <tr style=\"text-align: right;\">\n",
       "      <th></th>\n",
       "      <th>name</th>\n",
       "      <th>platform</th>\n",
       "      <th>year_of_release</th>\n",
       "      <th>genre</th>\n",
       "      <th>na_sales</th>\n",
       "      <th>eu_sales</th>\n",
       "      <th>jp_sales</th>\n",
       "      <th>other_sales</th>\n",
       "      <th>critic_score</th>\n",
       "      <th>user_score</th>\n",
       "      <th>rating</th>\n",
       "      <th>total_sales</th>\n",
       "    </tr>\n",
       "  </thead>\n",
       "  <tbody>\n",
       "    <tr>\n",
       "      <th>659</th>\n",
       "      <td>NaN</td>\n",
       "      <td>gen</td>\n",
       "      <td>1993.0</td>\n",
       "      <td>NaN</td>\n",
       "      <td>1.78</td>\n",
       "      <td>0.53</td>\n",
       "      <td>0.00</td>\n",
       "      <td>0.08</td>\n",
       "      <td>NaN</td>\n",
       "      <td>NaN</td>\n",
       "      <td>NaN</td>\n",
       "      <td>2.39</td>\n",
       "    </tr>\n",
       "    <tr>\n",
       "      <th>14244</th>\n",
       "      <td>NaN</td>\n",
       "      <td>gen</td>\n",
       "      <td>1993.0</td>\n",
       "      <td>NaN</td>\n",
       "      <td>0.00</td>\n",
       "      <td>0.00</td>\n",
       "      <td>0.03</td>\n",
       "      <td>0.00</td>\n",
       "      <td>NaN</td>\n",
       "      <td>NaN</td>\n",
       "      <td>NaN</td>\n",
       "      <td>0.03</td>\n",
       "    </tr>\n",
       "  </tbody>\n",
       "</table>\n",
       "</div>"
      ],
      "text/plain": [
       "      name platform  year_of_release genre  na_sales  eu_sales  jp_sales  \\\n",
       "659    NaN      gen           1993.0   NaN      1.78      0.53      0.00   \n",
       "14244  NaN      gen           1993.0   NaN      0.00      0.00      0.03   \n",
       "\n",
       "       other_sales  critic_score  user_score rating  total_sales  \n",
       "659           0.08           NaN         NaN    NaN         2.39  \n",
       "14244         0.00           NaN         NaN    NaN         0.03  "
      ]
     },
     "execution_count": 41,
     "metadata": {},
     "output_type": "execute_result"
    }
   ],
   "source": [
    "df[df['genre'].isna()==True]"
   ]
  },
  {
   "cell_type": "code",
   "execution_count": 42,
   "id": "bc0f551a",
   "metadata": {},
   "outputs": [
    {
     "data": {
      "text/plain": [
       "(16712, 12)"
      ]
     },
     "execution_count": 42,
     "metadata": {},
     "output_type": "execute_result"
    }
   ],
   "source": [
    "df.shape"
   ]
  },
  {
   "cell_type": "code",
   "execution_count": 43,
   "id": "5e974259",
   "metadata": {},
   "outputs": [],
   "source": [
    "df=df[df['name'].isna()!=True]"
   ]
  },
  {
   "cell_type": "code",
   "execution_count": 44,
   "id": "86df2173",
   "metadata": {},
   "outputs": [
    {
     "data": {
      "text/plain": [
       "(16710, 12)"
      ]
     },
     "execution_count": 44,
     "metadata": {},
     "output_type": "execute_result"
    }
   ],
   "source": [
    "df.shape"
   ]
  },
  {
   "cell_type": "code",
   "execution_count": 45,
   "id": "ac58e74b",
   "metadata": {},
   "outputs": [],
   "source": [
    "df = df[df.duplicated(subset=['name','platform','year_of_release']) == False]"
   ]
  },
  {
   "cell_type": "code",
   "execution_count": 46,
   "id": "0fed3b37",
   "metadata": {},
   "outputs": [
    {
     "data": {
      "text/plain": [
       "(16709, 12)"
      ]
     },
     "execution_count": 46,
     "metadata": {},
     "output_type": "execute_result"
    }
   ],
   "source": [
    "df.shape"
   ]
  },
  {
   "cell_type": "markdown",
   "id": "c1fdf0e0",
   "metadata": {},
   "source": [
    "## 2. Исследовательский анализ данных"
   ]
  },
  {
   "cell_type": "markdown",
   "id": "287bd994",
   "metadata": {},
   "source": [
    "### 2.1 Определение количества игр по годам"
   ]
  },
  {
   "cell_type": "code",
   "execution_count": 47,
   "id": "995db41e",
   "metadata": {},
   "outputs": [
    {
     "data": {
      "text/plain": [
       "Text(0.5, 1.0, 'Распределение по количеству выпускаемых игр')"
      ]
     },
     "execution_count": 47,
     "metadata": {},
     "output_type": "execute_result"
    },
    {
     "data": {
      "image/png": "[encoded data removed]",
      "text/plain": [
       "<Figure size 432x288 with 1 Axes>"
      ]
     },
     "metadata": {
      "needs_background": "light"
     },
     "output_type": "display_data"
    }
   ],
   "source": [
    "с = df['year_of_release'].hist(bins = 20)\n",
    "с.set_xlabel('Год выхода игры')\n",
    "с.set_ylabel('Количество игр')\n",
    "plt.title(\"Распределение по количеству выпускаемых игр\")"
   ]
  },
  {
   "cell_type": "markdown",
   "id": "ed7c4484",
   "metadata": {},
   "source": [
    "### 2.2 Зависимость продаж от платформы"
   ]
  },
  {
   "cell_type": "code",
   "execution_count": 49,
   "id": "27af3595",
   "metadata": {},
   "outputs": [
    {
     "data": {
      "text/plain": [
       "<AxesSubplot:title={'center':'Зависимость продаж от платформы'}, ylabel='platform'>"
      ]
     },
     "execution_count": 49,
     "metadata": {},
     "output_type": "execute_result"
    },
    {
     "data": {
      "image/png": "[encoded data removed]",
      "text/plain": [
       "<Figure size 864x360 with 1 Axes>"
      ]
     },
     "metadata": {
      "needs_background": "light"
     },
     "output_type": "display_data"
    }
   ],
   "source": [
    "df.pivot_table(index='platform', values='total_sales').sort_values(by = 'total_sales', ascending = True)\\\n",
    "                                                      .plot(kind = 'barh', grid=True,\n",
    "                                                       figsize=(12, 5), title = 'Зависимость продаж от платформы')"
   ]
  },
  {
   "cell_type": "code",
   "execution_count": 50,
   "id": "b19683c4",
   "metadata": {},
   "outputs": [
    {
     "data": {
      "text/plain": [
       "array(['wii', 'nes', 'gb', 'ds', 'x360', 'ps3', 'ps2', 'snes', 'gba',\n",
       "       'ps4', '3ds', 'n64', 'ps', 'xb', 'pc', '2600', 'psp', 'xone',\n",
       "       'wiiu', 'gc', 'gen', 'dc', 'psv', 'sat', 'scd', 'ws', 'ng', 'tg16',\n",
       "       '3do', 'gg', 'pcfx'], dtype=object)"
      ]
     },
     "execution_count": 50,
     "metadata": {},
     "output_type": "execute_result"
    }
   ],
   "source": [
    "df['platform'].unique()"
   ]
  },
  {
   "cell_type": "markdown",
   "id": "f31517ed",
   "metadata": {},
   "source": [
    "Наибольшие продажи демонстрируют следующие платформы - GB, NES, GEN, SNES, PS4, X360. Построим по ним распрееделение по годам. Возьмем по суммарным продажам более 0,5 млн копий."
   ]
  },
  {
   "cell_type": "code",
   "execution_count": 51,
   "id": "191384e4",
   "metadata": {},
   "outputs": [],
   "source": [
    "filter_list = ['gb', 'nes', 'gen', 'snes', 'ps4', 'x360','2600','ps3','wii','n64','xone','ps','ps2','wiiu']"
   ]
  },
  {
   "cell_type": "code",
   "execution_count": 52,
   "id": "e1a95498",
   "metadata": {},
   "outputs": [],
   "source": [
    "top_platform = df[df.platform.isin(filter_list)]"
   ]
  },
  {
   "cell_type": "code",
   "execution_count": 53,
   "id": "ec0dbf4d",
   "metadata": {},
   "outputs": [
    {
     "data": {
      "text/html": [
       "<div>\n",
       "<style scoped>\n",
       "    .dataframe tbody tr th:only-of-type {\n",
       "        vertical-align: middle;\n",
       "    }\n",
       "\n",
       "    .dataframe tbody tr th {\n",
       "        vertical-align: top;\n",
       "    }\n",
       "\n",
       "    .dataframe thead th {\n",
       "        text-align: right;\n",
       "    }\n",
       "</style>\n",
       "<table border=\"1\" class=\"dataframe\">\n",
       "  <thead>\n",
       "    <tr style=\"text-align: right;\">\n",
       "      <th></th>\n",
       "      <th>name</th>\n",
       "      <th>platform</th>\n",
       "      <th>year_of_release</th>\n",
       "      <th>genre</th>\n",
       "      <th>na_sales</th>\n",
       "      <th>eu_sales</th>\n",
       "      <th>jp_sales</th>\n",
       "      <th>other_sales</th>\n",
       "      <th>critic_score</th>\n",
       "      <th>user_score</th>\n",
       "      <th>rating</th>\n",
       "      <th>total_sales</th>\n",
       "    </tr>\n",
       "  </thead>\n",
       "  <tbody>\n",
       "    <tr>\n",
       "      <th>0</th>\n",
       "      <td>wii sports</td>\n",
       "      <td>wii</td>\n",
       "      <td>2006.0</td>\n",
       "      <td>sports</td>\n",
       "      <td>41.36</td>\n",
       "      <td>28.96</td>\n",
       "      <td>3.77</td>\n",
       "      <td>8.45</td>\n",
       "      <td>76.0</td>\n",
       "      <td>8.0</td>\n",
       "      <td>E</td>\n",
       "      <td>82.54</td>\n",
       "    </tr>\n",
       "    <tr>\n",
       "      <th>1</th>\n",
       "      <td>super mario bros.</td>\n",
       "      <td>nes</td>\n",
       "      <td>1985.0</td>\n",
       "      <td>platform</td>\n",
       "      <td>29.08</td>\n",
       "      <td>3.58</td>\n",
       "      <td>6.81</td>\n",
       "      <td>0.77</td>\n",
       "      <td>NaN</td>\n",
       "      <td>NaN</td>\n",
       "      <td>NaN</td>\n",
       "      <td>40.24</td>\n",
       "    </tr>\n",
       "    <tr>\n",
       "      <th>2</th>\n",
       "      <td>mario kart wii</td>\n",
       "      <td>wii</td>\n",
       "      <td>2008.0</td>\n",
       "      <td>racing</td>\n",
       "      <td>15.68</td>\n",
       "      <td>12.76</td>\n",
       "      <td>3.79</td>\n",
       "      <td>3.29</td>\n",
       "      <td>82.0</td>\n",
       "      <td>8.3</td>\n",
       "      <td>E</td>\n",
       "      <td>35.52</td>\n",
       "    </tr>\n",
       "    <tr>\n",
       "      <th>3</th>\n",
       "      <td>wii sports resort</td>\n",
       "      <td>wii</td>\n",
       "      <td>2009.0</td>\n",
       "      <td>sports</td>\n",
       "      <td>15.61</td>\n",
       "      <td>10.93</td>\n",
       "      <td>3.28</td>\n",
       "      <td>2.95</td>\n",
       "      <td>80.0</td>\n",
       "      <td>8.0</td>\n",
       "      <td>E</td>\n",
       "      <td>32.77</td>\n",
       "    </tr>\n",
       "    <tr>\n",
       "      <th>4</th>\n",
       "      <td>pokemon red/pokemon blue</td>\n",
       "      <td>gb</td>\n",
       "      <td>1996.0</td>\n",
       "      <td>role-playing</td>\n",
       "      <td>11.27</td>\n",
       "      <td>8.89</td>\n",
       "      <td>10.22</td>\n",
       "      <td>1.00</td>\n",
       "      <td>NaN</td>\n",
       "      <td>NaN</td>\n",
       "      <td>NaN</td>\n",
       "      <td>31.38</td>\n",
       "    </tr>\n",
       "    <tr>\n",
       "      <th>...</th>\n",
       "      <td>...</td>\n",
       "      <td>...</td>\n",
       "      <td>...</td>\n",
       "      <td>...</td>\n",
       "      <td>...</td>\n",
       "      <td>...</td>\n",
       "      <td>...</td>\n",
       "      <td>...</td>\n",
       "      <td>...</td>\n",
       "      <td>...</td>\n",
       "      <td>...</td>\n",
       "      <td>...</td>\n",
       "    </tr>\n",
       "    <tr>\n",
       "      <th>16693</th>\n",
       "      <td>pga european tour</td>\n",
       "      <td>n64</td>\n",
       "      <td>2000.0</td>\n",
       "      <td>sports</td>\n",
       "      <td>0.01</td>\n",
       "      <td>0.00</td>\n",
       "      <td>0.00</td>\n",
       "      <td>0.00</td>\n",
       "      <td>NaN</td>\n",
       "      <td>NaN</td>\n",
       "      <td>NaN</td>\n",
       "      <td>0.01</td>\n",
       "    </tr>\n",
       "    <tr>\n",
       "      <th>16694</th>\n",
       "      <td>carmageddon 64</td>\n",
       "      <td>n64</td>\n",
       "      <td>1999.0</td>\n",
       "      <td>action</td>\n",
       "      <td>0.01</td>\n",
       "      <td>0.00</td>\n",
       "      <td>0.00</td>\n",
       "      <td>0.00</td>\n",
       "      <td>NaN</td>\n",
       "      <td>NaN</td>\n",
       "      <td>NaN</td>\n",
       "      <td>0.01</td>\n",
       "    </tr>\n",
       "    <tr>\n",
       "      <th>16709</th>\n",
       "      <td>score international baja 1000: the official game</td>\n",
       "      <td>ps2</td>\n",
       "      <td>2008.0</td>\n",
       "      <td>racing</td>\n",
       "      <td>0.00</td>\n",
       "      <td>0.00</td>\n",
       "      <td>0.00</td>\n",
       "      <td>0.00</td>\n",
       "      <td>NaN</td>\n",
       "      <td>NaN</td>\n",
       "      <td>NaN</td>\n",
       "      <td>0.00</td>\n",
       "    </tr>\n",
       "    <tr>\n",
       "      <th>16710</th>\n",
       "      <td>samurai warriors: sanada maru</td>\n",
       "      <td>ps3</td>\n",
       "      <td>2016.0</td>\n",
       "      <td>action</td>\n",
       "      <td>0.00</td>\n",
       "      <td>0.00</td>\n",
       "      <td>0.01</td>\n",
       "      <td>0.00</td>\n",
       "      <td>NaN</td>\n",
       "      <td>NaN</td>\n",
       "      <td>NaN</td>\n",
       "      <td>0.01</td>\n",
       "    </tr>\n",
       "    <tr>\n",
       "      <th>16711</th>\n",
       "      <td>lma manager 2007</td>\n",
       "      <td>x360</td>\n",
       "      <td>2006.0</td>\n",
       "      <td>sports</td>\n",
       "      <td>0.00</td>\n",
       "      <td>0.01</td>\n",
       "      <td>0.00</td>\n",
       "      <td>0.00</td>\n",
       "      <td>NaN</td>\n",
       "      <td>NaN</td>\n",
       "      <td>NaN</td>\n",
       "      <td>0.01</td>\n",
       "    </tr>\n",
       "  </tbody>\n",
       "</table>\n",
       "<p>8970 rows × 12 columns</p>\n",
       "</div>"
      ],
      "text/plain": [
       "                                                   name platform  \\\n",
       "0                                            wii sports      wii   \n",
       "1                                     super mario bros.      nes   \n",
       "2                                        mario kart wii      wii   \n",
       "3                                     wii sports resort      wii   \n",
       "4                              pokemon red/pokemon blue       gb   \n",
       "...                                                 ...      ...   \n",
       "16693                                 pga european tour      n64   \n",
       "16694                                    carmageddon 64      n64   \n",
       "16709  score international baja 1000: the official game      ps2   \n",
       "16710                     samurai warriors: sanada maru      ps3   \n",
       "16711                                  lma manager 2007     x360   \n",
       "\n",
       "       year_of_release         genre  na_sales  eu_sales  jp_sales  \\\n",
       "0               2006.0        sports     41.36     28.96      3.77   \n",
       "1               1985.0      platform     29.08      3.58      6.81   \n",
       "2               2008.0        racing     15.68     12.76      3.79   \n",
       "3               2009.0        sports     15.61     10.93      3.28   \n",
       "4               1996.0  role-playing     11.27      8.89     10.22   \n",
       "...                ...           ...       ...       ...       ...   \n",
       "16693           2000.0        sports      0.01      0.00      0.00   \n",
       "16694           1999.0        action      0.01      0.00      0.00   \n",
       "16709           2008.0        racing      0.00      0.00      0.00   \n",
       "16710           2016.0        action      0.00      0.00      0.01   \n",
       "16711           2006.0        sports      0.00      0.01      0.00   \n",
       "\n",
       "       other_sales  critic_score  user_score rating  total_sales  \n",
       "0             8.45          76.0         8.0      E        82.54  \n",
       "1             0.77           NaN         NaN    NaN        40.24  \n",
       "2             3.29          82.0         8.3      E        35.52  \n",
       "3             2.95          80.0         8.0      E        32.77  \n",
       "4             1.00           NaN         NaN    NaN        31.38  \n",
       "...            ...           ...         ...    ...          ...  \n",
       "16693         0.00           NaN         NaN    NaN         0.01  \n",
       "16694         0.00           NaN         NaN    NaN         0.01  \n",
       "16709         0.00           NaN         NaN    NaN         0.00  \n",
       "16710         0.00           NaN         NaN    NaN         0.01  \n",
       "16711         0.00           NaN         NaN    NaN         0.01  \n",
       "\n",
       "[8970 rows x 12 columns]"
      ]
     },
     "execution_count": 53,
     "metadata": {},
     "output_type": "execute_result"
    }
   ],
   "source": [
    "top_platform"
   ]
  },
  {
   "cell_type": "markdown",
   "id": "41fe8e58",
   "metadata": {},
   "source": [
    "### 2.3 Зависимость продаж от релиза"
   ]
  },
  {
   "cell_type": "code",
   "execution_count": 54,
   "id": "055237f6",
   "metadata": {},
   "outputs": [
    {
     "data": {
      "text/plain": [
       "<AxesSubplot:title={'center':'Зависимость продаж игр по платформам от года релиза'}, xlabel='year_of_release'>"
      ]
     },
     "execution_count": 54,
     "metadata": {},
     "output_type": "execute_result"
    },
    {
     "data": {
      "image/png": "[encoded data removed]",
      "text/plain": [
       "<Figure size 864x360 with 1 Axes>"
      ]
     },
     "metadata": {
      "needs_background": "light"
     },
     "output_type": "display_data"
    }
   ],
   "source": [
    "top_platform.pivot_table(columns ='platform', \n",
    "                         index='year_of_release',\n",
    "                         values='total_sales',\n",
    "                         aggfunc='sum').\\\n",
    "                         plot(grid=True, figsize=(12, 5), title = 'Зависимость продаж игр по платформам от года релиза')"
   ]
  },
  {
   "cell_type": "markdown",
   "id": "4af876a0",
   "metadata": {},
   "source": [
    "Видно, что игры, запущенные на платформах в 1980х, до настоящего времени не \"дожили\". Посмотрим на развитие серии PS."
   ]
  },
  {
   "cell_type": "code",
   "execution_count": 55,
   "id": "b8059462",
   "metadata": {},
   "outputs": [],
   "source": [
    "ps_list = [ 'ps4', 'ps3','ps2','ps']"
   ]
  },
  {
   "cell_type": "code",
   "execution_count": 56,
   "id": "a1b2f7cd",
   "metadata": {},
   "outputs": [],
   "source": [
    "ps_platform = df[df.platform.isin(ps_list)]"
   ]
  },
  {
   "cell_type": "markdown",
   "id": "0d84e13c",
   "metadata": {},
   "source": [
    "### 2.4 Зависимость продаж PS от релиза"
   ]
  },
  {
   "cell_type": "code",
   "execution_count": 57,
   "id": "10e73451",
   "metadata": {},
   "outputs": [
    {
     "data": {
      "text/plain": [
       "<AxesSubplot:title={'center':'Зависимость продаж игр серии PS от года релиза'}, xlabel='year_of_release'>"
      ]
     },
     "execution_count": 57,
     "metadata": {},
     "output_type": "execute_result"
    },
    {
     "data": {
      "image/png": "[encoded data removed]",
      "text/plain": [
       "<Figure size 864x360 with 1 Axes>"
      ]
     },
     "metadata": {
      "needs_background": "light"
     },
     "output_type": "display_data"
    }
   ],
   "source": [
    "ps_platform.pivot_table(columns ='platform', \n",
    "                        index='year_of_release', \n",
    "                        values='total_sales',\n",
    "                        aggfunc='sum')\\\n",
    "                        .plot(grid=True, figsize=(12, 5), title = 'Зависимость продаж игр серии PS от года релиза')"
   ]
  },
  {
   "cell_type": "markdown",
   "id": "2dca52ec",
   "metadata": {},
   "source": [
    "Новые платформы выходят и какое-то время работают параллельно со старыми, но к моменту выпуска новой платформы предпредыдущая уже не продается.  Приблизительно игровые платформы \"живут\" около 10 лет. Посмотрим как изменялись продажи в течение 3 лет до рассматриваемого периода. Т.е. с 2013 года."
   ]
  },
  {
   "cell_type": "code",
   "execution_count": 58,
   "id": "88895659",
   "metadata": {},
   "outputs": [],
   "source": [
    "df_actual = df[df['year_of_release']>=2013]"
   ]
  },
  {
   "cell_type": "code",
   "execution_count": 59,
   "id": "780b5c82",
   "metadata": {},
   "outputs": [
    {
     "data": {
      "text/plain": [
       "[<matplotlib.axis.XTick at 0x7fc99536fbe0>,\n",
       " <matplotlib.axis.XTick at 0x7fc99536fc10>,\n",
       " <matplotlib.axis.XTick at 0x7fc99d3bfcd0>,\n",
       " <matplotlib.axis.XTick at 0x7fc994f8e850>]"
      ]
     },
     "execution_count": 59,
     "metadata": {},
     "output_type": "execute_result"
    },
    {
     "data": {
      "image/png": "[encoded data removed]",
      "text/plain": [
       "<Figure size 864x360 with 1 Axes>"
      ]
     },
     "metadata": {
      "needs_background": "light"
     },
     "output_type": "display_data"
    }
   ],
   "source": [
    "df_actual.pivot_table(columns ='platform', \n",
    "                      index='year_of_release', \n",
    "                      values='total_sales',\n",
    "                      aggfunc = 'sum')\\\n",
    "                      .plot(grid=True, \n",
    "                            figsize=(12, 5), \n",
    "                            title = 'Зависимость продаж игр с 2013 года от года релиза')\\\n",
    "                            .xaxis.set_ticks(np.arange(2013, 2017, 1))"
   ]
  },
  {
   "cell_type": "markdown",
   "id": "ea4a4d78",
   "metadata": {},
   "source": [
    "На первый взгляд общая тенденция на снижение продаж. "
   ]
  },
  {
   "cell_type": "markdown",
   "id": "424b494c",
   "metadata": {},
   "source": [
    "Наибольшие продажи у PS4, XOne. Посмотрим в табличной форме."
   ]
  },
  {
   "cell_type": "code",
   "execution_count": 60,
   "id": "3decc94d",
   "metadata": {},
   "outputs": [
    {
     "data": {
      "text/html": [
       "<div>\n",
       "<style scoped>\n",
       "    .dataframe tbody tr th:only-of-type {\n",
       "        vertical-align: middle;\n",
       "    }\n",
       "\n",
       "    .dataframe tbody tr th {\n",
       "        vertical-align: top;\n",
       "    }\n",
       "\n",
       "    .dataframe thead th {\n",
       "        text-align: right;\n",
       "    }\n",
       "</style>\n",
       "<table border=\"1\" class=\"dataframe\">\n",
       "  <thead>\n",
       "    <tr style=\"text-align: right;\">\n",
       "      <th>platform</th>\n",
       "      <th>3ds</th>\n",
       "      <th>ds</th>\n",
       "      <th>pc</th>\n",
       "      <th>ps3</th>\n",
       "      <th>ps4</th>\n",
       "      <th>psp</th>\n",
       "      <th>psv</th>\n",
       "      <th>wii</th>\n",
       "      <th>wiiu</th>\n",
       "      <th>x360</th>\n",
       "      <th>xone</th>\n",
       "    </tr>\n",
       "    <tr>\n",
       "      <th>year_of_release</th>\n",
       "      <th></th>\n",
       "      <th></th>\n",
       "      <th></th>\n",
       "      <th></th>\n",
       "      <th></th>\n",
       "      <th></th>\n",
       "      <th></th>\n",
       "      <th></th>\n",
       "      <th></th>\n",
       "      <th></th>\n",
       "      <th></th>\n",
       "    </tr>\n",
       "  </thead>\n",
       "  <tbody>\n",
       "    <tr>\n",
       "      <th>2016.0</th>\n",
       "      <td>15.14</td>\n",
       "      <td>NaN</td>\n",
       "      <td>5.25</td>\n",
       "      <td>3.60</td>\n",
       "      <td>69.25</td>\n",
       "      <td>NaN</td>\n",
       "      <td>4.25</td>\n",
       "      <td>0.18</td>\n",
       "      <td>4.60</td>\n",
       "      <td>1.52</td>\n",
       "      <td>26.15</td>\n",
       "    </tr>\n",
       "    <tr>\n",
       "      <th>2015.0</th>\n",
       "      <td>27.78</td>\n",
       "      <td>NaN</td>\n",
       "      <td>8.52</td>\n",
       "      <td>16.82</td>\n",
       "      <td>118.90</td>\n",
       "      <td>0.12</td>\n",
       "      <td>6.25</td>\n",
       "      <td>1.14</td>\n",
       "      <td>16.35</td>\n",
       "      <td>11.96</td>\n",
       "      <td>60.14</td>\n",
       "    </tr>\n",
       "    <tr>\n",
       "      <th>2014.0</th>\n",
       "      <td>43.76</td>\n",
       "      <td>NaN</td>\n",
       "      <td>13.28</td>\n",
       "      <td>47.76</td>\n",
       "      <td>100.00</td>\n",
       "      <td>0.24</td>\n",
       "      <td>11.90</td>\n",
       "      <td>3.75</td>\n",
       "      <td>22.03</td>\n",
       "      <td>34.74</td>\n",
       "      <td>54.07</td>\n",
       "    </tr>\n",
       "    <tr>\n",
       "      <th>2013.0</th>\n",
       "      <td>56.57</td>\n",
       "      <td>1.54</td>\n",
       "      <td>12.38</td>\n",
       "      <td>113.25</td>\n",
       "      <td>25.99</td>\n",
       "      <td>3.14</td>\n",
       "      <td>10.59</td>\n",
       "      <td>8.59</td>\n",
       "      <td>21.65</td>\n",
       "      <td>88.58</td>\n",
       "      <td>18.96</td>\n",
       "    </tr>\n",
       "  </tbody>\n",
       "</table>\n",
       "</div>"
      ],
      "text/plain": [
       "platform           3ds    ds     pc     ps3     ps4   psp    psv   wii   wiiu  \\\n",
       "year_of_release                                                                 \n",
       "2016.0           15.14   NaN   5.25    3.60   69.25   NaN   4.25  0.18   4.60   \n",
       "2015.0           27.78   NaN   8.52   16.82  118.90  0.12   6.25  1.14  16.35   \n",
       "2014.0           43.76   NaN  13.28   47.76  100.00  0.24  11.90  3.75  22.03   \n",
       "2013.0           56.57  1.54  12.38  113.25   25.99  3.14  10.59  8.59  21.65   \n",
       "\n",
       "platform          x360   xone  \n",
       "year_of_release                \n",
       "2016.0            1.52  26.15  \n",
       "2015.0           11.96  60.14  \n",
       "2014.0           34.74  54.07  \n",
       "2013.0           88.58  18.96  "
      ]
     },
     "execution_count": 60,
     "metadata": {},
     "output_type": "execute_result"
    }
   ],
   "source": [
    "df_actual.pivot_table(columns ='platform', \n",
    "                      index='year_of_release', \n",
    "                      values='total_sales',\n",
    "                      aggfunc = 'sum')\\\n",
    "                      .sort_values(by = 'year_of_release', ascending = False)"
   ]
  },
  {
   "cell_type": "markdown",
   "id": "071d8109",
   "metadata": {},
   "source": [
    "По числовым данным на 2016 лидеры следущие - PS4,XOne,3DS, WiiU, PS3, PC. Тренды почти у всех нисходящие."
   ]
  },
  {
   "cell_type": "markdown",
   "id": "5338f606",
   "metadata": {},
   "source": [
    "Если брать данные за полный 2015 год по отношению к предыдущему периоду рост показали 2 платформы - PS4,XOne."
   ]
  },
  {
   "cell_type": "markdown",
   "id": "7dfd7aa1",
   "metadata": {},
   "source": [
    "### 2.5 Boxplot по платформам"
   ]
  },
  {
   "cell_type": "code",
   "execution_count": 61,
   "id": "a86c2d09",
   "metadata": {},
   "outputs": [],
   "source": [
    "df_boxplot = df_actual.pivot_table(columns ='platform', \n",
    "                                   index='year_of_release', \n",
    "                                   values='total_sales',\n",
    "                                   aggfunc = 'sum')\n",
    "\n",
    "color = {\n",
    "    \"boxes\": \"DarkGreen\",\n",
    "    \"whiskers\": \"DarkOrange\",\n",
    "    \"medians\": \"DarkBlue\",\n",
    "    \"caps\": \"Gray\",\n",
    "}\n",
    "\n",
    "# df_boxplot.plot.box(color=color, sym=\"r+\", by = )"
   ]
  },
  {
   "cell_type": "code",
   "execution_count": 62,
   "id": "32a12399",
   "metadata": {},
   "outputs": [
    {
     "data": {
      "image/png": "[encoded data removed]",
      "text/plain": [
       "<Figure size 432x288 with 1 Axes>"
      ]
     },
     "metadata": {
      "needs_background": "light"
     },
     "output_type": "display_data"
    }
   ],
   "source": [
    "df_actual.boxplot(column=\"total_sales\", by=\"platform\", showfliers=False)\n",
    "plt.xlabel(\"Платформа\")\n",
    "plt.ylabel(\"Продажи\")\n",
    "plt.show()"
   ]
  },
  {
   "cell_type": "markdown",
   "id": "60e9722b",
   "metadata": {},
   "source": [
    "Также видно, что наибольшие продажи за рассматриваемый актуальный период у PS4, XOne, X360,  WiiU.При этом видно, что большие продажи были и у X360 и у Wi и у PS3,которые к 2016 году уже сдали свои позиции более современным своим модификациям."
   ]
  },
  {
   "cell_type": "markdown",
   "id": "f36a941e",
   "metadata": {},
   "source": [
    "### 2.6 Зависимость продаж от оценки"
   ]
  },
  {
   "cell_type": "markdown",
   "id": "6d11bfa1",
   "metadata": {},
   "source": [
    "Построим диаграмму рассеяния и посчитайте корреляцию между отзывами и продажами. Для примера возьмем X360, которая на рынке уже достаточно продолжительное время."
   ]
  },
  {
   "cell_type": "code",
   "execution_count": 63,
   "id": "c8ac9aa2",
   "metadata": {},
   "outputs": [],
   "source": [
    "filter_x360 = df_actual.query('platform == \"x360\"')"
   ]
  },
  {
   "cell_type": "code",
   "execution_count": 64,
   "id": "711e4415",
   "metadata": {},
   "outputs": [
    {
     "data": {
      "text/html": [
       "<div>\n",
       "<style scoped>\n",
       "    .dataframe tbody tr th:only-of-type {\n",
       "        vertical-align: middle;\n",
       "    }\n",
       "\n",
       "    .dataframe tbody tr th {\n",
       "        vertical-align: top;\n",
       "    }\n",
       "\n",
       "    .dataframe thead th {\n",
       "        text-align: right;\n",
       "    }\n",
       "</style>\n",
       "<table border=\"1\" class=\"dataframe\">\n",
       "  <thead>\n",
       "    <tr style=\"text-align: right;\">\n",
       "      <th></th>\n",
       "      <th>name</th>\n",
       "      <th>platform</th>\n",
       "      <th>year_of_release</th>\n",
       "      <th>genre</th>\n",
       "      <th>na_sales</th>\n",
       "      <th>eu_sales</th>\n",
       "      <th>jp_sales</th>\n",
       "      <th>other_sales</th>\n",
       "      <th>critic_score</th>\n",
       "      <th>user_score</th>\n",
       "      <th>rating</th>\n",
       "      <th>total_sales</th>\n",
       "    </tr>\n",
       "  </thead>\n",
       "  <tbody>\n",
       "    <tr>\n",
       "      <th>23</th>\n",
       "      <td>grand theft auto v</td>\n",
       "      <td>x360</td>\n",
       "      <td>2013.0</td>\n",
       "      <td>action</td>\n",
       "      <td>9.66</td>\n",
       "      <td>5.14</td>\n",
       "      <td>0.06</td>\n",
       "      <td>1.41</td>\n",
       "      <td>97.0</td>\n",
       "      <td>8.1</td>\n",
       "      <td>M</td>\n",
       "      <td>16.27</td>\n",
       "    </tr>\n",
       "    <tr>\n",
       "      <th>60</th>\n",
       "      <td>call of duty: ghosts</td>\n",
       "      <td>x360</td>\n",
       "      <td>2013.0</td>\n",
       "      <td>shooter</td>\n",
       "      <td>6.73</td>\n",
       "      <td>2.56</td>\n",
       "      <td>0.04</td>\n",
       "      <td>0.91</td>\n",
       "      <td>73.0</td>\n",
       "      <td>2.6</td>\n",
       "      <td>M</td>\n",
       "      <td>10.24</td>\n",
       "    </tr>\n",
       "    <tr>\n",
       "      <th>72</th>\n",
       "      <td>minecraft</td>\n",
       "      <td>x360</td>\n",
       "      <td>2013.0</td>\n",
       "      <td>misc</td>\n",
       "      <td>5.70</td>\n",
       "      <td>2.65</td>\n",
       "      <td>0.02</td>\n",
       "      <td>0.81</td>\n",
       "      <td>NaN</td>\n",
       "      <td>NaN</td>\n",
       "      <td>NaN</td>\n",
       "      <td>9.18</td>\n",
       "    </tr>\n",
       "    <tr>\n",
       "      <th>263</th>\n",
       "      <td>call of duty: advanced warfare</td>\n",
       "      <td>x360</td>\n",
       "      <td>2014.0</td>\n",
       "      <td>shooter</td>\n",
       "      <td>2.77</td>\n",
       "      <td>1.11</td>\n",
       "      <td>0.00</td>\n",
       "      <td>0.40</td>\n",
       "      <td>NaN</td>\n",
       "      <td>4.9</td>\n",
       "      <td>M</td>\n",
       "      <td>4.28</td>\n",
       "    </tr>\n",
       "    <tr>\n",
       "      <th>271</th>\n",
       "      <td>fifa 14</td>\n",
       "      <td>x360</td>\n",
       "      <td>2013.0</td>\n",
       "      <td>sports</td>\n",
       "      <td>0.92</td>\n",
       "      <td>2.89</td>\n",
       "      <td>0.01</td>\n",
       "      <td>0.40</td>\n",
       "      <td>84.0</td>\n",
       "      <td>4.2</td>\n",
       "      <td>E</td>\n",
       "      <td>4.22</td>\n",
       "    </tr>\n",
       "    <tr>\n",
       "      <th>...</th>\n",
       "      <td>...</td>\n",
       "      <td>...</td>\n",
       "      <td>...</td>\n",
       "      <td>...</td>\n",
       "      <td>...</td>\n",
       "      <td>...</td>\n",
       "      <td>...</td>\n",
       "      <td>...</td>\n",
       "      <td>...</td>\n",
       "      <td>...</td>\n",
       "      <td>...</td>\n",
       "      <td>...</td>\n",
       "    </tr>\n",
       "    <tr>\n",
       "      <th>16301</th>\n",
       "      <td>caladrius</td>\n",
       "      <td>x360</td>\n",
       "      <td>2013.0</td>\n",
       "      <td>shooter</td>\n",
       "      <td>0.00</td>\n",
       "      <td>0.00</td>\n",
       "      <td>0.01</td>\n",
       "      <td>0.00</td>\n",
       "      <td>NaN</td>\n",
       "      <td>NaN</td>\n",
       "      <td>T</td>\n",
       "      <td>0.01</td>\n",
       "    </tr>\n",
       "    <tr>\n",
       "      <th>16450</th>\n",
       "      <td>turbo: super stunt squad</td>\n",
       "      <td>x360</td>\n",
       "      <td>2013.0</td>\n",
       "      <td>sports</td>\n",
       "      <td>0.00</td>\n",
       "      <td>0.01</td>\n",
       "      <td>0.00</td>\n",
       "      <td>0.00</td>\n",
       "      <td>NaN</td>\n",
       "      <td>4.5</td>\n",
       "      <td>E</td>\n",
       "      <td>0.01</td>\n",
       "    </tr>\n",
       "    <tr>\n",
       "      <th>16460</th>\n",
       "      <td>young justice: legacy</td>\n",
       "      <td>x360</td>\n",
       "      <td>2013.0</td>\n",
       "      <td>action</td>\n",
       "      <td>0.00</td>\n",
       "      <td>0.01</td>\n",
       "      <td>0.00</td>\n",
       "      <td>0.00</td>\n",
       "      <td>NaN</td>\n",
       "      <td>6.2</td>\n",
       "      <td>T</td>\n",
       "      <td>0.01</td>\n",
       "    </tr>\n",
       "    <tr>\n",
       "      <th>16491</th>\n",
       "      <td>ride</td>\n",
       "      <td>x360</td>\n",
       "      <td>2015.0</td>\n",
       "      <td>racing</td>\n",
       "      <td>0.00</td>\n",
       "      <td>0.01</td>\n",
       "      <td>0.00</td>\n",
       "      <td>0.00</td>\n",
       "      <td>NaN</td>\n",
       "      <td>NaN</td>\n",
       "      <td>NaN</td>\n",
       "      <td>0.01</td>\n",
       "    </tr>\n",
       "    <tr>\n",
       "      <th>16654</th>\n",
       "      <td>ben 10 omniverse 2</td>\n",
       "      <td>x360</td>\n",
       "      <td>2013.0</td>\n",
       "      <td>action</td>\n",
       "      <td>0.00</td>\n",
       "      <td>0.01</td>\n",
       "      <td>0.00</td>\n",
       "      <td>0.00</td>\n",
       "      <td>NaN</td>\n",
       "      <td>5.1</td>\n",
       "      <td>E10+</td>\n",
       "      <td>0.01</td>\n",
       "    </tr>\n",
       "  </tbody>\n",
       "</table>\n",
       "<p>186 rows × 12 columns</p>\n",
       "</div>"
      ],
      "text/plain": [
       "                                 name platform  year_of_release    genre  \\\n",
       "23                 grand theft auto v     x360           2013.0   action   \n",
       "60               call of duty: ghosts     x360           2013.0  shooter   \n",
       "72                          minecraft     x360           2013.0     misc   \n",
       "263    call of duty: advanced warfare     x360           2014.0  shooter   \n",
       "271                           fifa 14     x360           2013.0   sports   \n",
       "...                               ...      ...              ...      ...   \n",
       "16301                       caladrius     x360           2013.0  shooter   \n",
       "16450        turbo: super stunt squad     x360           2013.0   sports   \n",
       "16460           young justice: legacy     x360           2013.0   action   \n",
       "16491                            ride     x360           2015.0   racing   \n",
       "16654              ben 10 omniverse 2     x360           2013.0   action   \n",
       "\n",
       "       na_sales  eu_sales  jp_sales  other_sales  critic_score  user_score  \\\n",
       "23         9.66      5.14      0.06         1.41          97.0         8.1   \n",
       "60         6.73      2.56      0.04         0.91          73.0         2.6   \n",
       "72         5.70      2.65      0.02         0.81           NaN         NaN   \n",
       "263        2.77      1.11      0.00         0.40           NaN         4.9   \n",
       "271        0.92      2.89      0.01         0.40          84.0         4.2   \n",
       "...         ...       ...       ...          ...           ...         ...   \n",
       "16301      0.00      0.00      0.01         0.00           NaN         NaN   \n",
       "16450      0.00      0.01      0.00         0.00           NaN         4.5   \n",
       "16460      0.00      0.01      0.00         0.00           NaN         6.2   \n",
       "16491      0.00      0.01      0.00         0.00           NaN         NaN   \n",
       "16654      0.00      0.01      0.00         0.00           NaN         5.1   \n",
       "\n",
       "      rating  total_sales  \n",
       "23         M        16.27  \n",
       "60         M        10.24  \n",
       "72       NaN         9.18  \n",
       "263        M         4.28  \n",
       "271        E         4.22  \n",
       "...      ...          ...  \n",
       "16301      T         0.01  \n",
       "16450      E         0.01  \n",
       "16460      T         0.01  \n",
       "16491    NaN         0.01  \n",
       "16654   E10+         0.01  \n",
       "\n",
       "[186 rows x 12 columns]"
      ]
     },
     "execution_count": 64,
     "metadata": {},
     "output_type": "execute_result"
    }
   ],
   "source": [
    "filter_x360"
   ]
  },
  {
   "cell_type": "code",
   "execution_count": 65,
   "id": "f7fa5290",
   "metadata": {},
   "outputs": [
    {
     "data": {
      "text/plain": [
       "<AxesSubplot:xlabel='critic_score', ylabel='total_sales'>"
      ]
     },
     "execution_count": 65,
     "metadata": {},
     "output_type": "execute_result"
    },
    {
     "data": {
      "image/png": "[encoded data removed]",
      "text/plain": [
       "<Figure size 864x576 with 1 Axes>"
      ]
     },
     "metadata": {
      "needs_background": "light"
     },
     "output_type": "display_data"
    }
   ],
   "source": [
    "filter_x360.plot(kind='scatter', \n",
    "                 y='total_sales', \n",
    "                 x='critic_score', \n",
    "                 linewidth=5, alpha=1, \n",
    "                 label='Зависимость продаж от оценки критиков', \n",
    "                 c='g',\n",
    "                 s=1,\n",
    "                 figsize=(12, 8))\n"
   ]
  },
  {
   "cell_type": "code",
   "execution_count": 66,
   "id": "7ca25fde",
   "metadata": {},
   "outputs": [
    {
     "data": {
      "text/plain": [
       "0.35"
      ]
     },
     "execution_count": 66,
     "metadata": {},
     "output_type": "execute_result"
    }
   ],
   "source": [
    "filter_x360['critic_score'].corr(filter_x360['total_sales']).round(decimals=2)"
   ]
  },
  {
   "cell_type": "markdown",
   "id": "dd71af4c",
   "metadata": {},
   "source": [
    "По коэффициенту корреляции видно, что корреляция между оценкой критиков и продажи слабая. Однако по диаграмме рассеяния можно отметить, что с увеличением оценки критиков, например, с величины 70 и выше корреляция возрастает. Проверим это."
   ]
  },
  {
   "cell_type": "code",
   "execution_count": 67,
   "id": "aafbdb3f",
   "metadata": {},
   "outputs": [],
   "source": [
    "filter_x360_high_ranking = df_actual.query('platform == \"x360\" & critic_score > 70')"
   ]
  },
  {
   "cell_type": "code",
   "execution_count": 68,
   "id": "1fd28966",
   "metadata": {},
   "outputs": [
    {
     "data": {
      "text/plain": [
       "0.35"
      ]
     },
     "execution_count": 68,
     "metadata": {},
     "output_type": "execute_result"
    }
   ],
   "source": [
    "filter_x360_high_ranking['critic_score'].corr(filter_x360_high_ranking['total_sales']).round(decimals=2)"
   ]
  },
  {
   "cell_type": "markdown",
   "id": "910e55ed",
   "metadata": {},
   "source": [
    " Корреляция не изменилась."
   ]
  },
  {
   "cell_type": "markdown",
   "id": "697e8d0e",
   "metadata": {},
   "source": [
    "#### После изменения периода охвата до 2013 года корреляция стала дажа меньше чем была."
   ]
  },
  {
   "cell_type": "code",
   "execution_count": 69,
   "id": "d314e8f5",
   "metadata": {},
   "outputs": [
    {
     "data": {
      "text/html": [
       "<div>\n",
       "<style scoped>\n",
       "    .dataframe tbody tr th:only-of-type {\n",
       "        vertical-align: middle;\n",
       "    }\n",
       "\n",
       "    .dataframe tbody tr th {\n",
       "        vertical-align: top;\n",
       "    }\n",
       "\n",
       "    .dataframe thead th {\n",
       "        text-align: right;\n",
       "    }\n",
       "</style>\n",
       "<table border=\"1\" class=\"dataframe\">\n",
       "  <thead>\n",
       "    <tr style=\"text-align: right;\">\n",
       "      <th></th>\n",
       "      <th>name</th>\n",
       "      <th>platform</th>\n",
       "      <th>year_of_release</th>\n",
       "      <th>genre</th>\n",
       "      <th>na_sales</th>\n",
       "      <th>eu_sales</th>\n",
       "      <th>jp_sales</th>\n",
       "      <th>other_sales</th>\n",
       "      <th>critic_score</th>\n",
       "      <th>user_score</th>\n",
       "      <th>rating</th>\n",
       "      <th>total_sales</th>\n",
       "    </tr>\n",
       "  </thead>\n",
       "  <tbody>\n",
       "    <tr>\n",
       "      <th>23</th>\n",
       "      <td>grand theft auto v</td>\n",
       "      <td>x360</td>\n",
       "      <td>2013.0</td>\n",
       "      <td>action</td>\n",
       "      <td>9.66</td>\n",
       "      <td>5.14</td>\n",
       "      <td>0.06</td>\n",
       "      <td>1.41</td>\n",
       "      <td>97.0</td>\n",
       "      <td>8.1</td>\n",
       "      <td>M</td>\n",
       "      <td>16.27</td>\n",
       "    </tr>\n",
       "  </tbody>\n",
       "</table>\n",
       "</div>"
      ],
      "text/plain": [
       "                  name platform  year_of_release   genre  na_sales  eu_sales  \\\n",
       "23  grand theft auto v     x360           2013.0  action      9.66      5.14   \n",
       "\n",
       "    jp_sales  other_sales  critic_score  user_score rating  total_sales  \n",
       "23      0.06         1.41          97.0         8.1      M        16.27  "
      ]
     },
     "execution_count": 69,
     "metadata": {},
     "output_type": "execute_result"
    }
   ],
   "source": [
    "filter_x360.query('total_sales > 15')"
   ]
  },
  {
   "cell_type": "markdown",
   "id": "eb3dae05",
   "metadata": {},
   "source": [
    "#### Зависимость практически отсутствует. Посмотрим другую  популярную платформу - PS4."
   ]
  },
  {
   "cell_type": "code",
   "execution_count": 72,
   "id": "2dff4322",
   "metadata": {},
   "outputs": [],
   "source": [
    "filter_ps4 = df_actual.query('platform == \"ps4\"')"
   ]
  },
  {
   "cell_type": "code",
   "execution_count": 73,
   "id": "6524998f",
   "metadata": {},
   "outputs": [
    {
     "data": {
      "text/plain": [
       "<AxesSubplot:xlabel='critic_score', ylabel='total_sales'>"
      ]
     },
     "execution_count": 73,
     "metadata": {},
     "output_type": "execute_result"
    },
    {
     "data": {
      "image/png": "[encoded data removed]",
      "text/plain": [
       "<Figure size 864x576 with 1 Axes>"
      ]
     },
     "metadata": {
      "needs_background": "light"
     },
     "output_type": "display_data"
    }
   ],
   "source": [
    "filter_ps4.plot(kind='scatter', \n",
    "                y='total_sales', \n",
    "                x='critic_score', \n",
    "                linewidth=5, \n",
    "                alpha=1, \n",
    "                label='Зависимость продаж от оценки критиков', \n",
    "                c='g', \n",
    "                s=1,\n",
    "                figsize=(12, 8))"
   ]
  },
  {
   "cell_type": "code",
   "execution_count": 74,
   "id": "9d9fdcc5",
   "metadata": {},
   "outputs": [
    {
     "data": {
      "text/plain": [
       "0.41"
      ]
     },
     "execution_count": 74,
     "metadata": {},
     "output_type": "execute_result"
    }
   ],
   "source": [
    "filter_ps4['critic_score'].corr(filter_ps4['total_sales']).round(decimals=2)"
   ]
  },
  {
   "cell_type": "code",
   "execution_count": 75,
   "id": "b84ebcd4",
   "metadata": {},
   "outputs": [
    {
     "data": {
      "text/plain": [
       "<AxesSubplot:xlabel='user_score', ylabel='total_sales'>"
      ]
     },
     "execution_count": 75,
     "metadata": {},
     "output_type": "execute_result"
    },
    {
     "data": {
      "image/png": "[encoded data removed]",
      "text/plain": [
       "<Figure size 864x576 with 1 Axes>"
      ]
     },
     "metadata": {
      "needs_background": "light"
     },
     "output_type": "display_data"
    }
   ],
   "source": [
    "filter_ps4.plot(kind='scatter', \n",
    "                y='total_sales', \n",
    "                x='user_score', \n",
    "                linewidth=5, \n",
    "                alpha=1, \n",
    "                label='Зависимость продаж от оценки критиков', \n",
    "                c='g', \n",
    "                s=1,\n",
    "                figsize=(12, 8))"
   ]
  },
  {
   "cell_type": "code",
   "execution_count": 76,
   "id": "1b1355ec",
   "metadata": {},
   "outputs": [
    {
     "data": {
      "text/plain": [
       "-0.03"
      ]
     },
     "execution_count": 76,
     "metadata": {},
     "output_type": "execute_result"
    }
   ],
   "source": [
    "filter_ps4['user_score'].corr(filter_ps4['total_sales']).round(decimals=2)"
   ]
  },
  {
   "cell_type": "markdown",
   "id": "1ca0b8ca",
   "metadata": {},
   "source": [
    "#### Ситуация аналогичная. Посмотрим еще WiiU"
   ]
  },
  {
   "cell_type": "code",
   "execution_count": 77,
   "id": "935d06a5",
   "metadata": {},
   "outputs": [],
   "source": [
    "filter_wii = df_actual.query('platform == \"wiiu\"')"
   ]
  },
  {
   "cell_type": "code",
   "execution_count": 78,
   "id": "c6cbb759",
   "metadata": {},
   "outputs": [
    {
     "data": {
      "text/plain": [
       "<AxesSubplot:xlabel='critic_score', ylabel='total_sales'>"
      ]
     },
     "execution_count": 78,
     "metadata": {},
     "output_type": "execute_result"
    },
    {
     "data": {
      "image/png": "[encoded data removed]",
      "text/plain": [
       "<Figure size 864x576 with 1 Axes>"
      ]
     },
     "metadata": {
      "needs_background": "light"
     },
     "output_type": "display_data"
    }
   ],
   "source": [
    "filter_wii.plot(kind='scatter', \n",
    "                y='total_sales', \n",
    "                x='critic_score', \n",
    "                linewidth=5, \n",
    "                alpha=1, \n",
    "                label='Зависимость продаж от оценки критиков', \n",
    "                c='g', \n",
    "                s=1,\n",
    "                figsize=(12, 8))"
   ]
  },
  {
   "cell_type": "code",
   "execution_count": 79,
   "id": "07bea169",
   "metadata": {},
   "outputs": [
    {
     "data": {
      "text/plain": [
       "0.38"
      ]
     },
     "execution_count": 79,
     "metadata": {},
     "output_type": "execute_result"
    }
   ],
   "source": [
    "filter_wii['critic_score'].corr(filter_wii['total_sales']).round(decimals=2)"
   ]
  },
  {
   "cell_type": "code",
   "execution_count": 80,
   "id": "5529b100",
   "metadata": {},
   "outputs": [
    {
     "data": {
      "text/plain": [
       "<AxesSubplot:xlabel='user_score', ylabel='total_sales'>"
      ]
     },
     "execution_count": 80,
     "metadata": {},
     "output_type": "execute_result"
    },
    {
     "data": {
      "image/png": "[encoded data removed]",
      "text/plain": [
       "<Figure size 864x576 with 1 Axes>"
      ]
     },
     "metadata": {
      "needs_background": "light"
     },
     "output_type": "display_data"
    }
   ],
   "source": [
    "filter_wii.plot(kind='scatter', \n",
    "                y='total_sales', \n",
    "                x='user_score', \n",
    "                linewidth=5, \n",
    "                alpha=1, \n",
    "                label='Зависимость продаж от оценки критиков', \n",
    "                c='g',\n",
    "                s=1,\n",
    "                figsize=(12, 8))"
   ]
  },
  {
   "cell_type": "code",
   "execution_count": 81,
   "id": "f1191bd7",
   "metadata": {},
   "outputs": [
    {
     "data": {
      "text/plain": [
       "0.42"
      ]
     },
     "execution_count": 81,
     "metadata": {},
     "output_type": "execute_result"
    }
   ],
   "source": [
    "filter_wii['user_score'].corr(filter_wii['total_sales']).round(decimals=2)"
   ]
  },
  {
   "cell_type": "markdown",
   "id": "60615c1d",
   "metadata": {},
   "source": [
    "В общем картина аналогичная. Существует небольшая корреляция между оценками экспертов и продажами игр. Часть пользователей перед тем как купить копию изучает мнение профессионалов в игровой индустрии. Оценка пользователей на продажи практически не влияет."
   ]
  },
  {
   "cell_type": "markdown",
   "id": "3d2fd4b0",
   "metadata": {},
   "source": [
    "### 2.7 Распределение по жанрам"
   ]
  },
  {
   "cell_type": "code",
   "execution_count": 82,
   "id": "4ec41112",
   "metadata": {},
   "outputs": [
    {
     "data": {
      "text/html": [
       "<div>\n",
       "<style scoped>\n",
       "    .dataframe tbody tr th:only-of-type {\n",
       "        vertical-align: middle;\n",
       "    }\n",
       "\n",
       "    .dataframe tbody tr th {\n",
       "        vertical-align: top;\n",
       "    }\n",
       "\n",
       "    .dataframe thead th {\n",
       "        text-align: right;\n",
       "    }\n",
       "</style>\n",
       "<table border=\"1\" class=\"dataframe\">\n",
       "  <thead>\n",
       "    <tr style=\"text-align: right;\">\n",
       "      <th></th>\n",
       "      <th>name</th>\n",
       "      <th>platform</th>\n",
       "      <th>year_of_release</th>\n",
       "      <th>genre</th>\n",
       "      <th>na_sales</th>\n",
       "      <th>eu_sales</th>\n",
       "      <th>jp_sales</th>\n",
       "      <th>other_sales</th>\n",
       "      <th>critic_score</th>\n",
       "      <th>user_score</th>\n",
       "      <th>rating</th>\n",
       "      <th>total_sales</th>\n",
       "    </tr>\n",
       "  </thead>\n",
       "  <tbody>\n",
       "    <tr>\n",
       "      <th>16</th>\n",
       "      <td>grand theft auto v</td>\n",
       "      <td>ps3</td>\n",
       "      <td>2013.0</td>\n",
       "      <td>action</td>\n",
       "      <td>7.02</td>\n",
       "      <td>9.09</td>\n",
       "      <td>0.98</td>\n",
       "      <td>3.96</td>\n",
       "      <td>97.0</td>\n",
       "      <td>8.2</td>\n",
       "      <td>M</td>\n",
       "      <td>21.05</td>\n",
       "    </tr>\n",
       "    <tr>\n",
       "      <th>23</th>\n",
       "      <td>grand theft auto v</td>\n",
       "      <td>x360</td>\n",
       "      <td>2013.0</td>\n",
       "      <td>action</td>\n",
       "      <td>9.66</td>\n",
       "      <td>5.14</td>\n",
       "      <td>0.06</td>\n",
       "      <td>1.41</td>\n",
       "      <td>97.0</td>\n",
       "      <td>8.1</td>\n",
       "      <td>M</td>\n",
       "      <td>16.27</td>\n",
       "    </tr>\n",
       "    <tr>\n",
       "      <th>31</th>\n",
       "      <td>call of duty: black ops 3</td>\n",
       "      <td>ps4</td>\n",
       "      <td>2015.0</td>\n",
       "      <td>shooter</td>\n",
       "      <td>6.03</td>\n",
       "      <td>5.86</td>\n",
       "      <td>0.36</td>\n",
       "      <td>2.38</td>\n",
       "      <td>NaN</td>\n",
       "      <td>NaN</td>\n",
       "      <td>NaN</td>\n",
       "      <td>14.63</td>\n",
       "    </tr>\n",
       "    <tr>\n",
       "      <th>33</th>\n",
       "      <td>pokemon x/pokemon y</td>\n",
       "      <td>3ds</td>\n",
       "      <td>2013.0</td>\n",
       "      <td>role-playing</td>\n",
       "      <td>5.28</td>\n",
       "      <td>4.19</td>\n",
       "      <td>4.35</td>\n",
       "      <td>0.78</td>\n",
       "      <td>NaN</td>\n",
       "      <td>NaN</td>\n",
       "      <td>NaN</td>\n",
       "      <td>14.60</td>\n",
       "    </tr>\n",
       "    <tr>\n",
       "      <th>42</th>\n",
       "      <td>grand theft auto v</td>\n",
       "      <td>ps4</td>\n",
       "      <td>2014.0</td>\n",
       "      <td>action</td>\n",
       "      <td>3.96</td>\n",
       "      <td>6.31</td>\n",
       "      <td>0.38</td>\n",
       "      <td>1.97</td>\n",
       "      <td>97.0</td>\n",
       "      <td>8.3</td>\n",
       "      <td>M</td>\n",
       "      <td>12.62</td>\n",
       "    </tr>\n",
       "    <tr>\n",
       "      <th>...</th>\n",
       "      <td>...</td>\n",
       "      <td>...</td>\n",
       "      <td>...</td>\n",
       "      <td>...</td>\n",
       "      <td>...</td>\n",
       "      <td>...</td>\n",
       "      <td>...</td>\n",
       "      <td>...</td>\n",
       "      <td>...</td>\n",
       "      <td>...</td>\n",
       "      <td>...</td>\n",
       "      <td>...</td>\n",
       "    </tr>\n",
       "    <tr>\n",
       "      <th>16703</th>\n",
       "      <td>strawberry nauts</td>\n",
       "      <td>psv</td>\n",
       "      <td>2016.0</td>\n",
       "      <td>adventure</td>\n",
       "      <td>0.00</td>\n",
       "      <td>0.00</td>\n",
       "      <td>0.01</td>\n",
       "      <td>0.00</td>\n",
       "      <td>NaN</td>\n",
       "      <td>NaN</td>\n",
       "      <td>NaN</td>\n",
       "      <td>0.01</td>\n",
       "    </tr>\n",
       "    <tr>\n",
       "      <th>16707</th>\n",
       "      <td>aiyoku no eustia</td>\n",
       "      <td>psv</td>\n",
       "      <td>2014.0</td>\n",
       "      <td>misc</td>\n",
       "      <td>0.00</td>\n",
       "      <td>0.00</td>\n",
       "      <td>0.01</td>\n",
       "      <td>0.00</td>\n",
       "      <td>NaN</td>\n",
       "      <td>NaN</td>\n",
       "      <td>NaN</td>\n",
       "      <td>0.01</td>\n",
       "    </tr>\n",
       "    <tr>\n",
       "      <th>16710</th>\n",
       "      <td>samurai warriors: sanada maru</td>\n",
       "      <td>ps3</td>\n",
       "      <td>2016.0</td>\n",
       "      <td>action</td>\n",
       "      <td>0.00</td>\n",
       "      <td>0.00</td>\n",
       "      <td>0.01</td>\n",
       "      <td>0.00</td>\n",
       "      <td>NaN</td>\n",
       "      <td>NaN</td>\n",
       "      <td>NaN</td>\n",
       "      <td>0.01</td>\n",
       "    </tr>\n",
       "    <tr>\n",
       "      <th>16712</th>\n",
       "      <td>haitaka no psychedelica</td>\n",
       "      <td>psv</td>\n",
       "      <td>2016.0</td>\n",
       "      <td>adventure</td>\n",
       "      <td>0.00</td>\n",
       "      <td>0.00</td>\n",
       "      <td>0.01</td>\n",
       "      <td>0.00</td>\n",
       "      <td>NaN</td>\n",
       "      <td>NaN</td>\n",
       "      <td>NaN</td>\n",
       "      <td>0.01</td>\n",
       "    </tr>\n",
       "    <tr>\n",
       "      <th>16714</th>\n",
       "      <td>winning post 8 2016</td>\n",
       "      <td>psv</td>\n",
       "      <td>2016.0</td>\n",
       "      <td>simulation</td>\n",
       "      <td>0.00</td>\n",
       "      <td>0.00</td>\n",
       "      <td>0.01</td>\n",
       "      <td>0.00</td>\n",
       "      <td>NaN</td>\n",
       "      <td>NaN</td>\n",
       "      <td>NaN</td>\n",
       "      <td>0.01</td>\n",
       "    </tr>\n",
       "  </tbody>\n",
       "</table>\n",
       "<p>2233 rows × 12 columns</p>\n",
       "</div>"
      ],
      "text/plain": [
       "                                name platform  year_of_release         genre  \\\n",
       "16                grand theft auto v      ps3           2013.0        action   \n",
       "23                grand theft auto v     x360           2013.0        action   \n",
       "31         call of duty: black ops 3      ps4           2015.0       shooter   \n",
       "33               pokemon x/pokemon y      3ds           2013.0  role-playing   \n",
       "42                grand theft auto v      ps4           2014.0        action   \n",
       "...                              ...      ...              ...           ...   \n",
       "16703               strawberry nauts      psv           2016.0     adventure   \n",
       "16707               aiyoku no eustia      psv           2014.0          misc   \n",
       "16710  samurai warriors: sanada maru      ps3           2016.0        action   \n",
       "16712        haitaka no psychedelica      psv           2016.0     adventure   \n",
       "16714            winning post 8 2016      psv           2016.0    simulation   \n",
       "\n",
       "       na_sales  eu_sales  jp_sales  other_sales  critic_score  user_score  \\\n",
       "16         7.02      9.09      0.98         3.96          97.0         8.2   \n",
       "23         9.66      5.14      0.06         1.41          97.0         8.1   \n",
       "31         6.03      5.86      0.36         2.38           NaN         NaN   \n",
       "33         5.28      4.19      4.35         0.78           NaN         NaN   \n",
       "42         3.96      6.31      0.38         1.97          97.0         8.3   \n",
       "...         ...       ...       ...          ...           ...         ...   \n",
       "16703      0.00      0.00      0.01         0.00           NaN         NaN   \n",
       "16707      0.00      0.00      0.01         0.00           NaN         NaN   \n",
       "16710      0.00      0.00      0.01         0.00           NaN         NaN   \n",
       "16712      0.00      0.00      0.01         0.00           NaN         NaN   \n",
       "16714      0.00      0.00      0.01         0.00           NaN         NaN   \n",
       "\n",
       "      rating  total_sales  \n",
       "16         M        21.05  \n",
       "23         M        16.27  \n",
       "31       NaN        14.63  \n",
       "33       NaN        14.60  \n",
       "42         M        12.62  \n",
       "...      ...          ...  \n",
       "16703    NaN         0.01  \n",
       "16707    NaN         0.01  \n",
       "16710    NaN         0.01  \n",
       "16712    NaN         0.01  \n",
       "16714    NaN         0.01  \n",
       "\n",
       "[2233 rows x 12 columns]"
      ]
     },
     "execution_count": 82,
     "metadata": {},
     "output_type": "execute_result"
    }
   ],
   "source": [
    "df_actual"
   ]
  },
  {
   "cell_type": "code",
   "execution_count": 83,
   "id": "a6eff369",
   "metadata": {},
   "outputs": [
    {
     "data": {
      "text/plain": [
       "genre\n",
       "action          321.87\n",
       "shooter         232.98\n",
       "sports          150.65\n",
       "role-playing    145.89\n",
       "misc             62.82\n",
       "platform         42.63\n",
       "racing           39.89\n",
       "fighting         35.31\n",
       "adventure        23.64\n",
       "simulation       21.76\n",
       "strategy         10.08\n",
       "puzzle            3.17\n",
       "Name: total_sales, dtype: float64"
      ]
     },
     "execution_count": 83,
     "metadata": {},
     "output_type": "execute_result"
    }
   ],
   "source": [
    "df_actual.groupby('genre')['total_sales'].sum().sort_values(ascending = False)"
   ]
  },
  {
   "cell_type": "markdown",
   "id": "9209cbbd",
   "metadata": {},
   "source": [
    "Самые прибыльные жанры - экшн, спортивные симуляторы и шутеры. Напротив самые низкие продажи показали стратегии, симуляторы и пазлы."
   ]
  },
  {
   "cell_type": "markdown",
   "id": "80d1d24d",
   "metadata": {},
   "source": [
    "#### График с выбросами:"
   ]
  },
  {
   "cell_type": "code",
   "execution_count": 84,
   "id": "3a54a41c",
   "metadata": {},
   "outputs": [
    {
     "data": {
      "image/png": "[encoded data removed]",
      "text/plain": [
       "<Figure size 432x288 with 1 Axes>"
      ]
     },
     "metadata": {
      "needs_background": "light"
     },
     "output_type": "display_data"
    }
   ],
   "source": [
    "df_actual.boxplot(column=\"total_sales\", by=\"genre\", showfliers=True)\n",
    "plt.xlabel(\"Жанр\")\n",
    "plt.ylabel(\"Продажи\")\n",
    "plt.show()"
   ]
  },
  {
   "cell_type": "markdown",
   "id": "afd39627",
   "metadata": {},
   "source": [
    "#### График без выбросов:"
   ]
  },
  {
   "cell_type": "code",
   "execution_count": 85,
   "id": "16359566",
   "metadata": {},
   "outputs": [
    {
     "data": {
      "image/png": "[encoded data removed]",
      "text/plain": [
       "<Figure size 432x288 with 1 Axes>"
      ]
     },
     "metadata": {
      "needs_background": "light"
     },
     "output_type": "display_data"
    }
   ],
   "source": [
    "df_actual.boxplot(column=\"total_sales\", by=\"genre\", showfliers=False, rot=70)\n",
    "plt.xlabel(\"Жанр\")\n",
    "plt.ylabel(\"Продажи\")\n",
    "plt.show()"
   ]
  },
  {
   "cell_type": "markdown",
   "id": "b91911fa",
   "metadata": {},
   "source": [
    "## 3. Портрет пользователя каждого региона - Северной Америке (NA), Европы (EU) и Японии (JP)"
   ]
  },
  {
   "cell_type": "markdown",
   "id": "1da3789a",
   "metadata": {},
   "source": [
    "### 3.1 Самые популярные платформы для каждого региона"
   ]
  },
  {
   "cell_type": "code",
   "execution_count": 1,
   "id": "3423ce04",
   "metadata": {},
   "outputs": [
    {
     "ename": "NameError",
     "evalue": "name 'df_actual' is not defined",
     "output_type": "error",
     "traceback": [
      "\u001b[1;31m---------------------------------------------------------------------------\u001b[0m",
      "\u001b[1;31mNameError\u001b[0m                                 Traceback (most recent call last)",
      "Cell \u001b[1;32mIn[1], line 1\u001b[0m\n\u001b[1;32m----> 1\u001b[0m \u001b[43mdf_actual\u001b[49m\u001b[38;5;241m.\u001b[39mpivot_table(columns \u001b[38;5;241m=\u001b[39m\u001b[38;5;124m'\u001b[39m\u001b[38;5;124mplatform\u001b[39m\u001b[38;5;124m'\u001b[39m, \n\u001b[0;32m      2\u001b[0m                       values\u001b[38;5;241m=\u001b[39m[\u001b[38;5;124m'\u001b[39m\u001b[38;5;124mna_sales\u001b[39m\u001b[38;5;124m'\u001b[39m,\u001b[38;5;124m'\u001b[39m\u001b[38;5;124meu_sales\u001b[39m\u001b[38;5;124m'\u001b[39m,\u001b[38;5;124m'\u001b[39m\u001b[38;5;124mjp_sales\u001b[39m\u001b[38;5;124m'\u001b[39m], \n\u001b[0;32m      3\u001b[0m                       aggfunc \u001b[38;5;241m=\u001b[39m \u001b[38;5;124m'\u001b[39m\u001b[38;5;124msum\u001b[39m\u001b[38;5;124m'\u001b[39m)\\\n\u001b[0;32m      4\u001b[0m                       \u001b[38;5;241m.\u001b[39mtranspose()\n",
      "\u001b[1;31mNameError\u001b[0m: name 'df_actual' is not defined"
     ]
    }
   ],
   "source": [
    "df_actual.pivot_table(columns ='platform', \n",
    "                      values=['na_sales','eu_sales','jp_sales'], \n",
    "                      aggfunc = 'sum')\\\n",
    "                      .transpose() "
   ]
  },
  {
   "cell_type": "code",
   "execution_count": 88,
   "id": "e3b5760e",
   "metadata": {},
   "outputs": [
    {
     "data": {
      "text/plain": [
       "platform\n",
       "ps4     108.74\n",
       "xone     93.12\n",
       "x360     81.66\n",
       "ps3      63.50\n",
       "3ds      38.20\n",
       "wiiu     29.21\n",
       "pc       11.11\n",
       "wii       6.56\n",
       "psv       5.04\n",
       "ds        0.57\n",
       "psp       0.00\n",
       "Name: na_sales, dtype: float64"
      ]
     },
     "execution_count": 88,
     "metadata": {},
     "output_type": "execute_result"
    }
   ],
   "source": [
    "top_platform = df_actual.pivot_table(columns ='platform', \n",
    "                      values=['na_sales','eu_sales','jp_sales'], \n",
    "                                     aggfunc = 'sum').transpose()\n",
    "top_platform['na_sales'].sort_values(ascending = False)"
   ]
  },
  {
   "cell_type": "code",
   "execution_count": 89,
   "id": "adbe65bf",
   "metadata": {},
   "outputs": [
    {
     "data": {
      "text/plain": [
       "platform\n",
       "ps4     141.09\n",
       "ps3      67.81\n",
       "xone     51.59\n",
       "x360     42.52\n",
       "3ds      30.96\n",
       "pc       25.36\n",
       "wiiu     19.85\n",
       "psv       6.10\n",
       "wii       5.93\n",
       "ds        0.85\n",
       "psp       0.17\n",
       "Name: eu_sales, dtype: float64"
      ]
     },
     "execution_count": 89,
     "metadata": {},
     "output_type": "execute_result"
    }
   ],
   "source": [
    "top_platform['eu_sales'].sort_values(ascending = False)"
   ]
  },
  {
   "cell_type": "code",
   "execution_count": 90,
   "id": "e10a2f22",
   "metadata": {},
   "outputs": [
    {
     "data": {
      "text/plain": [
       "platform\n",
       "3ds     67.81\n",
       "ps3     23.35\n",
       "psv     18.59\n",
       "ps4     15.96\n",
       "wiiu    10.88\n",
       "psp      3.29\n",
       "x360     0.51\n",
       "xone     0.34\n",
       "wii      0.05\n",
       "ds       0.00\n",
       "pc       0.00\n",
       "Name: jp_sales, dtype: float64"
      ]
     },
     "execution_count": 90,
     "metadata": {},
     "output_type": "execute_result"
    }
   ],
   "source": [
    "top_platform['jp_sales'].sort_values(ascending = False)"
   ]
  },
  {
   "cell_type": "markdown",
   "id": "c9951bb5",
   "metadata": {},
   "source": [
    "Самые популярные платформы в Европе - 1) PS3 2) X360 3) Wii 4) DS 5) PS4. В Северной Америке - 1) X360 2)Wii 3) PS3 4) DS 5) PS2. В Японии - 1) DS 2) 3DS 3)PS3 4)PSP 5)Wii. \n"
   ]
  },
  {
   "cell_type": "markdown",
   "id": "dba4f4dc",
   "metadata": {},
   "source": [
    "### 3.2 Определим самые популярные жанры для каждого региона"
   ]
  },
  {
   "cell_type": "code",
   "execution_count": 91,
   "id": "abff8115",
   "metadata": {},
   "outputs": [
    {
     "data": {
      "text/html": [
       "<div>\n",
       "<style scoped>\n",
       "    .dataframe tbody tr th:only-of-type {\n",
       "        vertical-align: middle;\n",
       "    }\n",
       "\n",
       "    .dataframe tbody tr th {\n",
       "        vertical-align: top;\n",
       "    }\n",
       "\n",
       "    .dataframe thead th {\n",
       "        text-align: right;\n",
       "    }\n",
       "</style>\n",
       "<table border=\"1\" class=\"dataframe\">\n",
       "  <thead>\n",
       "    <tr style=\"text-align: right;\">\n",
       "      <th></th>\n",
       "      <th>eu_sales</th>\n",
       "      <th>jp_sales</th>\n",
       "      <th>na_sales</th>\n",
       "    </tr>\n",
       "    <tr>\n",
       "      <th>genre</th>\n",
       "      <th></th>\n",
       "      <th></th>\n",
       "      <th></th>\n",
       "    </tr>\n",
       "  </thead>\n",
       "  <tbody>\n",
       "    <tr>\n",
       "      <th>action</th>\n",
       "      <td>118.13</td>\n",
       "      <td>40.49</td>\n",
       "      <td>126.05</td>\n",
       "    </tr>\n",
       "    <tr>\n",
       "      <th>adventure</th>\n",
       "      <td>8.25</td>\n",
       "      <td>5.82</td>\n",
       "      <td>7.14</td>\n",
       "    </tr>\n",
       "    <tr>\n",
       "      <th>fighting</th>\n",
       "      <td>8.55</td>\n",
       "      <td>7.65</td>\n",
       "      <td>15.55</td>\n",
       "    </tr>\n",
       "    <tr>\n",
       "      <th>misc</th>\n",
       "      <td>20.04</td>\n",
       "      <td>9.20</td>\n",
       "      <td>27.49</td>\n",
       "    </tr>\n",
       "    <tr>\n",
       "      <th>platform</th>\n",
       "      <td>15.58</td>\n",
       "      <td>4.79</td>\n",
       "      <td>18.14</td>\n",
       "    </tr>\n",
       "    <tr>\n",
       "      <th>puzzle</th>\n",
       "      <td>1.00</td>\n",
       "      <td>1.18</td>\n",
       "      <td>0.83</td>\n",
       "    </tr>\n",
       "    <tr>\n",
       "      <th>racing</th>\n",
       "      <td>20.19</td>\n",
       "      <td>2.30</td>\n",
       "      <td>12.96</td>\n",
       "    </tr>\n",
       "    <tr>\n",
       "      <th>role-playing</th>\n",
       "      <td>36.97</td>\n",
       "      <td>51.04</td>\n",
       "      <td>46.40</td>\n",
       "    </tr>\n",
       "    <tr>\n",
       "      <th>shooter</th>\n",
       "      <td>87.86</td>\n",
       "      <td>6.61</td>\n",
       "      <td>109.74</td>\n",
       "    </tr>\n",
       "    <tr>\n",
       "      <th>simulation</th>\n",
       "      <td>10.92</td>\n",
       "      <td>4.52</td>\n",
       "      <td>4.86</td>\n",
       "    </tr>\n",
       "    <tr>\n",
       "      <th>sports</th>\n",
       "      <td>60.52</td>\n",
       "      <td>5.41</td>\n",
       "      <td>65.27</td>\n",
       "    </tr>\n",
       "    <tr>\n",
       "      <th>strategy</th>\n",
       "      <td>4.22</td>\n",
       "      <td>1.77</td>\n",
       "      <td>3.28</td>\n",
       "    </tr>\n",
       "  </tbody>\n",
       "</table>\n",
       "</div>"
      ],
      "text/plain": [
       "              eu_sales  jp_sales  na_sales\n",
       "genre                                     \n",
       "action          118.13     40.49    126.05\n",
       "adventure         8.25      5.82      7.14\n",
       "fighting          8.55      7.65     15.55\n",
       "misc             20.04      9.20     27.49\n",
       "platform         15.58      4.79     18.14\n",
       "puzzle            1.00      1.18      0.83\n",
       "racing           20.19      2.30     12.96\n",
       "role-playing     36.97     51.04     46.40\n",
       "shooter          87.86      6.61    109.74\n",
       "simulation       10.92      4.52      4.86\n",
       "sports           60.52      5.41     65.27\n",
       "strategy          4.22      1.77      3.28"
      ]
     },
     "execution_count": 91,
     "metadata": {},
     "output_type": "execute_result"
    }
   ],
   "source": [
    "df_actual.pivot_table(columns ='genre', \\\n",
    "                      values=['na_sales','eu_sales','jp_sales'], aggfunc = 'sum').transpose()"
   ]
  },
  {
   "cell_type": "code",
   "execution_count": 92,
   "id": "3c5ab70b",
   "metadata": {},
   "outputs": [],
   "source": [
    "top_genres = df_actual.pivot_table(columns ='genre', \\\n",
    "                      values=['na_sales','eu_sales','jp_sales'], aggfunc = 'sum').transpose()"
   ]
  },
  {
   "cell_type": "code",
   "execution_count": 93,
   "id": "bf8740e3",
   "metadata": {},
   "outputs": [
    {
     "data": {
      "text/html": [
       "<div>\n",
       "<style scoped>\n",
       "    .dataframe tbody tr th:only-of-type {\n",
       "        vertical-align: middle;\n",
       "    }\n",
       "\n",
       "    .dataframe tbody tr th {\n",
       "        vertical-align: top;\n",
       "    }\n",
       "\n",
       "    .dataframe thead th {\n",
       "        text-align: right;\n",
       "    }\n",
       "</style>\n",
       "<table border=\"1\" class=\"dataframe\">\n",
       "  <thead>\n",
       "    <tr style=\"text-align: right;\">\n",
       "      <th></th>\n",
       "      <th>eu_sales</th>\n",
       "      <th>jp_sales</th>\n",
       "      <th>na_sales</th>\n",
       "    </tr>\n",
       "    <tr>\n",
       "      <th>genre</th>\n",
       "      <th></th>\n",
       "      <th></th>\n",
       "      <th></th>\n",
       "    </tr>\n",
       "  </thead>\n",
       "  <tbody>\n",
       "    <tr>\n",
       "      <th>action</th>\n",
       "      <td>118.13</td>\n",
       "      <td>40.49</td>\n",
       "      <td>126.05</td>\n",
       "    </tr>\n",
       "    <tr>\n",
       "      <th>adventure</th>\n",
       "      <td>8.25</td>\n",
       "      <td>5.82</td>\n",
       "      <td>7.14</td>\n",
       "    </tr>\n",
       "    <tr>\n",
       "      <th>fighting</th>\n",
       "      <td>8.55</td>\n",
       "      <td>7.65</td>\n",
       "      <td>15.55</td>\n",
       "    </tr>\n",
       "    <tr>\n",
       "      <th>misc</th>\n",
       "      <td>20.04</td>\n",
       "      <td>9.20</td>\n",
       "      <td>27.49</td>\n",
       "    </tr>\n",
       "    <tr>\n",
       "      <th>platform</th>\n",
       "      <td>15.58</td>\n",
       "      <td>4.79</td>\n",
       "      <td>18.14</td>\n",
       "    </tr>\n",
       "    <tr>\n",
       "      <th>puzzle</th>\n",
       "      <td>1.00</td>\n",
       "      <td>1.18</td>\n",
       "      <td>0.83</td>\n",
       "    </tr>\n",
       "    <tr>\n",
       "      <th>racing</th>\n",
       "      <td>20.19</td>\n",
       "      <td>2.30</td>\n",
       "      <td>12.96</td>\n",
       "    </tr>\n",
       "    <tr>\n",
       "      <th>role-playing</th>\n",
       "      <td>36.97</td>\n",
       "      <td>51.04</td>\n",
       "      <td>46.40</td>\n",
       "    </tr>\n",
       "    <tr>\n",
       "      <th>shooter</th>\n",
       "      <td>87.86</td>\n",
       "      <td>6.61</td>\n",
       "      <td>109.74</td>\n",
       "    </tr>\n",
       "    <tr>\n",
       "      <th>simulation</th>\n",
       "      <td>10.92</td>\n",
       "      <td>4.52</td>\n",
       "      <td>4.86</td>\n",
       "    </tr>\n",
       "    <tr>\n",
       "      <th>sports</th>\n",
       "      <td>60.52</td>\n",
       "      <td>5.41</td>\n",
       "      <td>65.27</td>\n",
       "    </tr>\n",
       "    <tr>\n",
       "      <th>strategy</th>\n",
       "      <td>4.22</td>\n",
       "      <td>1.77</td>\n",
       "      <td>3.28</td>\n",
       "    </tr>\n",
       "  </tbody>\n",
       "</table>\n",
       "</div>"
      ],
      "text/plain": [
       "              eu_sales  jp_sales  na_sales\n",
       "genre                                     \n",
       "action          118.13     40.49    126.05\n",
       "adventure         8.25      5.82      7.14\n",
       "fighting          8.55      7.65     15.55\n",
       "misc             20.04      9.20     27.49\n",
       "platform         15.58      4.79     18.14\n",
       "puzzle            1.00      1.18      0.83\n",
       "racing           20.19      2.30     12.96\n",
       "role-playing     36.97     51.04     46.40\n",
       "shooter          87.86      6.61    109.74\n",
       "simulation       10.92      4.52      4.86\n",
       "sports           60.52      5.41     65.27\n",
       "strategy          4.22      1.77      3.28"
      ]
     },
     "execution_count": 93,
     "metadata": {},
     "output_type": "execute_result"
    }
   ],
   "source": [
    "top_genres"
   ]
  },
  {
   "cell_type": "code",
   "execution_count": 94,
   "id": "d18088a7",
   "metadata": {},
   "outputs": [],
   "source": [
    "# top5_eu_others"
   ]
  },
  {
   "cell_type": "code",
   "execution_count": 95,
   "id": "1e4d825e",
   "metadata": {},
   "outputs": [
    {
     "data": {
      "text/plain": [
       "genre\n",
       "role-playing    51.04\n",
       "action          40.49\n",
       "misc             9.20\n",
       "fighting         7.65\n",
       "shooter          6.61\n",
       "adventure        5.82\n",
       "sports           5.41\n",
       "platform         4.79\n",
       "simulation       4.52\n",
       "racing           2.30\n",
       "strategy         1.77\n",
       "puzzle           1.18\n",
       "Name: jp_sales, dtype: float64"
      ]
     },
     "execution_count": 95,
     "metadata": {},
     "output_type": "execute_result"
    }
   ],
   "source": [
    "top_genres['jp_sales'].sort_values(ascending = False)"
   ]
  },
  {
   "cell_type": "code",
   "execution_count": 96,
   "id": "6f6f403c",
   "metadata": {},
   "outputs": [
    {
     "data": {
      "text/plain": [
       "genre\n",
       "action          126.05\n",
       "shooter         109.74\n",
       "sports           65.27\n",
       "role-playing     46.40\n",
       "misc             27.49\n",
       "platform         18.14\n",
       "fighting         15.55\n",
       "racing           12.96\n",
       "adventure         7.14\n",
       "simulation        4.86\n",
       "strategy          3.28\n",
       "puzzle            0.83\n",
       "Name: na_sales, dtype: float64"
      ]
     },
     "execution_count": 96,
     "metadata": {},
     "output_type": "execute_result"
    }
   ],
   "source": [
    "top_genres['na_sales'].sort_values(ascending = False)"
   ]
  },
  {
   "cell_type": "code",
   "execution_count": 97,
   "id": "5538eafe",
   "metadata": {},
   "outputs": [
    {
     "data": {
      "text/html": [
       "<div>\n",
       "<style scoped>\n",
       "    .dataframe tbody tr th:only-of-type {\n",
       "        vertical-align: middle;\n",
       "    }\n",
       "\n",
       "    .dataframe tbody tr th {\n",
       "        vertical-align: top;\n",
       "    }\n",
       "\n",
       "    .dataframe thead th {\n",
       "        text-align: right;\n",
       "    }\n",
       "</style>\n",
       "<table border=\"1\" class=\"dataframe\">\n",
       "  <thead>\n",
       "    <tr style=\"text-align: right;\">\n",
       "      <th></th>\n",
       "      <th>eu_sales</th>\n",
       "      <th>jp_sales</th>\n",
       "      <th>na_sales</th>\n",
       "    </tr>\n",
       "    <tr>\n",
       "      <th>genre</th>\n",
       "      <th></th>\n",
       "      <th></th>\n",
       "      <th></th>\n",
       "    </tr>\n",
       "  </thead>\n",
       "  <tbody>\n",
       "    <tr>\n",
       "      <th>action</th>\n",
       "      <td>118.13</td>\n",
       "      <td>40.49</td>\n",
       "      <td>126.05</td>\n",
       "    </tr>\n",
       "    <tr>\n",
       "      <th>adventure</th>\n",
       "      <td>8.25</td>\n",
       "      <td>5.82</td>\n",
       "      <td>7.14</td>\n",
       "    </tr>\n",
       "    <tr>\n",
       "      <th>fighting</th>\n",
       "      <td>8.55</td>\n",
       "      <td>7.65</td>\n",
       "      <td>15.55</td>\n",
       "    </tr>\n",
       "    <tr>\n",
       "      <th>misc</th>\n",
       "      <td>20.04</td>\n",
       "      <td>9.20</td>\n",
       "      <td>27.49</td>\n",
       "    </tr>\n",
       "    <tr>\n",
       "      <th>platform</th>\n",
       "      <td>15.58</td>\n",
       "      <td>4.79</td>\n",
       "      <td>18.14</td>\n",
       "    </tr>\n",
       "    <tr>\n",
       "      <th>puzzle</th>\n",
       "      <td>1.00</td>\n",
       "      <td>1.18</td>\n",
       "      <td>0.83</td>\n",
       "    </tr>\n",
       "    <tr>\n",
       "      <th>racing</th>\n",
       "      <td>20.19</td>\n",
       "      <td>2.30</td>\n",
       "      <td>12.96</td>\n",
       "    </tr>\n",
       "    <tr>\n",
       "      <th>role-playing</th>\n",
       "      <td>36.97</td>\n",
       "      <td>51.04</td>\n",
       "      <td>46.40</td>\n",
       "    </tr>\n",
       "    <tr>\n",
       "      <th>shooter</th>\n",
       "      <td>87.86</td>\n",
       "      <td>6.61</td>\n",
       "      <td>109.74</td>\n",
       "    </tr>\n",
       "    <tr>\n",
       "      <th>simulation</th>\n",
       "      <td>10.92</td>\n",
       "      <td>4.52</td>\n",
       "      <td>4.86</td>\n",
       "    </tr>\n",
       "    <tr>\n",
       "      <th>sports</th>\n",
       "      <td>60.52</td>\n",
       "      <td>5.41</td>\n",
       "      <td>65.27</td>\n",
       "    </tr>\n",
       "    <tr>\n",
       "      <th>strategy</th>\n",
       "      <td>4.22</td>\n",
       "      <td>1.77</td>\n",
       "      <td>3.28</td>\n",
       "    </tr>\n",
       "  </tbody>\n",
       "</table>\n",
       "</div>"
      ],
      "text/plain": [
       "              eu_sales  jp_sales  na_sales\n",
       "genre                                     \n",
       "action          118.13     40.49    126.05\n",
       "adventure         8.25      5.82      7.14\n",
       "fighting          8.55      7.65     15.55\n",
       "misc             20.04      9.20     27.49\n",
       "platform         15.58      4.79     18.14\n",
       "puzzle            1.00      1.18      0.83\n",
       "racing           20.19      2.30     12.96\n",
       "role-playing     36.97     51.04     46.40\n",
       "shooter          87.86      6.61    109.74\n",
       "simulation       10.92      4.52      4.86\n",
       "sports           60.52      5.41     65.27\n",
       "strategy          4.22      1.77      3.28"
      ]
     },
     "execution_count": 97,
     "metadata": {},
     "output_type": "execute_result"
    }
   ],
   "source": [
    "top_genres"
   ]
  },
  {
   "cell_type": "code",
   "execution_count": 98,
   "id": "4cb50552",
   "metadata": {},
   "outputs": [
    {
     "data": {
      "text/html": [
       "<div>\n",
       "<style scoped>\n",
       "    .dataframe tbody tr th:only-of-type {\n",
       "        vertical-align: middle;\n",
       "    }\n",
       "\n",
       "    .dataframe tbody tr th {\n",
       "        vertical-align: top;\n",
       "    }\n",
       "\n",
       "    .dataframe thead th {\n",
       "        text-align: right;\n",
       "    }\n",
       "</style>\n",
       "<table border=\"1\" class=\"dataframe\">\n",
       "  <thead>\n",
       "    <tr style=\"text-align: right;\">\n",
       "      <th></th>\n",
       "      <th>eu_sales</th>\n",
       "    </tr>\n",
       "  </thead>\n",
       "  <tbody>\n",
       "    <tr>\n",
       "      <th>action</th>\n",
       "      <td>118.13</td>\n",
       "    </tr>\n",
       "    <tr>\n",
       "      <th>shooter</th>\n",
       "      <td>87.86</td>\n",
       "    </tr>\n",
       "    <tr>\n",
       "      <th>sports</th>\n",
       "      <td>60.52</td>\n",
       "    </tr>\n",
       "    <tr>\n",
       "      <th>role-playing</th>\n",
       "      <td>36.97</td>\n",
       "    </tr>\n",
       "    <tr>\n",
       "      <th>racing</th>\n",
       "      <td>20.19</td>\n",
       "    </tr>\n",
       "    <tr>\n",
       "      <th>others</th>\n",
       "      <td>68.56</td>\n",
       "    </tr>\n",
       "  </tbody>\n",
       "</table>\n",
       "</div>"
      ],
      "text/plain": [
       "              eu_sales\n",
       "action          118.13\n",
       "shooter          87.86\n",
       "sports           60.52\n",
       "role-playing     36.97\n",
       "racing           20.19\n",
       "others           68.56"
      ]
     },
     "execution_count": 98,
     "metadata": {},
     "output_type": "execute_result"
    }
   ],
   "source": [
    "top_eu = top_genres['eu_sales'].sort_values(ascending=False) # сортируем по убыванию продаж в Европе\n",
    "top5_eu = top_eu.head().to_frame().rename(columns = {0:'space'}) # делаем дата-фрейм топ-5\n",
    "sum_other_eu = top_eu.iloc[5:].sum() # находим сумму оставшихся\n",
    "other_eu = pd.DataFrame({'eu_sales': [sum_other_eu]}, index=['others']) # делаем дата-фрем для всех остальных\n",
    "top6_eu = pd.concat([top5_eu, other_eu]) # соединяем 2 дата-фрейма\n",
    "top6_eu #"
   ]
  },
  {
   "cell_type": "code",
   "execution_count": 99,
   "id": "5e2331f7",
   "metadata": {},
   "outputs": [
    {
     "data": {
      "text/html": [
       "<div>\n",
       "<style scoped>\n",
       "    .dataframe tbody tr th:only-of-type {\n",
       "        vertical-align: middle;\n",
       "    }\n",
       "\n",
       "    .dataframe tbody tr th {\n",
       "        vertical-align: top;\n",
       "    }\n",
       "\n",
       "    .dataframe thead th {\n",
       "        text-align: right;\n",
       "    }\n",
       "</style>\n",
       "<table border=\"1\" class=\"dataframe\">\n",
       "  <thead>\n",
       "    <tr style=\"text-align: right;\">\n",
       "      <th></th>\n",
       "      <th>jp_sales</th>\n",
       "    </tr>\n",
       "  </thead>\n",
       "  <tbody>\n",
       "    <tr>\n",
       "      <th>role-playing</th>\n",
       "      <td>51.04</td>\n",
       "    </tr>\n",
       "    <tr>\n",
       "      <th>action</th>\n",
       "      <td>40.49</td>\n",
       "    </tr>\n",
       "    <tr>\n",
       "      <th>misc</th>\n",
       "      <td>9.20</td>\n",
       "    </tr>\n",
       "    <tr>\n",
       "      <th>fighting</th>\n",
       "      <td>7.65</td>\n",
       "    </tr>\n",
       "    <tr>\n",
       "      <th>shooter</th>\n",
       "      <td>6.61</td>\n",
       "    </tr>\n",
       "    <tr>\n",
       "      <th>others</th>\n",
       "      <td>25.79</td>\n",
       "    </tr>\n",
       "  </tbody>\n",
       "</table>\n",
       "</div>"
      ],
      "text/plain": [
       "              jp_sales\n",
       "role-playing     51.04\n",
       "action           40.49\n",
       "misc              9.20\n",
       "fighting          7.65\n",
       "shooter           6.61\n",
       "others           25.79"
      ]
     },
     "execution_count": 99,
     "metadata": {},
     "output_type": "execute_result"
    }
   ],
   "source": [
    "top_jp = top_genres['jp_sales'].sort_values(ascending=False) # сортируем по убыванию продаж в Японии\n",
    "top5_jp = top_jp.head().to_frame().rename(columns = {0:'space'}) # делаем дата-фрейм топ-5\n",
    "sum_other_jp = top_jp.iloc[5:].sum() # находим сумму оставшихся\n",
    "other_jp = pd.DataFrame({'jp_sales': [sum_other_jp]}, index=['others']) # делаем дата-фрем для всех остальных\n",
    "top6_jp = pd.concat([top5_jp, other_jp]) # соединяем 2 дата-фрейма\n",
    "top6_jp #"
   ]
  },
  {
   "cell_type": "code",
   "execution_count": 100,
   "id": "9973dee1",
   "metadata": {},
   "outputs": [
    {
     "data": {
      "text/html": [
       "<div>\n",
       "<style scoped>\n",
       "    .dataframe tbody tr th:only-of-type {\n",
       "        vertical-align: middle;\n",
       "    }\n",
       "\n",
       "    .dataframe tbody tr th {\n",
       "        vertical-align: top;\n",
       "    }\n",
       "\n",
       "    .dataframe thead th {\n",
       "        text-align: right;\n",
       "    }\n",
       "</style>\n",
       "<table border=\"1\" class=\"dataframe\">\n",
       "  <thead>\n",
       "    <tr style=\"text-align: right;\">\n",
       "      <th></th>\n",
       "      <th>na_sales</th>\n",
       "    </tr>\n",
       "  </thead>\n",
       "  <tbody>\n",
       "    <tr>\n",
       "      <th>action</th>\n",
       "      <td>126.05</td>\n",
       "    </tr>\n",
       "    <tr>\n",
       "      <th>shooter</th>\n",
       "      <td>109.74</td>\n",
       "    </tr>\n",
       "    <tr>\n",
       "      <th>sports</th>\n",
       "      <td>65.27</td>\n",
       "    </tr>\n",
       "    <tr>\n",
       "      <th>role-playing</th>\n",
       "      <td>46.40</td>\n",
       "    </tr>\n",
       "    <tr>\n",
       "      <th>misc</th>\n",
       "      <td>27.49</td>\n",
       "    </tr>\n",
       "    <tr>\n",
       "      <th>others</th>\n",
       "      <td>62.76</td>\n",
       "    </tr>\n",
       "  </tbody>\n",
       "</table>\n",
       "</div>"
      ],
      "text/plain": [
       "              na_sales\n",
       "action          126.05\n",
       "shooter         109.74\n",
       "sports           65.27\n",
       "role-playing     46.40\n",
       "misc             27.49\n",
       "others           62.76"
      ]
     },
     "execution_count": 100,
     "metadata": {},
     "output_type": "execute_result"
    }
   ],
   "source": [
    "top_na = top_genres['na_sales'].sort_values(ascending=False) # сортируем по убыванию продаж в Северной Америке\n",
    "top5_na = top_na.head().to_frame().rename(columns = {0:'space'}) # делаем дата-фрейм топ-5\n",
    "sum_other_na = top_na.iloc[5:].sum() # находим сумму оставшихся\n",
    "other_na = pd.DataFrame({'na_sales': [sum_other_na]}, index=['others']) # делаем дата-фрем для всех остальных\n",
    "top6_na = pd.concat([top5_na, other_na]) # соединяем 2 дата-фрейма\n",
    "top6_na #"
   ]
  },
  {
   "cell_type": "markdown",
   "id": "73507c42",
   "metadata": {},
   "source": [
    "В Европе и Северной Америке топ жанров практически одинаковый. В Японии на первом месте RPG. Возможно это связано с тем, что большинство игр этого жанра в Японии распространяется на их родных платформах Nintendo DS и 3DS. "
   ]
  },
  {
   "cell_type": "code",
   "execution_count": 101,
   "id": "4ae4b130",
   "metadata": {},
   "outputs": [
    {
     "data": {
      "image/png": "[encoded data removed]",
      "text/plain": [
       "<Figure size 864x576 with 3 Axes>"
      ]
     },
     "metadata": {},
     "output_type": "display_data"
    }
   ],
   "source": [
    "fig, ax = plt.subplots(1, 3, figsize=(12,8))\n",
    "\n",
    "top6_eu.plot.pie(subplots=True, legend=False, figsize=(6, 6), ax=ax[0])\n",
    "ax[0].set_title('Топ 5 игровых платформ Европы', fontsize=10)\n",
    "\n",
    "top6_jp.plot.pie(subplots=True, legend=False, figsize=(6, 6), ax=ax[1])\n",
    "ax[1].set_title('Топ 5 игровых платформ Японии', fontsize=10)\n",
    "\n",
    "top6_na.plot.pie(subplots=True,legend=False, figsize=(6, 6), ax=ax[2])\n",
    "ax[2].set_title('Топ 5 игровых платформ Северной Америки', fontsize=10)\n",
    "\n",
    "fig.suptitle('Обзор рынка платформ (портрет покупателя)', fontsize=14, y=0.75)\n",
    "\n",
    "plt.show()"
   ]
  },
  {
   "cell_type": "markdown",
   "id": "35cf26d7",
   "metadata": {},
   "source": [
    "### 3.3 Влияние рейтинга ESRB на продажи в отдельном регионе"
   ]
  },
  {
   "cell_type": "code",
   "execution_count": 102,
   "id": "09eb1011",
   "metadata": {},
   "outputs": [
    {
     "data": {
      "text/html": [
       "<div>\n",
       "<style scoped>\n",
       "    .dataframe tbody tr th:only-of-type {\n",
       "        vertical-align: middle;\n",
       "    }\n",
       "\n",
       "    .dataframe tbody tr th {\n",
       "        vertical-align: top;\n",
       "    }\n",
       "\n",
       "    .dataframe thead th {\n",
       "        text-align: right;\n",
       "    }\n",
       "</style>\n",
       "<table border=\"1\" class=\"dataframe\">\n",
       "  <thead>\n",
       "    <tr style=\"text-align: right;\">\n",
       "      <th></th>\n",
       "      <th>name</th>\n",
       "      <th>platform</th>\n",
       "      <th>year_of_release</th>\n",
       "      <th>genre</th>\n",
       "      <th>na_sales</th>\n",
       "      <th>eu_sales</th>\n",
       "      <th>jp_sales</th>\n",
       "      <th>other_sales</th>\n",
       "      <th>critic_score</th>\n",
       "      <th>user_score</th>\n",
       "      <th>rating</th>\n",
       "      <th>total_sales</th>\n",
       "    </tr>\n",
       "  </thead>\n",
       "  <tbody>\n",
       "    <tr>\n",
       "      <th>16</th>\n",
       "      <td>grand theft auto v</td>\n",
       "      <td>ps3</td>\n",
       "      <td>2013.0</td>\n",
       "      <td>action</td>\n",
       "      <td>7.02</td>\n",
       "      <td>9.09</td>\n",
       "      <td>0.98</td>\n",
       "      <td>3.96</td>\n",
       "      <td>97.0</td>\n",
       "      <td>8.2</td>\n",
       "      <td>M</td>\n",
       "      <td>21.05</td>\n",
       "    </tr>\n",
       "    <tr>\n",
       "      <th>23</th>\n",
       "      <td>grand theft auto v</td>\n",
       "      <td>x360</td>\n",
       "      <td>2013.0</td>\n",
       "      <td>action</td>\n",
       "      <td>9.66</td>\n",
       "      <td>5.14</td>\n",
       "      <td>0.06</td>\n",
       "      <td>1.41</td>\n",
       "      <td>97.0</td>\n",
       "      <td>8.1</td>\n",
       "      <td>M</td>\n",
       "      <td>16.27</td>\n",
       "    </tr>\n",
       "    <tr>\n",
       "      <th>31</th>\n",
       "      <td>call of duty: black ops 3</td>\n",
       "      <td>ps4</td>\n",
       "      <td>2015.0</td>\n",
       "      <td>shooter</td>\n",
       "      <td>6.03</td>\n",
       "      <td>5.86</td>\n",
       "      <td>0.36</td>\n",
       "      <td>2.38</td>\n",
       "      <td>NaN</td>\n",
       "      <td>NaN</td>\n",
       "      <td>NaN</td>\n",
       "      <td>14.63</td>\n",
       "    </tr>\n",
       "    <tr>\n",
       "      <th>33</th>\n",
       "      <td>pokemon x/pokemon y</td>\n",
       "      <td>3ds</td>\n",
       "      <td>2013.0</td>\n",
       "      <td>role-playing</td>\n",
       "      <td>5.28</td>\n",
       "      <td>4.19</td>\n",
       "      <td>4.35</td>\n",
       "      <td>0.78</td>\n",
       "      <td>NaN</td>\n",
       "      <td>NaN</td>\n",
       "      <td>NaN</td>\n",
       "      <td>14.60</td>\n",
       "    </tr>\n",
       "    <tr>\n",
       "      <th>42</th>\n",
       "      <td>grand theft auto v</td>\n",
       "      <td>ps4</td>\n",
       "      <td>2014.0</td>\n",
       "      <td>action</td>\n",
       "      <td>3.96</td>\n",
       "      <td>6.31</td>\n",
       "      <td>0.38</td>\n",
       "      <td>1.97</td>\n",
       "      <td>97.0</td>\n",
       "      <td>8.3</td>\n",
       "      <td>M</td>\n",
       "      <td>12.62</td>\n",
       "    </tr>\n",
       "    <tr>\n",
       "      <th>...</th>\n",
       "      <td>...</td>\n",
       "      <td>...</td>\n",
       "      <td>...</td>\n",
       "      <td>...</td>\n",
       "      <td>...</td>\n",
       "      <td>...</td>\n",
       "      <td>...</td>\n",
       "      <td>...</td>\n",
       "      <td>...</td>\n",
       "      <td>...</td>\n",
       "      <td>...</td>\n",
       "      <td>...</td>\n",
       "    </tr>\n",
       "    <tr>\n",
       "      <th>16703</th>\n",
       "      <td>strawberry nauts</td>\n",
       "      <td>psv</td>\n",
       "      <td>2016.0</td>\n",
       "      <td>adventure</td>\n",
       "      <td>0.00</td>\n",
       "      <td>0.00</td>\n",
       "      <td>0.01</td>\n",
       "      <td>0.00</td>\n",
       "      <td>NaN</td>\n",
       "      <td>NaN</td>\n",
       "      <td>NaN</td>\n",
       "      <td>0.01</td>\n",
       "    </tr>\n",
       "    <tr>\n",
       "      <th>16707</th>\n",
       "      <td>aiyoku no eustia</td>\n",
       "      <td>psv</td>\n",
       "      <td>2014.0</td>\n",
       "      <td>misc</td>\n",
       "      <td>0.00</td>\n",
       "      <td>0.00</td>\n",
       "      <td>0.01</td>\n",
       "      <td>0.00</td>\n",
       "      <td>NaN</td>\n",
       "      <td>NaN</td>\n",
       "      <td>NaN</td>\n",
       "      <td>0.01</td>\n",
       "    </tr>\n",
       "    <tr>\n",
       "      <th>16710</th>\n",
       "      <td>samurai warriors: sanada maru</td>\n",
       "      <td>ps3</td>\n",
       "      <td>2016.0</td>\n",
       "      <td>action</td>\n",
       "      <td>0.00</td>\n",
       "      <td>0.00</td>\n",
       "      <td>0.01</td>\n",
       "      <td>0.00</td>\n",
       "      <td>NaN</td>\n",
       "      <td>NaN</td>\n",
       "      <td>NaN</td>\n",
       "      <td>0.01</td>\n",
       "    </tr>\n",
       "    <tr>\n",
       "      <th>16712</th>\n",
       "      <td>haitaka no psychedelica</td>\n",
       "      <td>psv</td>\n",
       "      <td>2016.0</td>\n",
       "      <td>adventure</td>\n",
       "      <td>0.00</td>\n",
       "      <td>0.00</td>\n",
       "      <td>0.01</td>\n",
       "      <td>0.00</td>\n",
       "      <td>NaN</td>\n",
       "      <td>NaN</td>\n",
       "      <td>NaN</td>\n",
       "      <td>0.01</td>\n",
       "    </tr>\n",
       "    <tr>\n",
       "      <th>16714</th>\n",
       "      <td>winning post 8 2016</td>\n",
       "      <td>psv</td>\n",
       "      <td>2016.0</td>\n",
       "      <td>simulation</td>\n",
       "      <td>0.00</td>\n",
       "      <td>0.00</td>\n",
       "      <td>0.01</td>\n",
       "      <td>0.00</td>\n",
       "      <td>NaN</td>\n",
       "      <td>NaN</td>\n",
       "      <td>NaN</td>\n",
       "      <td>0.01</td>\n",
       "    </tr>\n",
       "  </tbody>\n",
       "</table>\n",
       "<p>2233 rows × 12 columns</p>\n",
       "</div>"
      ],
      "text/plain": [
       "                                name platform  year_of_release         genre  \\\n",
       "16                grand theft auto v      ps3           2013.0        action   \n",
       "23                grand theft auto v     x360           2013.0        action   \n",
       "31         call of duty: black ops 3      ps4           2015.0       shooter   \n",
       "33               pokemon x/pokemon y      3ds           2013.0  role-playing   \n",
       "42                grand theft auto v      ps4           2014.0        action   \n",
       "...                              ...      ...              ...           ...   \n",
       "16703               strawberry nauts      psv           2016.0     adventure   \n",
       "16707               aiyoku no eustia      psv           2014.0          misc   \n",
       "16710  samurai warriors: sanada maru      ps3           2016.0        action   \n",
       "16712        haitaka no psychedelica      psv           2016.0     adventure   \n",
       "16714            winning post 8 2016      psv           2016.0    simulation   \n",
       "\n",
       "       na_sales  eu_sales  jp_sales  other_sales  critic_score  user_score  \\\n",
       "16         7.02      9.09      0.98         3.96          97.0         8.2   \n",
       "23         9.66      5.14      0.06         1.41          97.0         8.1   \n",
       "31         6.03      5.86      0.36         2.38           NaN         NaN   \n",
       "33         5.28      4.19      4.35         0.78           NaN         NaN   \n",
       "42         3.96      6.31      0.38         1.97          97.0         8.3   \n",
       "...         ...       ...       ...          ...           ...         ...   \n",
       "16703      0.00      0.00      0.01         0.00           NaN         NaN   \n",
       "16707      0.00      0.00      0.01         0.00           NaN         NaN   \n",
       "16710      0.00      0.00      0.01         0.00           NaN         NaN   \n",
       "16712      0.00      0.00      0.01         0.00           NaN         NaN   \n",
       "16714      0.00      0.00      0.01         0.00           NaN         NaN   \n",
       "\n",
       "      rating  total_sales  \n",
       "16         M        21.05  \n",
       "23         M        16.27  \n",
       "31       NaN        14.63  \n",
       "33       NaN        14.60  \n",
       "42         M        12.62  \n",
       "...      ...          ...  \n",
       "16703    NaN         0.01  \n",
       "16707    NaN         0.01  \n",
       "16710    NaN         0.01  \n",
       "16712    NaN         0.01  \n",
       "16714    NaN         0.01  \n",
       "\n",
       "[2233 rows x 12 columns]"
      ]
     },
     "execution_count": 102,
     "metadata": {},
     "output_type": "execute_result"
    }
   ],
   "source": [
    "df_actual"
   ]
  },
  {
   "cell_type": "code",
   "execution_count": 103,
   "id": "6693a53c",
   "metadata": {},
   "outputs": [
    {
     "data": {
      "text/plain": [
       "rating\n",
       "M       165.21\n",
       "E        79.05\n",
       "E10+     54.24\n",
       "T        49.79\n",
       "Name: na_sales, dtype: float64"
      ]
     },
     "execution_count": 103,
     "metadata": {},
     "output_type": "execute_result"
    }
   ],
   "source": [
    "df_actual.groupby('rating')['na_sales'].sum().sort_values(ascending = False)"
   ]
  },
  {
   "cell_type": "code",
   "execution_count": 104,
   "id": "2d353fc5",
   "metadata": {},
   "outputs": [
    {
     "data": {
      "text/plain": [
       "rating\n",
       "M       145.32\n",
       "E        83.36\n",
       "E10+     42.69\n",
       "T        41.95\n",
       "Name: eu_sales, dtype: float64"
      ]
     },
     "execution_count": 104,
     "metadata": {},
     "output_type": "execute_result"
    }
   ],
   "source": [
    "df_actual.groupby('rating')['eu_sales'].sum().sort_values(ascending = False)"
   ]
  },
  {
   "cell_type": "code",
   "execution_count": 105,
   "id": "98067173",
   "metadata": {},
   "outputs": [
    {
     "data": {
      "text/plain": [
       "rating\n",
       "T       20.59\n",
       "E       15.14\n",
       "M       14.11\n",
       "E10+     5.89\n",
       "Name: jp_sales, dtype: float64"
      ]
     },
     "execution_count": 105,
     "metadata": {},
     "output_type": "execute_result"
    }
   ],
   "source": [
    "df_actual.groupby('rating')['jp_sales'].sum().sort_values(ascending = False)"
   ]
  },
  {
   "cell_type": "markdown",
   "id": "02456667",
   "metadata": {},
   "source": [
    "Как видно продажи игр с определенным возрастным рейтингом практически идентичны для всех регионов. В Японии больше продаются игры с рейтингом Т - для подростков и меньше с рейтингом M - для взрослых. Возможно это связано с тем, что в Японии больше геймеров подросткового возраста или еще младше."
   ]
  },
  {
   "cell_type": "markdown",
   "id": "f4e5f261",
   "metadata": {},
   "source": [
    "## 4. Проверка гипотез"
   ]
  },
  {
   "cell_type": "markdown",
   "id": "40a9da9a",
   "metadata": {},
   "source": [
    "### 4.1 Проверка гипотезы №1"
   ]
  },
  {
   "cell_type": "markdown",
   "id": "04fdca18",
   "metadata": {},
   "source": [
    "H_0: Средние пользовательские рейтинги(user_score) для платформы Xbox One = Средние пользовательские рейтинги(user_score) для платформы PC\n",
    "H_a: Средние пользовательские рейтинги(user_score) для платформы Xbox One ≠ Средние пользовательские рейтинги(user_score) для платформы PC`\n",
    "alpha = 0.05\n"
   ]
  },
  {
   "cell_type": "markdown",
   "id": "4e96e27c",
   "metadata": {},
   "source": [
    "Подготовим дата-сет для проверки гипотез - избавимся от строк с пропусками."
   ]
  },
  {
   "cell_type": "code",
   "execution_count": 106,
   "id": "cf3edc74",
   "metadata": {},
   "outputs": [],
   "source": [
    "df_actual_test = df_actual.dropna(subset=['user_score'])"
   ]
  },
  {
   "cell_type": "code",
   "execution_count": 107,
   "id": "2a03fd49",
   "metadata": {
    "scrolled": true
   },
   "outputs": [
    {
     "data": {
      "text/html": [
       "<div>\n",
       "<style scoped>\n",
       "    .dataframe tbody tr th:only-of-type {\n",
       "        vertical-align: middle;\n",
       "    }\n",
       "\n",
       "    .dataframe tbody tr th {\n",
       "        vertical-align: top;\n",
       "    }\n",
       "\n",
       "    .dataframe thead th {\n",
       "        text-align: right;\n",
       "    }\n",
       "</style>\n",
       "<table border=\"1\" class=\"dataframe\">\n",
       "  <thead>\n",
       "    <tr style=\"text-align: right;\">\n",
       "      <th></th>\n",
       "      <th>name</th>\n",
       "      <th>platform</th>\n",
       "      <th>year_of_release</th>\n",
       "      <th>genre</th>\n",
       "      <th>na_sales</th>\n",
       "      <th>eu_sales</th>\n",
       "      <th>jp_sales</th>\n",
       "      <th>other_sales</th>\n",
       "      <th>critic_score</th>\n",
       "      <th>user_score</th>\n",
       "      <th>rating</th>\n",
       "      <th>total_sales</th>\n",
       "    </tr>\n",
       "  </thead>\n",
       "  <tbody>\n",
       "    <tr>\n",
       "      <th>16</th>\n",
       "      <td>grand theft auto v</td>\n",
       "      <td>ps3</td>\n",
       "      <td>2013.0</td>\n",
       "      <td>action</td>\n",
       "      <td>7.02</td>\n",
       "      <td>9.09</td>\n",
       "      <td>0.98</td>\n",
       "      <td>3.96</td>\n",
       "      <td>97.0</td>\n",
       "      <td>8.2</td>\n",
       "      <td>M</td>\n",
       "      <td>21.05</td>\n",
       "    </tr>\n",
       "    <tr>\n",
       "      <th>23</th>\n",
       "      <td>grand theft auto v</td>\n",
       "      <td>x360</td>\n",
       "      <td>2013.0</td>\n",
       "      <td>action</td>\n",
       "      <td>9.66</td>\n",
       "      <td>5.14</td>\n",
       "      <td>0.06</td>\n",
       "      <td>1.41</td>\n",
       "      <td>97.0</td>\n",
       "      <td>8.1</td>\n",
       "      <td>M</td>\n",
       "      <td>16.27</td>\n",
       "    </tr>\n",
       "    <tr>\n",
       "      <th>42</th>\n",
       "      <td>grand theft auto v</td>\n",
       "      <td>ps4</td>\n",
       "      <td>2014.0</td>\n",
       "      <td>action</td>\n",
       "      <td>3.96</td>\n",
       "      <td>6.31</td>\n",
       "      <td>0.38</td>\n",
       "      <td>1.97</td>\n",
       "      <td>97.0</td>\n",
       "      <td>8.3</td>\n",
       "      <td>M</td>\n",
       "      <td>12.62</td>\n",
       "    </tr>\n",
       "    <tr>\n",
       "      <th>60</th>\n",
       "      <td>call of duty: ghosts</td>\n",
       "      <td>x360</td>\n",
       "      <td>2013.0</td>\n",
       "      <td>shooter</td>\n",
       "      <td>6.73</td>\n",
       "      <td>2.56</td>\n",
       "      <td>0.04</td>\n",
       "      <td>0.91</td>\n",
       "      <td>73.0</td>\n",
       "      <td>2.6</td>\n",
       "      <td>M</td>\n",
       "      <td>10.24</td>\n",
       "    </tr>\n",
       "    <tr>\n",
       "      <th>69</th>\n",
       "      <td>call of duty: ghosts</td>\n",
       "      <td>ps3</td>\n",
       "      <td>2013.0</td>\n",
       "      <td>shooter</td>\n",
       "      <td>4.10</td>\n",
       "      <td>3.63</td>\n",
       "      <td>0.38</td>\n",
       "      <td>1.25</td>\n",
       "      <td>71.0</td>\n",
       "      <td>2.6</td>\n",
       "      <td>M</td>\n",
       "      <td>9.36</td>\n",
       "    </tr>\n",
       "    <tr>\n",
       "      <th>...</th>\n",
       "      <td>...</td>\n",
       "      <td>...</td>\n",
       "      <td>...</td>\n",
       "      <td>...</td>\n",
       "      <td>...</td>\n",
       "      <td>...</td>\n",
       "      <td>...</td>\n",
       "      <td>...</td>\n",
       "      <td>...</td>\n",
       "      <td>...</td>\n",
       "      <td>...</td>\n",
       "      <td>...</td>\n",
       "    </tr>\n",
       "    <tr>\n",
       "      <th>16643</th>\n",
       "      <td>rugby challenge 3</td>\n",
       "      <td>xone</td>\n",
       "      <td>2016.0</td>\n",
       "      <td>sports</td>\n",
       "      <td>0.00</td>\n",
       "      <td>0.01</td>\n",
       "      <td>0.00</td>\n",
       "      <td>0.00</td>\n",
       "      <td>NaN</td>\n",
       "      <td>6.6</td>\n",
       "      <td>E</td>\n",
       "      <td>0.01</td>\n",
       "    </tr>\n",
       "    <tr>\n",
       "      <th>16652</th>\n",
       "      <td>fast racing neo</td>\n",
       "      <td>wiiu</td>\n",
       "      <td>2016.0</td>\n",
       "      <td>action</td>\n",
       "      <td>0.00</td>\n",
       "      <td>0.01</td>\n",
       "      <td>0.00</td>\n",
       "      <td>0.00</td>\n",
       "      <td>81.0</td>\n",
       "      <td>8.5</td>\n",
       "      <td>E</td>\n",
       "      <td>0.01</td>\n",
       "    </tr>\n",
       "    <tr>\n",
       "      <th>16654</th>\n",
       "      <td>ben 10 omniverse 2</td>\n",
       "      <td>x360</td>\n",
       "      <td>2013.0</td>\n",
       "      <td>action</td>\n",
       "      <td>0.00</td>\n",
       "      <td>0.01</td>\n",
       "      <td>0.00</td>\n",
       "      <td>0.00</td>\n",
       "      <td>NaN</td>\n",
       "      <td>5.1</td>\n",
       "      <td>E10+</td>\n",
       "      <td>0.01</td>\n",
       "    </tr>\n",
       "    <tr>\n",
       "      <th>16660</th>\n",
       "      <td>prison architect</td>\n",
       "      <td>xone</td>\n",
       "      <td>2016.0</td>\n",
       "      <td>action</td>\n",
       "      <td>0.01</td>\n",
       "      <td>0.00</td>\n",
       "      <td>0.00</td>\n",
       "      <td>0.00</td>\n",
       "      <td>74.0</td>\n",
       "      <td>6.7</td>\n",
       "      <td>NaN</td>\n",
       "      <td>0.01</td>\n",
       "    </tr>\n",
       "    <tr>\n",
       "      <th>16692</th>\n",
       "      <td>metal gear solid v: ground zeroes</td>\n",
       "      <td>pc</td>\n",
       "      <td>2014.0</td>\n",
       "      <td>action</td>\n",
       "      <td>0.00</td>\n",
       "      <td>0.01</td>\n",
       "      <td>0.00</td>\n",
       "      <td>0.00</td>\n",
       "      <td>80.0</td>\n",
       "      <td>7.6</td>\n",
       "      <td>M</td>\n",
       "      <td>0.01</td>\n",
       "    </tr>\n",
       "  </tbody>\n",
       "</table>\n",
       "<p>1192 rows × 12 columns</p>\n",
       "</div>"
      ],
      "text/plain": [
       "                                    name platform  year_of_release    genre  \\\n",
       "16                    grand theft auto v      ps3           2013.0   action   \n",
       "23                    grand theft auto v     x360           2013.0   action   \n",
       "42                    grand theft auto v      ps4           2014.0   action   \n",
       "60                  call of duty: ghosts     x360           2013.0  shooter   \n",
       "69                  call of duty: ghosts      ps3           2013.0  shooter   \n",
       "...                                  ...      ...              ...      ...   \n",
       "16643                  rugby challenge 3     xone           2016.0   sports   \n",
       "16652                   fast racing neo      wiiu           2016.0   action   \n",
       "16654                 ben 10 omniverse 2     x360           2013.0   action   \n",
       "16660                   prison architect     xone           2016.0   action   \n",
       "16692  metal gear solid v: ground zeroes       pc           2014.0   action   \n",
       "\n",
       "       na_sales  eu_sales  jp_sales  other_sales  critic_score  user_score  \\\n",
       "16         7.02      9.09      0.98         3.96          97.0         8.2   \n",
       "23         9.66      5.14      0.06         1.41          97.0         8.1   \n",
       "42         3.96      6.31      0.38         1.97          97.0         8.3   \n",
       "60         6.73      2.56      0.04         0.91          73.0         2.6   \n",
       "69         4.10      3.63      0.38         1.25          71.0         2.6   \n",
       "...         ...       ...       ...          ...           ...         ...   \n",
       "16643      0.00      0.01      0.00         0.00           NaN         6.6   \n",
       "16652      0.00      0.01      0.00         0.00          81.0         8.5   \n",
       "16654      0.00      0.01      0.00         0.00           NaN         5.1   \n",
       "16660      0.01      0.00      0.00         0.00          74.0         6.7   \n",
       "16692      0.00      0.01      0.00         0.00          80.0         7.6   \n",
       "\n",
       "      rating  total_sales  \n",
       "16         M        21.05  \n",
       "23         M        16.27  \n",
       "42         M        12.62  \n",
       "60         M        10.24  \n",
       "69         M         9.36  \n",
       "...      ...          ...  \n",
       "16643      E         0.01  \n",
       "16652      E         0.01  \n",
       "16654   E10+         0.01  \n",
       "16660    NaN         0.01  \n",
       "16692      M         0.01  \n",
       "\n",
       "[1192 rows x 12 columns]"
      ]
     },
     "execution_count": 107,
     "metadata": {},
     "output_type": "execute_result"
    }
   ],
   "source": [
    "df_actual_test"
   ]
  },
  {
   "cell_type": "code",
   "execution_count": 108,
   "id": "692f0e36",
   "metadata": {},
   "outputs": [
    {
     "name": "stdout",
     "output_type": "stream",
     "text": [
      "p-значение: 0.14012658403611647\n",
      "Не получилось отвергнуть нулевую гипотезу\n"
     ]
    }
   ],
   "source": [
    "results = st.ttest_ind(df_actual_test.loc[df_actual_test['platform']=='xone','user_score'], \n",
    "                       df_actual_test.loc[df_actual_test['platform']=='pc','user_score'], \n",
    "                       equal_var = True) # results = вызов метода для проверки гипотезы\n",
    "\n",
    "alpha = 0.05 # alpha = задайте значение уровня значимости\n",
    "\n",
    "print('p-значение:', results.pvalue) # вывод значения p-value на экран \n",
    "if results.pvalue < alpha:\n",
    "    print('Отвергаем нулевую гипотезу')\n",
    "else:\n",
    "    print('Не получилось отвергнуть нулевую гипотезу')"
   ]
  },
  {
   "cell_type": "markdown",
   "id": "4aba213b",
   "metadata": {},
   "source": [
    "Найденное значение p-value больше коэффициента значимости. Полученное значение p-value говорит о том, что хотя средний рейтинг  неодинаков, с вероятностью в почти 14% такое или большее различие можно получить случайно. Это явно слишком большая вероятность, чтобы делать вывод о значимом различии между средними рейтингами."
   ]
  },
  {
   "cell_type": "markdown",
   "id": "2e8c1591",
   "metadata": {},
   "source": [
    "### 4.2 Проверка гипотезы №2"
   ]
  },
  {
   "cell_type": "markdown",
   "id": "10532faf",
   "metadata": {},
   "source": [
    "H_0: Средние пользовательские рейтинги(user_score) для жанра Action = Средние пользовательские рейтинги(user_score) для жанра Sports\n",
    "\n",
    "H_a: Средние пользовательские рейтинги(user_score) для жанра Action ≠ Средние пользовательские рейтинги(user_score) для жанра Sports\n",
    "alpha = 0.05"
   ]
  },
  {
   "cell_type": "code",
   "execution_count": 110,
   "id": "bf67c667",
   "metadata": {},
   "outputs": [
    {
     "name": "stdout",
     "output_type": "stream",
     "text": [
      "p-значение: 1.4460039700704315e-20\n",
      "Отвергаем нулевую гипотезу\n"
     ]
    }
   ],
   "source": [
    "results = st.ttest_ind(df_actual_test.loc[df_actual_test['genre']=='sports','user_score'], \n",
    "                       df_actual_test.loc[df_actual_test['genre']=='action','user_score'], \n",
    "                       equal_var = False)# results = вызов метода для проверки гипотезы\n",
    "\n",
    "alpha = 0.05 # alpha = задайте значение уровня значимости\n",
    "\n",
    "print('p-значение:', results.pvalue) # вывод значения p-value на экран \n",
    "if results.pvalue < alpha:\n",
    "    print('Отвергаем нулевую гипотезу')\n",
    "else:\n",
    "    print('Не получилось отвергнуть нулевую гипотезу')"
   ]
  },
  {
   "cell_type": "markdown",
   "id": "56e96af8",
   "metadata": {},
   "source": [
    "## 5. Вывод"
   ]
  },
  {
   "cell_type": "markdown",
   "id": "a36d525c",
   "metadata": {},
   "source": [
    "#### В исследовательском проекте был проведен  анализ на предмет влияния различных факторов (платформа, год выпуска, количество продаж по регионам) на успешность той или иной игры. Проверены гипотезы о равенстве  и различие рейтингов пользователей для разных платформ и жанров.\n",
    "\n",
    "#### Было определено, что в полном смысле слова массовыми игры стали с середины 1990х, когда стоимость персональных компьютеров снизилась и начали появляться различные альтернативные аппаратные средства для игр - консоли, приставки итд. Примерно в это же время начала формироваться сфера оценки игр - появилось профессиональное сообщество, которое начало оценивать выпускаемы игры и делиться своим мнением.\n",
    "\n",
    "#### Было определено, что в среднем новая запускаемая платформа для игр \"живет\" порядка 10 лет. Потом она либо пропадает навсегда либо эволюционирует и начанается выпуск более современных моделей.\n",
    "\n",
    "#### По числовым данным на 2016 лидеры продаж по платформам - PS4,XOne,3DS, WiiU, X360. При этом тренды почти у всех нисходящие.\n",
    "\n",
    "#### Был оценен актуальный период, за который можно проводить анализ для планирования действий на рынке. С 2013 по 2016. Было определено, что наибольшие продажи за рассматриваемый актуальный период у PS4 и XOne. При этом видно, что большие продажи были у Wi и у PS3 и у Х360,которые к 2016 году уже сдали свои позиции более современным своим модификациям, но в середине нулевых были топами.\n",
    "\n",
    "#### Была изучена зависимость продаж игр от результатов оценок экспертов и пользователей. Было обнаружено, что существует слабая корреляция между оценками экспертов и продажами игр. Часть пользователей перед тем как купить копию изучает мнение профессионалов в игровой индустрии. Оценка пользователей на продажи практически не влияет.\n",
    "\n",
    "#### Самые прибыльные жанры - экшн, спортивные симуляторы и шутеры. Напротив самые низкие продажи показали стратегии, симуляторы и пазлы.\n",
    "\n",
    "#### Были изучены зависимость продаж в различных регионах - Северной Америке, Европе и Японии. Самые популярные платформы в Европе - 1) PS3 2) X360 3) Wii 4) DS 5) PS4. В Северной Америке - 1) X360 2)Wii 3) PS3 4) DS 5) PS2. В Японии - 1) DS 2) 3DS 3)PS3 4)PSP 5)Wii. \n",
    "\n",
    "#### В Европе и Северной Америке топ жанров практически одинаковый: Action, Sport, Shooter. В Японии на первом месте RPG. Возможно это связано с тем, что большинство игр этого жанра в Японии распространяется на их родных платформах Nintendo DS и 3DS. \n",
    "\n",
    "#### Продажи игр с определенным возрастным рейтингом практически идентичны для всех регионов:1 - E(для всех) 2 - М(для взрослых) 3-Т(для подростков) 4-E10+(дети старше 10 лет).  В Японии больше продаются игры с рейтингом Т - для подростков и меньше с рейтингом M - для взрослых. Возможно это связано с тем, что в Японии больше геймеров подросткового возраста или еще младше.\n",
    "\n",
    "#### Были проверены гипотезы - 1) Средние пользовательские рейтинги платформ Xbox One и PC одинаковые. 2) Средние пользовательские рейтинги жанров Action (англ. «действие», экшен-игры) и Sports (англ. «спортивные соревнования») одинаковые. 1 гипотеза была подтверждена, 2 гипотеза отвергнута. За нулевую гипотезу принималась гипотеза, когда рейтинги равны, за коэффциент значимости более жесткие 5% вместо 1%. При этом и для 1%  p-value не достигает указанное значения.\n",
    "\n",
    "\n"
   ]
  }
 ],
 "metadata": {
  "ExecuteTimeLog": [
   {
    "duration": 11,
    "start_time": "2023-04-19T22:48:11.335Z"
   },
   {
    "duration": 42,
    "start_time": "2023-04-19T22:48:12.014Z"
   },
   {
    "duration": 1061,
    "start_time": "2023-04-19T22:55:39.412Z"
   },
   {
    "duration": 93,
    "start_time": "2023-04-19T22:55:40.475Z"
   },
   {
    "duration": 18,
    "start_time": "2023-04-19T22:55:40.569Z"
   },
   {
    "duration": 14,
    "start_time": "2023-04-19T22:55:40.589Z"
   },
   {
    "duration": 22,
    "start_time": "2023-04-19T22:55:40.604Z"
   },
   {
    "duration": 2,
    "start_time": "2023-04-19T22:55:40.635Z"
   },
   {
    "duration": 9,
    "start_time": "2023-04-19T22:55:40.639Z"
   },
   {
    "duration": 14,
    "start_time": "2023-04-19T22:55:40.650Z"
   },
   {
    "duration": 5,
    "start_time": "2023-04-19T22:55:40.665Z"
   },
   {
    "duration": 4,
    "start_time": "2023-04-19T22:55:40.672Z"
   },
   {
    "duration": 210,
    "start_time": "2023-04-19T22:55:40.677Z"
   },
   {
    "duration": 4,
    "start_time": "2023-04-19T22:55:40.889Z"
   },
   {
    "duration": 196,
    "start_time": "2023-04-19T22:55:40.895Z"
   },
   {
    "duration": 8,
    "start_time": "2023-04-19T22:55:41.093Z"
   },
   {
    "duration": 190,
    "start_time": "2023-04-19T22:55:41.103Z"
   },
   {
    "duration": 8,
    "start_time": "2023-04-19T22:55:41.295Z"
   },
   {
    "duration": 195,
    "start_time": "2023-04-19T22:55:41.305Z"
   },
   {
    "duration": 6,
    "start_time": "2023-04-19T22:55:41.502Z"
   },
   {
    "duration": 37,
    "start_time": "2023-04-19T22:55:41.510Z"
   },
   {
    "duration": 170,
    "start_time": "2023-04-19T22:55:41.549Z"
   },
   {
    "duration": 25,
    "start_time": "2023-04-19T22:55:41.721Z"
   },
   {
    "duration": 15,
    "start_time": "2023-04-19T22:55:41.747Z"
   },
   {
    "duration": 4,
    "start_time": "2023-04-19T22:55:41.764Z"
   },
   {
    "duration": 31,
    "start_time": "2023-04-19T22:55:41.769Z"
   },
   {
    "duration": 15,
    "start_time": "2023-04-19T22:55:41.801Z"
   },
   {
    "duration": 171,
    "start_time": "2023-04-19T22:55:41.817Z"
   },
   {
    "duration": 278,
    "start_time": "2023-04-19T22:55:41.989Z"
   },
   {
    "duration": 5,
    "start_time": "2023-04-19T22:55:42.271Z"
   },
   {
    "duration": 15,
    "start_time": "2023-04-19T22:55:42.278Z"
   },
   {
    "duration": 10,
    "start_time": "2023-04-19T22:55:42.294Z"
   },
   {
    "duration": 24,
    "start_time": "2023-04-19T22:55:42.305Z"
   },
   {
    "duration": 365,
    "start_time": "2023-04-19T22:55:42.330Z"
   },
   {
    "duration": 3,
    "start_time": "2023-04-19T22:55:42.697Z"
   },
   {
    "duration": 7,
    "start_time": "2023-04-19T22:55:42.701Z"
   },
   {
    "duration": 271,
    "start_time": "2023-04-19T22:55:42.709Z"
   },
   {
    "duration": 5,
    "start_time": "2023-04-19T22:55:42.981Z"
   },
   {
    "duration": 338,
    "start_time": "2023-04-19T22:55:42.987Z"
   },
   {
    "duration": 335,
    "start_time": "2023-04-19T22:55:43.327Z"
   },
   {
    "duration": 28,
    "start_time": "2023-04-19T22:55:43.663Z"
   },
   {
    "duration": 269,
    "start_time": "2023-04-19T22:55:43.692Z"
   },
   {
    "duration": 6,
    "start_time": "2023-04-19T22:55:43.962Z"
   },
   {
    "duration": 30,
    "start_time": "2023-04-19T22:55:43.970Z"
   },
   {
    "duration": 203,
    "start_time": "2023-04-19T22:55:44.001Z"
   },
   {
    "duration": 5,
    "start_time": "2023-04-19T22:55:44.206Z"
   },
   {
    "duration": 22,
    "start_time": "2023-04-19T22:55:44.213Z"
   },
   {
    "duration": 6,
    "start_time": "2023-04-19T22:55:44.237Z"
   },
   {
    "duration": 18,
    "start_time": "2023-04-19T22:55:44.245Z"
   },
   {
    "duration": 190,
    "start_time": "2023-04-19T22:55:44.265Z"
   },
   {
    "duration": 6,
    "start_time": "2023-04-19T22:55:44.456Z"
   },
   {
    "duration": 15,
    "start_time": "2023-04-19T22:55:44.463Z"
   },
   {
    "duration": 236,
    "start_time": "2023-04-19T22:55:44.480Z"
   },
   {
    "duration": 7,
    "start_time": "2023-04-19T22:55:44.718Z"
   },
   {
    "duration": 225,
    "start_time": "2023-04-19T22:55:44.726Z"
   },
   {
    "duration": 5,
    "start_time": "2023-04-19T22:55:44.953Z"
   },
   {
    "duration": 19,
    "start_time": "2023-04-19T22:55:44.959Z"
   },
   {
    "duration": 305,
    "start_time": "2023-04-19T22:55:44.979Z"
   },
   {
    "duration": 7,
    "start_time": "2023-04-19T22:55:45.286Z"
   },
   {
    "duration": 227,
    "start_time": "2023-04-19T22:55:45.295Z"
   },
   {
    "duration": 14,
    "start_time": "2023-04-19T22:55:45.525Z"
   },
   {
    "duration": 41,
    "start_time": "2023-04-19T22:55:45.541Z"
   },
   {
    "duration": 20,
    "start_time": "2023-04-19T22:55:45.584Z"
   },
   {
    "duration": 19,
    "start_time": "2023-04-19T22:55:45.606Z"
   },
   {
    "duration": 21,
    "start_time": "2023-04-19T22:55:45.626Z"
   },
   {
    "duration": 5,
    "start_time": "2023-04-19T22:55:45.649Z"
   },
   {
    "duration": 17,
    "start_time": "2023-04-19T22:55:45.656Z"
   },
   {
    "duration": 31,
    "start_time": "2023-04-19T22:55:45.675Z"
   },
   {
    "duration": 10,
    "start_time": "2023-04-19T22:55:45.707Z"
   },
   {
    "duration": 7,
    "start_time": "2023-04-19T22:55:45.718Z"
   },
   {
    "duration": 17,
    "start_time": "2023-04-19T22:55:45.726Z"
   },
   {
    "duration": 10,
    "start_time": "2023-04-19T22:55:45.744Z"
   },
   {
    "duration": 45,
    "start_time": "2023-04-19T22:55:45.756Z"
   },
   {
    "duration": 14,
    "start_time": "2023-04-19T22:55:45.802Z"
   },
   {
    "duration": 18,
    "start_time": "2023-04-19T22:55:45.817Z"
   },
   {
    "duration": 9,
    "start_time": "2023-04-19T22:55:45.837Z"
   },
   {
    "duration": 8,
    "start_time": "2023-04-19T22:55:45.847Z"
   },
   {
    "duration": 13,
    "start_time": "2023-04-19T22:55:45.856Z"
   },
   {
    "duration": 8,
    "start_time": "2023-04-19T22:55:45.871Z"
   },
   {
    "duration": 58,
    "start_time": "2023-04-19T22:55:45.881Z"
   },
   {
    "duration": 16,
    "start_time": "2023-04-19T22:57:11.472Z"
   },
   {
    "duration": 5,
    "start_time": "2023-04-19T22:57:36.554Z"
   },
   {
    "duration": 162,
    "start_time": "2023-04-19T22:57:39.049Z"
   },
   {
    "duration": 1119,
    "start_time": "2023-04-19T23:13:23.026Z"
   },
   {
    "duration": 51,
    "start_time": "2023-04-19T23:13:24.147Z"
   },
   {
    "duration": 16,
    "start_time": "2023-04-19T23:13:24.200Z"
   },
   {
    "duration": 13,
    "start_time": "2023-04-19T23:13:24.218Z"
   },
   {
    "duration": 21,
    "start_time": "2023-04-19T23:13:24.232Z"
   },
   {
    "duration": 2,
    "start_time": "2023-04-19T23:13:24.255Z"
   },
   {
    "duration": 8,
    "start_time": "2023-04-19T23:13:24.259Z"
   },
   {
    "duration": 6,
    "start_time": "2023-04-19T23:13:24.269Z"
   },
   {
    "duration": 4,
    "start_time": "2023-04-19T23:13:24.277Z"
   },
   {
    "duration": 6,
    "start_time": "2023-04-19T23:13:24.283Z"
   },
   {
    "duration": 208,
    "start_time": "2023-04-19T23:13:24.290Z"
   },
   {
    "duration": 5,
    "start_time": "2023-04-19T23:13:24.499Z"
   },
   {
    "duration": 218,
    "start_time": "2023-04-19T23:13:24.505Z"
   },
   {
    "duration": 16,
    "start_time": "2023-04-19T23:13:24.724Z"
   },
   {
    "duration": 196,
    "start_time": "2023-04-19T23:13:24.741Z"
   },
   {
    "duration": 8,
    "start_time": "2023-04-19T23:13:24.939Z"
   },
   {
    "duration": 165,
    "start_time": "2023-04-19T23:13:24.948Z"
   },
   {
    "duration": 6,
    "start_time": "2023-04-19T23:13:25.114Z"
   },
   {
    "duration": 35,
    "start_time": "2023-04-19T23:13:25.121Z"
   },
   {
    "duration": 177,
    "start_time": "2023-04-19T23:13:25.157Z"
   },
   {
    "duration": 16,
    "start_time": "2023-04-19T23:13:25.335Z"
   },
   {
    "duration": 17,
    "start_time": "2023-04-19T23:13:25.353Z"
   },
   {
    "duration": 4,
    "start_time": "2023-04-19T23:13:25.372Z"
   },
   {
    "duration": 29,
    "start_time": "2023-04-19T23:13:25.378Z"
   },
   {
    "duration": 38,
    "start_time": "2023-04-19T23:13:25.408Z"
   },
   {
    "duration": 144,
    "start_time": "2023-04-19T23:13:25.447Z"
   },
   {
    "duration": 278,
    "start_time": "2023-04-19T23:13:25.593Z"
   },
   {
    "duration": 4,
    "start_time": "2023-04-19T23:13:25.875Z"
   },
   {
    "duration": 9,
    "start_time": "2023-04-19T23:13:25.880Z"
   },
   {
    "duration": 8,
    "start_time": "2023-04-19T23:13:25.890Z"
   },
   {
    "duration": 27,
    "start_time": "2023-04-19T23:13:25.900Z"
   },
   {
    "duration": 318,
    "start_time": "2023-04-19T23:13:25.929Z"
   },
   {
    "duration": 4,
    "start_time": "2023-04-19T23:13:26.249Z"
   },
   {
    "duration": 10,
    "start_time": "2023-04-19T23:13:26.254Z"
   },
   {
    "duration": 254,
    "start_time": "2023-04-19T23:13:26.265Z"
   },
   {
    "duration": 4,
    "start_time": "2023-04-19T23:13:26.520Z"
   },
   {
    "duration": 319,
    "start_time": "2023-04-19T23:13:26.534Z"
   },
   {
    "duration": 315,
    "start_time": "2023-04-19T23:13:26.854Z"
   },
   {
    "duration": 26,
    "start_time": "2023-04-19T23:13:27.171Z"
   },
   {
    "duration": 258,
    "start_time": "2023-04-19T23:13:27.199Z"
   },
   {
    "duration": 5,
    "start_time": "2023-04-19T23:13:27.459Z"
   },
   {
    "duration": 43,
    "start_time": "2023-04-19T23:13:27.465Z"
   },
   {
    "duration": 178,
    "start_time": "2023-04-19T23:13:27.509Z"
   },
   {
    "duration": 5,
    "start_time": "2023-04-19T23:13:27.688Z"
   },
   {
    "duration": 13,
    "start_time": "2023-04-19T23:13:27.694Z"
   },
   {
    "duration": 6,
    "start_time": "2023-04-19T23:13:27.709Z"
   },
   {
    "duration": 21,
    "start_time": "2023-04-19T23:13:27.716Z"
   },
   {
    "duration": 157,
    "start_time": "2023-04-19T23:13:27.738Z"
   },
   {
    "duration": 4,
    "start_time": "2023-04-19T23:13:27.897Z"
   },
   {
    "duration": 24,
    "start_time": "2023-04-19T23:13:27.902Z"
   },
   {
    "duration": 187,
    "start_time": "2023-04-19T23:13:27.927Z"
   },
   {
    "duration": 4,
    "start_time": "2023-04-19T23:13:28.116Z"
   },
   {
    "duration": 179,
    "start_time": "2023-04-19T23:13:28.122Z"
   },
   {
    "duration": 5,
    "start_time": "2023-04-19T23:13:28.303Z"
   },
   {
    "duration": 28,
    "start_time": "2023-04-19T23:13:28.309Z"
   },
   {
    "duration": 251,
    "start_time": "2023-04-19T23:13:28.339Z"
   },
   {
    "duration": 5,
    "start_time": "2023-04-19T23:13:28.591Z"
   },
   {
    "duration": 165,
    "start_time": "2023-04-19T23:13:28.597Z"
   },
   {
    "duration": 6,
    "start_time": "2023-04-19T23:13:28.764Z"
   },
   {
    "duration": 35,
    "start_time": "2023-04-19T23:13:28.771Z"
   },
   {
    "duration": 33,
    "start_time": "2023-04-19T23:13:28.807Z"
   },
   {
    "duration": 27,
    "start_time": "2023-04-19T23:13:28.841Z"
   },
   {
    "duration": 14,
    "start_time": "2023-04-19T23:13:28.870Z"
   },
   {
    "duration": 11,
    "start_time": "2023-04-19T23:13:28.886Z"
   },
   {
    "duration": 24,
    "start_time": "2023-04-19T23:13:28.899Z"
   },
   {
    "duration": 41,
    "start_time": "2023-04-19T23:13:28.924Z"
   },
   {
    "duration": 8,
    "start_time": "2023-04-19T23:13:28.966Z"
   },
   {
    "duration": 35,
    "start_time": "2023-04-19T23:13:28.975Z"
   },
   {
    "duration": 22,
    "start_time": "2023-04-19T23:13:29.011Z"
   },
   {
    "duration": 14,
    "start_time": "2023-04-19T23:13:29.034Z"
   },
   {
    "duration": 44,
    "start_time": "2023-04-19T23:13:29.049Z"
   },
   {
    "duration": 29,
    "start_time": "2023-04-19T23:13:29.094Z"
   },
   {
    "duration": 23,
    "start_time": "2023-04-19T23:13:29.125Z"
   },
   {
    "duration": 18,
    "start_time": "2023-04-19T23:13:29.150Z"
   },
   {
    "duration": 13,
    "start_time": "2023-04-19T23:13:29.170Z"
   },
   {
    "duration": 40,
    "start_time": "2023-04-19T23:13:29.184Z"
   },
   {
    "duration": 16,
    "start_time": "2023-04-19T23:13:29.225Z"
   },
   {
    "duration": 42,
    "start_time": "2023-04-19T23:13:29.242Z"
   },
   {
    "duration": 50,
    "start_time": "2023-04-22T10:57:59.451Z"
   },
   {
    "duration": 1363,
    "start_time": "2023-04-22T10:58:05.401Z"
   },
   {
    "duration": 186,
    "start_time": "2023-04-22T10:58:06.766Z"
   },
   {
    "duration": 18,
    "start_time": "2023-04-22T10:58:06.953Z"
   },
   {
    "duration": 14,
    "start_time": "2023-04-22T10:58:06.973Z"
   },
   {
    "duration": 35,
    "start_time": "2023-04-22T10:58:06.990Z"
   },
   {
    "duration": 3,
    "start_time": "2023-04-22T10:58:07.027Z"
   },
   {
    "duration": 23,
    "start_time": "2023-04-22T10:58:07.032Z"
   },
   {
    "duration": 32,
    "start_time": "2023-04-22T10:58:07.057Z"
   },
   {
    "duration": 9,
    "start_time": "2023-04-22T10:58:07.091Z"
   },
   {
    "duration": 8,
    "start_time": "2023-04-22T10:58:07.102Z"
   },
   {
    "duration": 11,
    "start_time": "2023-04-22T10:58:07.112Z"
   },
   {
    "duration": 41,
    "start_time": "2023-04-22T10:58:07.124Z"
   },
   {
    "duration": 5,
    "start_time": "2023-04-22T10:58:07.167Z"
   },
   {
    "duration": 226,
    "start_time": "2023-04-22T10:58:07.175Z"
   },
   {
    "duration": 7,
    "start_time": "2023-04-22T10:58:07.403Z"
   },
   {
    "duration": 216,
    "start_time": "2023-04-22T10:58:07.412Z"
   },
   {
    "duration": 11,
    "start_time": "2023-04-22T10:58:07.630Z"
   },
   {
    "duration": 234,
    "start_time": "2023-04-22T10:58:07.643Z"
   },
   {
    "duration": 15,
    "start_time": "2023-04-22T10:58:07.879Z"
   },
   {
    "duration": 205,
    "start_time": "2023-04-22T10:58:07.896Z"
   },
   {
    "duration": 8,
    "start_time": "2023-04-22T10:58:08.102Z"
   },
   {
    "duration": 25,
    "start_time": "2023-04-22T10:58:08.111Z"
   },
   {
    "duration": 25,
    "start_time": "2023-04-22T10:58:08.138Z"
   },
   {
    "duration": 17,
    "start_time": "2023-04-22T10:58:08.165Z"
   },
   {
    "duration": 11,
    "start_time": "2023-04-22T10:58:08.184Z"
   },
   {
    "duration": 31,
    "start_time": "2023-04-22T10:58:08.197Z"
   },
   {
    "duration": 46,
    "start_time": "2023-04-22T10:58:08.231Z"
   },
   {
    "duration": 20,
    "start_time": "2023-04-22T10:58:08.279Z"
   },
   {
    "duration": 14,
    "start_time": "2023-04-22T10:58:08.302Z"
   },
   {
    "duration": 32,
    "start_time": "2023-04-22T10:58:08.318Z"
   },
   {
    "duration": 231,
    "start_time": "2023-04-22T10:58:08.352Z"
   },
   {
    "duration": 28,
    "start_time": "2023-04-22T10:58:08.584Z"
   },
   {
    "duration": 23,
    "start_time": "2023-04-22T10:58:08.614Z"
   },
   {
    "duration": 6,
    "start_time": "2023-04-22T10:58:08.639Z"
   },
   {
    "duration": 56,
    "start_time": "2023-04-22T10:58:08.646Z"
   },
   {
    "duration": 15,
    "start_time": "2023-04-22T10:58:08.705Z"
   },
   {
    "duration": 7,
    "start_time": "2023-04-22T10:58:08.722Z"
   },
   {
    "duration": 30,
    "start_time": "2023-04-22T10:58:08.731Z"
   },
   {
    "duration": 9,
    "start_time": "2023-04-22T10:58:08.763Z"
   },
   {
    "duration": 24,
    "start_time": "2023-04-22T10:58:08.773Z"
   },
   {
    "duration": 17,
    "start_time": "2023-04-22T10:58:08.803Z"
   },
   {
    "duration": 4,
    "start_time": "2023-04-22T10:58:08.822Z"
   },
   {
    "duration": 6,
    "start_time": "2023-04-22T10:58:08.828Z"
   },
   {
    "duration": 4,
    "start_time": "2023-04-22T10:58:08.836Z"
   },
   {
    "duration": 50,
    "start_time": "2023-04-22T10:58:08.842Z"
   },
   {
    "duration": 5,
    "start_time": "2023-04-22T10:58:08.894Z"
   },
   {
    "duration": 197,
    "start_time": "2023-04-22T10:58:08.901Z"
   },
   {
    "duration": 229,
    "start_time": "2023-04-22T10:58:09.101Z"
   },
   {
    "duration": 400,
    "start_time": "2023-04-22T10:58:09.332Z"
   },
   {
    "duration": 6,
    "start_time": "2023-04-22T10:58:09.733Z"
   },
   {
    "duration": 6,
    "start_time": "2023-04-22T10:58:09.740Z"
   },
   {
    "duration": 10,
    "start_time": "2023-04-22T10:58:09.747Z"
   },
   {
    "duration": 37,
    "start_time": "2023-04-22T10:58:09.759Z"
   },
   {
    "duration": 395,
    "start_time": "2023-04-22T10:58:09.798Z"
   },
   {
    "duration": 3,
    "start_time": "2023-04-22T10:58:10.195Z"
   },
   {
    "duration": 7,
    "start_time": "2023-04-22T10:58:10.199Z"
   },
   {
    "duration": 208,
    "start_time": "2023-04-22T10:58:10.208Z"
   },
   {
    "duration": 5,
    "start_time": "2023-04-22T10:58:10.418Z"
   },
   {
    "duration": 307,
    "start_time": "2023-04-22T10:58:10.424Z"
   },
   {
    "duration": 29,
    "start_time": "2023-04-22T10:58:10.733Z"
   },
   {
    "duration": 106,
    "start_time": "2023-04-22T10:58:10.765Z"
   },
   {
    "duration": 0,
    "start_time": "2023-04-22T10:58:10.873Z"
   },
   {
    "duration": 0,
    "start_time": "2023-04-22T10:58:10.874Z"
   },
   {
    "duration": 0,
    "start_time": "2023-04-22T10:58:10.875Z"
   },
   {
    "duration": 0,
    "start_time": "2023-04-22T10:58:10.877Z"
   },
   {
    "duration": 0,
    "start_time": "2023-04-22T10:58:10.878Z"
   },
   {
    "duration": 0,
    "start_time": "2023-04-22T10:58:10.879Z"
   },
   {
    "duration": 0,
    "start_time": "2023-04-22T10:58:10.881Z"
   },
   {
    "duration": 0,
    "start_time": "2023-04-22T10:58:10.881Z"
   },
   {
    "duration": 0,
    "start_time": "2023-04-22T10:58:10.883Z"
   },
   {
    "duration": 0,
    "start_time": "2023-04-22T10:58:10.884Z"
   },
   {
    "duration": 0,
    "start_time": "2023-04-22T10:58:10.885Z"
   },
   {
    "duration": 0,
    "start_time": "2023-04-22T10:58:10.887Z"
   },
   {
    "duration": 0,
    "start_time": "2023-04-22T10:58:10.888Z"
   },
   {
    "duration": 0,
    "start_time": "2023-04-22T10:58:10.889Z"
   },
   {
    "duration": 0,
    "start_time": "2023-04-22T10:58:10.890Z"
   },
   {
    "duration": 0,
    "start_time": "2023-04-22T10:58:10.891Z"
   },
   {
    "duration": 0,
    "start_time": "2023-04-22T10:58:10.892Z"
   },
   {
    "duration": 0,
    "start_time": "2023-04-22T10:58:10.893Z"
   },
   {
    "duration": 0,
    "start_time": "2023-04-22T10:58:10.895Z"
   },
   {
    "duration": 0,
    "start_time": "2023-04-22T10:58:10.896Z"
   },
   {
    "duration": 0,
    "start_time": "2023-04-22T10:58:10.897Z"
   },
   {
    "duration": 0,
    "start_time": "2023-04-22T10:58:10.898Z"
   },
   {
    "duration": 0,
    "start_time": "2023-04-22T10:58:10.899Z"
   },
   {
    "duration": 0,
    "start_time": "2023-04-22T10:58:10.902Z"
   },
   {
    "duration": 0,
    "start_time": "2023-04-22T10:58:10.903Z"
   },
   {
    "duration": 0,
    "start_time": "2023-04-22T10:58:10.904Z"
   },
   {
    "duration": 0,
    "start_time": "2023-04-22T10:58:10.905Z"
   },
   {
    "duration": 0,
    "start_time": "2023-04-22T10:58:10.906Z"
   },
   {
    "duration": 0,
    "start_time": "2023-04-22T10:58:10.907Z"
   },
   {
    "duration": 0,
    "start_time": "2023-04-22T10:58:10.909Z"
   },
   {
    "duration": 0,
    "start_time": "2023-04-22T10:58:10.911Z"
   },
   {
    "duration": 0,
    "start_time": "2023-04-22T10:58:10.913Z"
   },
   {
    "duration": 0,
    "start_time": "2023-04-22T10:58:10.914Z"
   },
   {
    "duration": 0,
    "start_time": "2023-04-22T10:58:10.916Z"
   },
   {
    "duration": 0,
    "start_time": "2023-04-22T10:58:10.917Z"
   },
   {
    "duration": 0,
    "start_time": "2023-04-22T10:58:10.919Z"
   },
   {
    "duration": 0,
    "start_time": "2023-04-22T10:58:10.920Z"
   },
   {
    "duration": 0,
    "start_time": "2023-04-22T10:58:10.922Z"
   },
   {
    "duration": 0,
    "start_time": "2023-04-22T10:58:10.923Z"
   },
   {
    "duration": 1,
    "start_time": "2023-04-22T10:58:10.985Z"
   },
   {
    "duration": 0,
    "start_time": "2023-04-22T10:58:10.987Z"
   },
   {
    "duration": 0,
    "start_time": "2023-04-22T10:58:10.989Z"
   },
   {
    "duration": 0,
    "start_time": "2023-04-22T10:58:10.990Z"
   },
   {
    "duration": 0,
    "start_time": "2023-04-22T10:58:10.992Z"
   },
   {
    "duration": 0,
    "start_time": "2023-04-22T10:58:10.994Z"
   },
   {
    "duration": 0,
    "start_time": "2023-04-22T10:58:10.995Z"
   },
   {
    "duration": 0,
    "start_time": "2023-04-22T10:58:10.996Z"
   },
   {
    "duration": 231,
    "start_time": "2023-04-22T10:58:39.838Z"
   },
   {
    "duration": 226,
    "start_time": "2023-04-22T10:58:50.397Z"
   },
   {
    "duration": 263,
    "start_time": "2023-04-22T10:59:35.816Z"
   },
   {
    "duration": 350,
    "start_time": "2023-04-22T10:59:39.521Z"
   },
   {
    "duration": 13,
    "start_time": "2023-04-22T11:02:39.256Z"
   },
   {
    "duration": 226,
    "start_time": "2023-04-22T11:02:40.735Z"
   },
   {
    "duration": 1297,
    "start_time": "2023-04-22T11:03:04.258Z"
   },
   {
    "duration": 58,
    "start_time": "2023-04-22T11:03:05.557Z"
   },
   {
    "duration": 19,
    "start_time": "2023-04-22T11:03:05.617Z"
   },
   {
    "duration": 18,
    "start_time": "2023-04-22T11:03:05.638Z"
   },
   {
    "duration": 40,
    "start_time": "2023-04-22T11:03:05.658Z"
   },
   {
    "duration": 3,
    "start_time": "2023-04-22T11:03:05.701Z"
   },
   {
    "duration": 20,
    "start_time": "2023-04-22T11:03:05.706Z"
   },
   {
    "duration": 22,
    "start_time": "2023-04-22T11:03:05.727Z"
   },
   {
    "duration": 38,
    "start_time": "2023-04-22T11:03:05.750Z"
   },
   {
    "duration": 12,
    "start_time": "2023-04-22T11:03:05.790Z"
   },
   {
    "duration": 30,
    "start_time": "2023-04-22T11:03:05.803Z"
   },
   {
    "duration": 54,
    "start_time": "2023-04-22T11:03:05.836Z"
   },
   {
    "duration": 4,
    "start_time": "2023-04-22T11:03:05.892Z"
   },
   {
    "duration": 221,
    "start_time": "2023-04-22T11:03:05.899Z"
   },
   {
    "duration": 6,
    "start_time": "2023-04-22T11:03:06.121Z"
   },
   {
    "duration": 193,
    "start_time": "2023-04-22T11:03:06.129Z"
   },
   {
    "duration": 10,
    "start_time": "2023-04-22T11:03:06.324Z"
   },
   {
    "duration": 213,
    "start_time": "2023-04-22T11:03:06.335Z"
   },
   {
    "duration": 10,
    "start_time": "2023-04-22T11:03:06.549Z"
   },
   {
    "duration": 198,
    "start_time": "2023-04-22T11:03:06.560Z"
   },
   {
    "duration": 7,
    "start_time": "2023-04-22T11:03:06.760Z"
   },
   {
    "duration": 32,
    "start_time": "2023-04-22T11:03:06.769Z"
   },
   {
    "duration": 4,
    "start_time": "2023-04-22T11:03:06.803Z"
   },
   {
    "duration": 7,
    "start_time": "2023-04-22T11:03:06.808Z"
   },
   {
    "duration": 4,
    "start_time": "2023-04-22T11:03:06.816Z"
   },
   {
    "duration": 11,
    "start_time": "2023-04-22T11:03:06.821Z"
   },
   {
    "duration": 9,
    "start_time": "2023-04-22T11:03:06.834Z"
   },
   {
    "duration": 43,
    "start_time": "2023-04-22T11:03:06.846Z"
   },
   {
    "duration": 8,
    "start_time": "2023-04-22T11:03:06.891Z"
   },
   {
    "duration": 29,
    "start_time": "2023-04-22T11:03:06.900Z"
   },
   {
    "duration": 191,
    "start_time": "2023-04-22T11:03:06.931Z"
   },
   {
    "duration": 18,
    "start_time": "2023-04-22T11:03:07.124Z"
   },
   {
    "duration": 17,
    "start_time": "2023-04-22T11:03:07.144Z"
   },
   {
    "duration": 27,
    "start_time": "2023-04-22T11:03:07.163Z"
   },
   {
    "duration": 38,
    "start_time": "2023-04-22T11:03:07.192Z"
   },
   {
    "duration": 37,
    "start_time": "2023-04-22T11:03:07.232Z"
   },
   {
    "duration": 6,
    "start_time": "2023-04-22T11:03:07.271Z"
   },
   {
    "duration": 7,
    "start_time": "2023-04-22T11:03:07.278Z"
   },
   {
    "duration": 8,
    "start_time": "2023-04-22T11:03:07.287Z"
   },
   {
    "duration": 17,
    "start_time": "2023-04-22T11:03:07.296Z"
   },
   {
    "duration": 16,
    "start_time": "2023-04-22T11:03:07.320Z"
   },
   {
    "duration": 4,
    "start_time": "2023-04-22T11:03:07.337Z"
   },
   {
    "duration": 7,
    "start_time": "2023-04-22T11:03:07.342Z"
   },
   {
    "duration": 37,
    "start_time": "2023-04-22T11:03:07.350Z"
   },
   {
    "duration": 15,
    "start_time": "2023-04-22T11:03:07.389Z"
   },
   {
    "duration": 4,
    "start_time": "2023-04-22T11:03:07.406Z"
   },
   {
    "duration": 203,
    "start_time": "2023-04-22T11:03:07.411Z"
   },
   {
    "duration": 268,
    "start_time": "2023-04-22T11:03:07.615Z"
   },
   {
    "duration": 417,
    "start_time": "2023-04-22T11:03:07.885Z"
   },
   {
    "duration": 7,
    "start_time": "2023-04-22T11:03:08.305Z"
   },
   {
    "duration": 7,
    "start_time": "2023-04-22T11:03:08.314Z"
   },
   {
    "duration": 9,
    "start_time": "2023-04-22T11:03:08.324Z"
   },
   {
    "duration": 27,
    "start_time": "2023-04-22T11:03:08.335Z"
   },
   {
    "duration": 415,
    "start_time": "2023-04-22T11:03:08.386Z"
   },
   {
    "duration": 3,
    "start_time": "2023-04-22T11:03:08.803Z"
   },
   {
    "duration": 23,
    "start_time": "2023-04-22T11:03:08.808Z"
   },
   {
    "duration": 207,
    "start_time": "2023-04-22T11:03:08.833Z"
   },
   {
    "duration": 4,
    "start_time": "2023-04-22T11:03:09.042Z"
   },
   {
    "duration": 295,
    "start_time": "2023-04-22T11:03:09.048Z"
   },
   {
    "duration": 24,
    "start_time": "2023-04-22T11:03:09.345Z"
   },
   {
    "duration": 24,
    "start_time": "2023-04-22T11:03:09.371Z"
   },
   {
    "duration": 248,
    "start_time": "2023-04-22T11:03:09.397Z"
   },
   {
    "duration": 6,
    "start_time": "2023-04-22T11:03:09.646Z"
   },
   {
    "duration": 54,
    "start_time": "2023-04-22T11:03:09.653Z"
   },
   {
    "duration": 222,
    "start_time": "2023-04-22T11:03:09.709Z"
   },
   {
    "duration": 5,
    "start_time": "2023-04-22T11:03:09.933Z"
   },
   {
    "duration": 6,
    "start_time": "2023-04-22T11:03:09.939Z"
   },
   {
    "duration": 6,
    "start_time": "2023-04-22T11:03:09.947Z"
   },
   {
    "duration": 40,
    "start_time": "2023-04-22T11:03:09.955Z"
   },
   {
    "duration": 214,
    "start_time": "2023-04-22T11:03:09.997Z"
   },
   {
    "duration": 5,
    "start_time": "2023-04-22T11:03:10.213Z"
   },
   {
    "duration": 8,
    "start_time": "2023-04-22T11:03:10.219Z"
   },
   {
    "duration": 221,
    "start_time": "2023-04-22T11:03:10.229Z"
   },
   {
    "duration": 5,
    "start_time": "2023-04-22T11:03:10.452Z"
   },
   {
    "duration": 204,
    "start_time": "2023-04-22T11:03:10.459Z"
   },
   {
    "duration": 7,
    "start_time": "2023-04-22T11:03:10.665Z"
   },
   {
    "duration": 4,
    "start_time": "2023-04-22T11:03:10.686Z"
   },
   {
    "duration": 210,
    "start_time": "2023-04-22T11:03:10.692Z"
   },
   {
    "duration": 6,
    "start_time": "2023-04-22T11:03:10.904Z"
   },
   {
    "duration": 300,
    "start_time": "2023-04-22T11:03:10.911Z"
   },
   {
    "duration": 5,
    "start_time": "2023-04-22T11:03:11.213Z"
   },
   {
    "duration": 23,
    "start_time": "2023-04-22T11:03:11.220Z"
   },
   {
    "duration": 7,
    "start_time": "2023-04-22T11:03:11.245Z"
   },
   {
    "duration": 268,
    "start_time": "2023-04-22T11:03:11.254Z"
   },
   {
    "duration": 252,
    "start_time": "2023-04-22T11:03:11.524Z"
   },
   {
    "duration": 22,
    "start_time": "2023-04-22T11:03:11.778Z"
   },
   {
    "duration": 23,
    "start_time": "2023-04-22T11:03:11.801Z"
   },
   {
    "duration": 5,
    "start_time": "2023-04-22T11:03:11.826Z"
   },
   {
    "duration": 15,
    "start_time": "2023-04-22T11:03:11.833Z"
   },
   {
    "duration": 17,
    "start_time": "2023-04-22T11:03:11.850Z"
   },
   {
    "duration": 25,
    "start_time": "2023-04-22T11:03:11.869Z"
   },
   {
    "duration": 10,
    "start_time": "2023-04-22T11:03:11.896Z"
   },
   {
    "duration": 118,
    "start_time": "2023-04-22T11:03:11.908Z"
   },
   {
    "duration": 0,
    "start_time": "2023-04-22T11:03:12.029Z"
   },
   {
    "duration": 0,
    "start_time": "2023-04-22T11:03:12.030Z"
   },
   {
    "duration": 0,
    "start_time": "2023-04-22T11:03:12.031Z"
   },
   {
    "duration": 0,
    "start_time": "2023-04-22T11:03:12.032Z"
   },
   {
    "duration": 0,
    "start_time": "2023-04-22T11:03:12.033Z"
   },
   {
    "duration": 0,
    "start_time": "2023-04-22T11:03:12.034Z"
   },
   {
    "duration": 0,
    "start_time": "2023-04-22T11:03:12.035Z"
   },
   {
    "duration": 0,
    "start_time": "2023-04-22T11:03:12.036Z"
   },
   {
    "duration": 0,
    "start_time": "2023-04-22T11:03:12.037Z"
   },
   {
    "duration": 0,
    "start_time": "2023-04-22T11:03:12.038Z"
   },
   {
    "duration": 0,
    "start_time": "2023-04-22T11:03:12.039Z"
   },
   {
    "duration": 0,
    "start_time": "2023-04-22T11:03:12.040Z"
   },
   {
    "duration": 0,
    "start_time": "2023-04-22T11:03:12.041Z"
   },
   {
    "duration": 0,
    "start_time": "2023-04-22T11:03:12.042Z"
   },
   {
    "duration": 0,
    "start_time": "2023-04-22T11:03:12.043Z"
   },
   {
    "duration": 9,
    "start_time": "2023-04-22T11:06:25.021Z"
   },
   {
    "duration": 9,
    "start_time": "2023-04-22T11:06:29.757Z"
   },
   {
    "duration": 286,
    "start_time": "2023-04-22T11:06:50.375Z"
   },
   {
    "duration": 255,
    "start_time": "2023-04-22T11:07:16.871Z"
   },
   {
    "duration": 3,
    "start_time": "2023-04-22T11:07:48.130Z"
   },
   {
    "duration": 6,
    "start_time": "2023-04-22T11:07:48.730Z"
   },
   {
    "duration": 7,
    "start_time": "2023-04-22T11:07:49.701Z"
   },
   {
    "duration": 10,
    "start_time": "2023-04-22T11:07:50.608Z"
   },
   {
    "duration": 11,
    "start_time": "2023-04-22T11:07:51.500Z"
   },
   {
    "duration": 5,
    "start_time": "2023-04-22T11:08:40.013Z"
   },
   {
    "duration": 15,
    "start_time": "2023-04-22T11:09:21.982Z"
   },
   {
    "duration": 24,
    "start_time": "2023-04-22T11:09:22.702Z"
   },
   {
    "duration": 338,
    "start_time": "2023-04-22T11:09:27.943Z"
   },
   {
    "duration": 1268,
    "start_time": "2023-04-22T11:09:45.849Z"
   },
   {
    "duration": 56,
    "start_time": "2023-04-22T11:09:47.119Z"
   },
   {
    "duration": 23,
    "start_time": "2023-04-22T11:09:47.177Z"
   },
   {
    "duration": 20,
    "start_time": "2023-04-22T11:09:47.203Z"
   },
   {
    "duration": 26,
    "start_time": "2023-04-22T11:09:47.224Z"
   },
   {
    "duration": 4,
    "start_time": "2023-04-22T11:09:47.251Z"
   },
   {
    "duration": 60,
    "start_time": "2023-04-22T11:09:47.257Z"
   },
   {
    "duration": 24,
    "start_time": "2023-04-22T11:09:47.321Z"
   },
   {
    "duration": 9,
    "start_time": "2023-04-22T11:09:47.346Z"
   },
   {
    "duration": 6,
    "start_time": "2023-04-22T11:09:47.358Z"
   },
   {
    "duration": 24,
    "start_time": "2023-04-22T11:09:47.365Z"
   },
   {
    "duration": 32,
    "start_time": "2023-04-22T11:09:47.391Z"
   },
   {
    "duration": 4,
    "start_time": "2023-04-22T11:09:47.425Z"
   },
   {
    "duration": 259,
    "start_time": "2023-04-22T11:09:47.430Z"
   },
   {
    "duration": 6,
    "start_time": "2023-04-22T11:09:47.690Z"
   },
   {
    "duration": 230,
    "start_time": "2023-04-22T11:09:47.698Z"
   },
   {
    "duration": 10,
    "start_time": "2023-04-22T11:09:47.930Z"
   },
   {
    "duration": 243,
    "start_time": "2023-04-22T11:09:47.942Z"
   },
   {
    "duration": 13,
    "start_time": "2023-04-22T11:09:48.189Z"
   },
   {
    "duration": 244,
    "start_time": "2023-04-22T11:09:48.207Z"
   },
   {
    "duration": 13,
    "start_time": "2023-04-22T11:09:48.456Z"
   },
   {
    "duration": 36,
    "start_time": "2023-04-22T11:09:48.471Z"
   },
   {
    "duration": 5,
    "start_time": "2023-04-22T11:09:48.509Z"
   },
   {
    "duration": 6,
    "start_time": "2023-04-22T11:09:48.516Z"
   },
   {
    "duration": 5,
    "start_time": "2023-04-22T11:09:48.525Z"
   },
   {
    "duration": 21,
    "start_time": "2023-04-22T11:09:48.532Z"
   },
   {
    "duration": 46,
    "start_time": "2023-04-22T11:09:48.556Z"
   },
   {
    "duration": 17,
    "start_time": "2023-04-22T11:09:48.610Z"
   },
   {
    "duration": 11,
    "start_time": "2023-04-22T11:09:48.629Z"
   },
   {
    "duration": 59,
    "start_time": "2023-04-22T11:09:48.642Z"
   },
   {
    "duration": 220,
    "start_time": "2023-04-22T11:09:48.704Z"
   },
   {
    "duration": 19,
    "start_time": "2023-04-22T11:09:48.927Z"
   },
   {
    "duration": 17,
    "start_time": "2023-04-22T11:09:48.948Z"
   },
   {
    "duration": 29,
    "start_time": "2023-04-22T11:09:48.967Z"
   },
   {
    "duration": 41,
    "start_time": "2023-04-22T11:09:48.998Z"
   },
   {
    "duration": 18,
    "start_time": "2023-04-22T11:09:49.041Z"
   },
   {
    "duration": 33,
    "start_time": "2023-04-22T11:09:49.061Z"
   },
   {
    "duration": 7,
    "start_time": "2023-04-22T11:09:49.104Z"
   },
   {
    "duration": 11,
    "start_time": "2023-04-22T11:09:49.114Z"
   },
   {
    "duration": 24,
    "start_time": "2023-04-22T11:09:49.127Z"
   },
   {
    "duration": 47,
    "start_time": "2023-04-22T11:09:49.153Z"
   },
   {
    "duration": 5,
    "start_time": "2023-04-22T11:09:49.205Z"
   },
   {
    "duration": 35,
    "start_time": "2023-04-22T11:09:49.213Z"
   },
   {
    "duration": 16,
    "start_time": "2023-04-22T11:09:49.250Z"
   },
   {
    "duration": 39,
    "start_time": "2023-04-22T11:09:49.268Z"
   },
   {
    "duration": 5,
    "start_time": "2023-04-22T11:09:49.309Z"
   },
   {
    "duration": 200,
    "start_time": "2023-04-22T11:09:49.316Z"
   },
   {
    "duration": 296,
    "start_time": "2023-04-22T11:09:49.518Z"
   },
   {
    "duration": 448,
    "start_time": "2023-04-22T11:09:49.816Z"
   },
   {
    "duration": 5,
    "start_time": "2023-04-22T11:09:50.266Z"
   },
   {
    "duration": 14,
    "start_time": "2023-04-22T11:09:50.284Z"
   },
   {
    "duration": 7,
    "start_time": "2023-04-22T11:09:50.300Z"
   },
   {
    "duration": 30,
    "start_time": "2023-04-22T11:09:50.309Z"
   },
   {
    "duration": 400,
    "start_time": "2023-04-22T11:09:50.341Z"
   },
   {
    "duration": 3,
    "start_time": "2023-04-22T11:09:50.744Z"
   },
   {
    "duration": 8,
    "start_time": "2023-04-22T11:09:50.750Z"
   },
   {
    "duration": 223,
    "start_time": "2023-04-22T11:09:50.759Z"
   },
   {
    "duration": 13,
    "start_time": "2023-04-22T11:09:50.985Z"
   },
   {
    "duration": 319,
    "start_time": "2023-04-22T11:09:51.000Z"
   },
   {
    "duration": 27,
    "start_time": "2023-04-22T11:09:51.321Z"
   },
   {
    "duration": 13,
    "start_time": "2023-04-22T11:09:51.350Z"
   },
   {
    "duration": 246,
    "start_time": "2023-04-22T11:09:51.390Z"
   },
   {
    "duration": 7,
    "start_time": "2023-04-22T11:09:51.638Z"
   },
   {
    "duration": 29,
    "start_time": "2023-04-22T11:09:51.647Z"
   },
   {
    "duration": 224,
    "start_time": "2023-04-22T11:09:51.689Z"
   },
   {
    "duration": 6,
    "start_time": "2023-04-22T11:09:51.915Z"
   },
   {
    "duration": 13,
    "start_time": "2023-04-22T11:09:51.922Z"
   },
   {
    "duration": 17,
    "start_time": "2023-04-22T11:09:51.936Z"
   },
   {
    "duration": 34,
    "start_time": "2023-04-22T11:09:51.955Z"
   },
   {
    "duration": 228,
    "start_time": "2023-04-22T11:09:51.990Z"
   },
   {
    "duration": 5,
    "start_time": "2023-04-22T11:09:52.220Z"
   },
   {
    "duration": 16,
    "start_time": "2023-04-22T11:09:52.226Z"
   },
   {
    "duration": 233,
    "start_time": "2023-04-22T11:09:52.243Z"
   },
   {
    "duration": 17,
    "start_time": "2023-04-22T11:09:52.477Z"
   },
   {
    "duration": 230,
    "start_time": "2023-04-22T11:09:52.500Z"
   },
   {
    "duration": 5,
    "start_time": "2023-04-22T11:09:52.732Z"
   },
   {
    "duration": 9,
    "start_time": "2023-04-22T11:09:52.739Z"
   },
   {
    "duration": 255,
    "start_time": "2023-04-22T11:09:52.750Z"
   },
   {
    "duration": 6,
    "start_time": "2023-04-22T11:09:53.007Z"
   },
   {
    "duration": 310,
    "start_time": "2023-04-22T11:09:53.014Z"
   },
   {
    "duration": 6,
    "start_time": "2023-04-22T11:09:53.326Z"
   },
   {
    "duration": 24,
    "start_time": "2023-04-22T11:09:53.338Z"
   },
   {
    "duration": 15,
    "start_time": "2023-04-22T11:09:53.387Z"
   },
   {
    "duration": 267,
    "start_time": "2023-04-22T11:09:53.404Z"
   },
   {
    "duration": 269,
    "start_time": "2023-04-22T11:09:53.672Z"
   },
   {
    "duration": 321,
    "start_time": "2023-04-22T11:09:53.949Z"
   },
   {
    "duration": 42,
    "start_time": "2023-04-22T11:09:54.273Z"
   },
   {
    "duration": 20,
    "start_time": "2023-04-22T11:09:54.318Z"
   },
   {
    "duration": 7,
    "start_time": "2023-04-22T11:09:54.340Z"
   },
   {
    "duration": 7,
    "start_time": "2023-04-22T11:09:54.349Z"
   },
   {
    "duration": 45,
    "start_time": "2023-04-22T11:09:54.358Z"
   },
   {
    "duration": 15,
    "start_time": "2023-04-22T11:09:54.405Z"
   },
   {
    "duration": 18,
    "start_time": "2023-04-22T11:09:54.422Z"
   },
   {
    "duration": 4,
    "start_time": "2023-04-22T11:09:54.442Z"
   },
   {
    "duration": 8,
    "start_time": "2023-04-22T11:09:54.448Z"
   },
   {
    "duration": 31,
    "start_time": "2023-04-22T11:09:54.458Z"
   },
   {
    "duration": 22,
    "start_time": "2023-04-22T11:09:54.496Z"
   },
   {
    "duration": 13,
    "start_time": "2023-04-22T11:09:54.519Z"
   },
   {
    "duration": 12,
    "start_time": "2023-04-22T11:09:54.535Z"
   },
   {
    "duration": 13,
    "start_time": "2023-04-22T11:09:54.549Z"
   },
   {
    "duration": 345,
    "start_time": "2023-04-22T11:09:54.563Z"
   },
   {
    "duration": 26,
    "start_time": "2023-04-22T11:09:54.910Z"
   },
   {
    "duration": 9,
    "start_time": "2023-04-22T11:09:54.938Z"
   },
   {
    "duration": 9,
    "start_time": "2023-04-22T11:09:54.949Z"
   },
   {
    "duration": 40,
    "start_time": "2023-04-22T11:09:54.960Z"
   },
   {
    "duration": 5,
    "start_time": "2023-04-22T11:09:55.002Z"
   },
   {
    "duration": 27,
    "start_time": "2023-04-22T11:09:55.009Z"
   },
   {
    "duration": 9,
    "start_time": "2023-04-22T11:09:55.038Z"
   },
   {
    "duration": 9,
    "start_time": "2023-04-22T11:09:55.049Z"
   },
   {
    "duration": 7,
    "start_time": "2023-04-22T11:12:37.565Z"
   },
   {
    "duration": 1242,
    "start_time": "2023-04-22T11:15:45.410Z"
   },
   {
    "duration": 56,
    "start_time": "2023-04-22T11:15:46.655Z"
   },
   {
    "duration": 20,
    "start_time": "2023-04-22T11:15:46.713Z"
   },
   {
    "duration": 22,
    "start_time": "2023-04-22T11:15:46.735Z"
   },
   {
    "duration": 36,
    "start_time": "2023-04-22T11:15:46.759Z"
   },
   {
    "duration": 4,
    "start_time": "2023-04-22T11:15:46.797Z"
   },
   {
    "duration": 30,
    "start_time": "2023-04-22T11:15:46.804Z"
   },
   {
    "duration": 23,
    "start_time": "2023-04-22T11:15:46.835Z"
   },
   {
    "duration": 27,
    "start_time": "2023-04-22T11:15:46.860Z"
   },
   {
    "duration": 7,
    "start_time": "2023-04-22T11:15:46.889Z"
   },
   {
    "duration": 14,
    "start_time": "2023-04-22T11:15:46.898Z"
   },
   {
    "duration": 49,
    "start_time": "2023-04-22T11:15:46.915Z"
   },
   {
    "duration": 8,
    "start_time": "2023-04-22T11:15:46.965Z"
   },
   {
    "duration": 230,
    "start_time": "2023-04-22T11:15:46.977Z"
   },
   {
    "duration": 6,
    "start_time": "2023-04-22T11:15:47.208Z"
   },
   {
    "duration": 215,
    "start_time": "2023-04-22T11:15:47.216Z"
   },
   {
    "duration": 10,
    "start_time": "2023-04-22T11:15:47.433Z"
   },
   {
    "duration": 272,
    "start_time": "2023-04-22T11:15:47.445Z"
   },
   {
    "duration": 11,
    "start_time": "2023-04-22T11:15:47.720Z"
   },
   {
    "duration": 267,
    "start_time": "2023-04-22T11:15:47.733Z"
   },
   {
    "duration": 9,
    "start_time": "2023-04-22T11:15:48.001Z"
   },
   {
    "duration": 23,
    "start_time": "2023-04-22T11:15:48.012Z"
   },
   {
    "duration": 21,
    "start_time": "2023-04-22T11:15:48.037Z"
   },
   {
    "duration": 15,
    "start_time": "2023-04-22T11:15:48.060Z"
   },
   {
    "duration": 7,
    "start_time": "2023-04-22T11:15:48.078Z"
   },
   {
    "duration": 22,
    "start_time": "2023-04-22T11:15:48.087Z"
   },
   {
    "duration": 16,
    "start_time": "2023-04-22T11:15:48.111Z"
   },
   {
    "duration": 29,
    "start_time": "2023-04-22T11:15:48.129Z"
   },
   {
    "duration": 14,
    "start_time": "2023-04-22T11:15:48.161Z"
   },
   {
    "duration": 39,
    "start_time": "2023-04-22T11:15:48.178Z"
   },
   {
    "duration": 210,
    "start_time": "2023-04-22T11:15:48.219Z"
   },
   {
    "duration": 20,
    "start_time": "2023-04-22T11:15:48.431Z"
   },
   {
    "duration": 40,
    "start_time": "2023-04-22T11:15:48.453Z"
   },
   {
    "duration": 6,
    "start_time": "2023-04-22T11:15:48.495Z"
   },
   {
    "duration": 24,
    "start_time": "2023-04-22T11:15:48.503Z"
   },
   {
    "duration": 33,
    "start_time": "2023-04-22T11:15:48.529Z"
   },
   {
    "duration": 21,
    "start_time": "2023-04-22T11:15:48.564Z"
   },
   {
    "duration": 8,
    "start_time": "2023-04-22T11:15:48.588Z"
   },
   {
    "duration": 9,
    "start_time": "2023-04-22T11:15:48.598Z"
   },
   {
    "duration": 27,
    "start_time": "2023-04-22T11:15:48.609Z"
   },
   {
    "duration": 49,
    "start_time": "2023-04-22T11:15:48.646Z"
   },
   {
    "duration": 6,
    "start_time": "2023-04-22T11:15:48.697Z"
   },
   {
    "duration": 7,
    "start_time": "2023-04-22T11:15:48.705Z"
   },
   {
    "duration": 6,
    "start_time": "2023-04-22T11:15:48.714Z"
   },
   {
    "duration": 13,
    "start_time": "2023-04-22T11:15:48.722Z"
   },
   {
    "duration": 5,
    "start_time": "2023-04-22T11:15:48.737Z"
   },
   {
    "duration": 237,
    "start_time": "2023-04-22T11:15:48.744Z"
   },
   {
    "duration": 273,
    "start_time": "2023-04-22T11:15:48.986Z"
   },
   {
    "duration": 414,
    "start_time": "2023-04-22T11:15:49.261Z"
   },
   {
    "duration": 10,
    "start_time": "2023-04-22T11:15:49.678Z"
   },
   {
    "duration": 7,
    "start_time": "2023-04-22T11:15:49.690Z"
   },
   {
    "duration": 12,
    "start_time": "2023-04-22T11:15:49.698Z"
   },
   {
    "duration": 27,
    "start_time": "2023-04-22T11:15:49.712Z"
   },
   {
    "duration": 392,
    "start_time": "2023-04-22T11:15:49.741Z"
   },
   {
    "duration": 2,
    "start_time": "2023-04-22T11:15:50.135Z"
   },
   {
    "duration": 14,
    "start_time": "2023-04-22T11:15:50.139Z"
   },
   {
    "duration": 194,
    "start_time": "2023-04-22T11:15:50.155Z"
   },
   {
    "duration": 5,
    "start_time": "2023-04-22T11:15:50.351Z"
   },
   {
    "duration": 300,
    "start_time": "2023-04-22T11:15:50.357Z"
   },
   {
    "duration": 54,
    "start_time": "2023-04-22T11:15:50.659Z"
   },
   {
    "duration": 20,
    "start_time": "2023-04-22T11:15:50.715Z"
   },
   {
    "duration": 250,
    "start_time": "2023-04-22T11:15:50.737Z"
   },
   {
    "duration": 8,
    "start_time": "2023-04-22T11:15:50.989Z"
   },
   {
    "duration": 28,
    "start_time": "2023-04-22T11:15:50.998Z"
   },
   {
    "duration": 226,
    "start_time": "2023-04-22T11:15:51.028Z"
   },
   {
    "duration": 7,
    "start_time": "2023-04-22T11:15:51.255Z"
   },
   {
    "duration": 22,
    "start_time": "2023-04-22T11:15:51.263Z"
   },
   {
    "duration": 7,
    "start_time": "2023-04-22T11:15:51.287Z"
   },
   {
    "duration": 16,
    "start_time": "2023-04-22T11:15:51.295Z"
   },
   {
    "duration": 246,
    "start_time": "2023-04-22T11:15:51.313Z"
   },
   {
    "duration": 5,
    "start_time": "2023-04-22T11:15:51.561Z"
   },
   {
    "duration": 20,
    "start_time": "2023-04-22T11:15:51.568Z"
   },
   {
    "duration": 207,
    "start_time": "2023-04-22T11:15:51.591Z"
   },
   {
    "duration": 9,
    "start_time": "2023-04-22T11:15:51.801Z"
   },
   {
    "duration": 224,
    "start_time": "2023-04-22T11:15:51.813Z"
   },
   {
    "duration": 6,
    "start_time": "2023-04-22T11:15:52.039Z"
   },
   {
    "duration": 5,
    "start_time": "2023-04-22T11:15:52.048Z"
   },
   {
    "duration": 216,
    "start_time": "2023-04-22T11:15:52.055Z"
   },
   {
    "duration": 14,
    "start_time": "2023-04-22T11:15:52.273Z"
   },
   {
    "duration": 307,
    "start_time": "2023-04-22T11:15:52.289Z"
   },
   {
    "duration": 6,
    "start_time": "2023-04-22T11:15:52.598Z"
   },
   {
    "duration": 24,
    "start_time": "2023-04-22T11:15:52.606Z"
   },
   {
    "duration": 9,
    "start_time": "2023-04-22T11:15:52.632Z"
   },
   {
    "duration": 282,
    "start_time": "2023-04-22T11:15:52.643Z"
   },
   {
    "duration": 265,
    "start_time": "2023-04-22T11:15:52.927Z"
   },
   {
    "duration": 255,
    "start_time": "2023-04-22T11:15:53.194Z"
   },
   {
    "duration": 37,
    "start_time": "2023-04-22T11:15:53.450Z"
   },
   {
    "duration": 23,
    "start_time": "2023-04-22T11:15:53.489Z"
   },
   {
    "duration": 9,
    "start_time": "2023-04-22T11:15:53.513Z"
   },
   {
    "duration": 6,
    "start_time": "2023-04-22T11:15:53.524Z"
   },
   {
    "duration": 54,
    "start_time": "2023-04-22T11:15:53.532Z"
   },
   {
    "duration": 13,
    "start_time": "2023-04-22T11:15:53.588Z"
   },
   {
    "duration": 15,
    "start_time": "2023-04-22T11:15:53.603Z"
   },
   {
    "duration": 3,
    "start_time": "2023-04-22T11:15:53.620Z"
   },
   {
    "duration": 8,
    "start_time": "2023-04-22T11:15:53.625Z"
   },
   {
    "duration": 51,
    "start_time": "2023-04-22T11:15:53.635Z"
   },
   {
    "duration": 10,
    "start_time": "2023-04-22T11:15:53.689Z"
   },
   {
    "duration": 16,
    "start_time": "2023-04-22T11:15:53.702Z"
   },
   {
    "duration": 13,
    "start_time": "2023-04-22T11:15:53.720Z"
   },
   {
    "duration": 50,
    "start_time": "2023-04-22T11:15:53.735Z"
   },
   {
    "duration": 362,
    "start_time": "2023-04-22T11:15:53.788Z"
   },
   {
    "duration": 41,
    "start_time": "2023-04-22T11:15:54.153Z"
   },
   {
    "duration": 8,
    "start_time": "2023-04-22T11:15:54.196Z"
   },
   {
    "duration": 12,
    "start_time": "2023-04-22T11:15:54.205Z"
   },
   {
    "duration": 9,
    "start_time": "2023-04-22T11:15:54.219Z"
   },
   {
    "duration": 11,
    "start_time": "2023-04-22T11:15:54.229Z"
   },
   {
    "duration": 59,
    "start_time": "2023-04-22T11:15:54.243Z"
   },
   {
    "duration": 8,
    "start_time": "2023-04-22T11:15:54.304Z"
   },
   {
    "duration": 7,
    "start_time": "2023-04-22T11:15:54.314Z"
   },
   {
    "duration": 7,
    "start_time": "2023-04-22T11:15:54.322Z"
   },
   {
    "duration": 56,
    "start_time": "2023-04-22T11:15:54.331Z"
   },
   {
    "duration": 3,
    "start_time": "2023-04-22T11:15:54.389Z"
   },
   {
    "duration": 10,
    "start_time": "2023-04-22T11:15:54.394Z"
   },
   {
    "duration": 7,
    "start_time": "2023-04-22T11:15:54.406Z"
   },
   {
    "duration": 9,
    "start_time": "2023-04-22T11:15:54.414Z"
   },
   {
    "duration": 7,
    "start_time": "2023-04-22T11:15:54.425Z"
   },
   {
    "duration": 11,
    "start_time": "2023-04-22T11:15:54.434Z"
   },
   {
    "duration": 649,
    "start_time": "2023-04-22T11:15:54.447Z"
   },
   {
    "duration": 725,
    "start_time": "2023-04-22T11:15:55.097Z"
   },
   {
    "duration": 622,
    "start_time": "2023-04-22T11:15:55.824Z"
   },
   {
    "duration": 675,
    "start_time": "2023-04-22T11:15:56.448Z"
   }
  ],
  "kernelspec": {
   "display_name": "Python 3 (ipykernel)",
   "language": "python",
   "name": "python3"
  },
  "language_info": {
   "codemirror_mode": {
    "name": "ipython",
    "version": 3
   },
   "file_extension": ".py",
   "mimetype": "text/x-python",
   "name": "python",
   "nbconvert_exporter": "python",
   "pygments_lexer": "ipython3",
   "version": "3.10.9"
  },
  "toc": {
   "base_numbering": 1,
   "nav_menu": {},
   "number_sections": true,
   "sideBar": true,
   "skip_h1_title": true,
   "title_cell": "Table of Contents",
   "title_sidebar": "Contents",
   "toc_cell": false,
   "toc_position": {},
   "toc_section_display": true,
   "toc_window_display": true
  }
 },
 "nbformat": 4,
 "nbformat_minor": 5
}
